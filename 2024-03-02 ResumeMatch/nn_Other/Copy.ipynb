{
 "cells": [
  {
   "cell_type": "markdown",
   "metadata": {
    "id": "VstRPNSEnSDs"
   },
   "source": [
    "# <font color=Blue size=\"6\">For Hackathon: Resume Best Match</font>\n",
    "<hr size=\"100\" noshade>"
   ]
  },
  {
   "cell_type": "markdown",
   "metadata": {},
   "source": [
    "## <font color=\"Black\">Contents</font>"
   ]
  },
  {
   "cell_type": "markdown",
   "metadata": {},
   "source": [
    "<a id=Step_01></a>"
   ]
  },
  {
   "cell_type": "markdown",
   "metadata": {
    "id": "X2QTd8Iwy9Ty"
   },
   "source": [
    "## <font color=Green>Step-01: Global Functions.</font>"
   ]
  },
  {
   "cell_type": "markdown",
   "metadata": {},
   "source": [
    "<a id=Step_01_Py></a>"
   ]
  },
  {
   "cell_type": "markdown",
   "metadata": {
    "id": "X2QTd8Iwy9Ty"
   },
   "source": [
    "### <font color=Red>Python Libraries.</font>"
   ]
  },
  {
   "cell_type": "code",
   "execution_count": 1,
   "metadata": {},
   "outputs": [],
   "source": [
    "# None."
   ]
  },
  {
   "cell_type": "markdown",
   "metadata": {},
   "source": [
    "<a id=Step_01_Co></a>"
   ]
  },
  {
   "cell_type": "markdown",
   "metadata": {
    "id": "X2QTd8Iwy9Ty"
   },
   "source": [
    "### <font color=Red>Constants.</font>"
   ]
  },
  {
   "cell_type": "code",
   "execution_count": 2,
   "metadata": {},
   "outputs": [],
   "source": [
    "# None."
   ]
  },
  {
   "cell_type": "markdown",
   "metadata": {},
   "source": [
    "<a id=Step_01_Va></a>"
   ]
  },
  {
   "cell_type": "markdown",
   "metadata": {
    "id": "X2QTd8Iwy9Ty"
   },
   "source": [
    "### <font color=Red>Variables.</font>"
   ]
  },
  {
   "cell_type": "code",
   "execution_count": 3,
   "metadata": {},
   "outputs": [],
   "source": [
    "# None."
   ]
  },
  {
   "cell_type": "markdown",
   "metadata": {},
   "source": [
    "<a id=Step_01_Ma></a>"
   ]
  },
  {
   "cell_type": "markdown",
   "metadata": {
    "id": "X2QTd8Iwy9Ty"
   },
   "source": [
    "### <font color=Red>Main Code.</font>"
   ]
  },
  {
   "cell_type": "code",
   "execution_count": 4,
   "metadata": {},
   "outputs": [],
   "source": [
    "def GetLowerCaseText(Text):\n",
    "    \"\"\"\n",
    "    Definition: User Defined Function (UDF) to clean-up the text.\n",
    "    Input: Raw text.\n",
    "    Output: Cleaned-up text.\n",
    "    \"\"\"\n",
    "    \n",
    "    \n",
    "    # Convert the given text to lower case.\n",
    "    # Text = [Word.lower() for Word in Text]\n",
    "    Text = Text.lower()\n",
    "    \n",
    "    \n",
    "    return Text"
   ]
  },
  {
   "cell_type": "code",
   "execution_count": 5,
   "metadata": {},
   "outputs": [],
   "source": [
    "def GetNonasciiFreeText(Text):\n",
    "    \"\"\"\n",
    "    Definition: User Defined Function (UDF) to clean-up the text.\n",
    "    Input: Raw text.\n",
    "    Output: Cleaned-up text.\n",
    "    \"\"\"\n",
    "    \n",
    "    \n",
    "    # Replace all the non-ASCII characters with a space character in the given text.\n",
    "    Pattern = re.compile(r'[^\\x00-\\x7F]+', flags=re.I)\n",
    "    Text = re.sub(Pattern, ' ', Text)\n",
    "    \n",
    "    \n",
    "    return Text"
   ]
  },
  {
   "cell_type": "code",
   "execution_count": 6,
   "metadata": {},
   "outputs": [],
   "source": [
    "def GetSpecialcharFreeText(Text):\n",
    "    \"\"\"\n",
    "    Definition: User Defined Function (UDF) to clean-up the text.\n",
    "    Input: Raw text.\n",
    "    Output: Cleaned-up text.\n",
    "    \"\"\"\n",
    "    \n",
    "    \n",
    "    # Remove all the special characters in the given text.\n",
    "    for Specialchar in SpecialcharList:\n",
    "        Text = Text.replace(Specialchar, ' ')\n",
    "    \n",
    "    \n",
    "    return Text"
   ]
  },
  {
   "cell_type": "code",
   "execution_count": 7,
   "metadata": {},
   "outputs": [],
   "source": [
    "def RemoveNonalphabetWords(Text):\n",
    "    \"\"\"\n",
    "    Definition: User Defined Function (UDF) to clean-up the text.\n",
    "    Input: Raw text.\n",
    "    Output: Cleaned-up text.\n",
    "    \"\"\"\n",
    "    \n",
    "    \n",
    "    # Remove all the non-alphabet words in the given text.\n",
    "    Text = ' '.join( [Word for Word in Text.split() if Word.isalpha()] )\n",
    "    \n",
    "    \n",
    "    return Text"
   ]
  },
  {
   "cell_type": "code",
   "execution_count": 8,
   "metadata": {},
   "outputs": [],
   "source": [
    "def RemoveStopWords(Text):\n",
    "    \"\"\"\n",
    "    Definition: User Defined Function (UDF) to clean-up the text.\n",
    "    Input: Raw text.\n",
    "    Output: Cleaned-up text.\n",
    "    \"\"\"\n",
    "    \n",
    "    \n",
    "    # Get the list of the NLTK English stop words.\n",
    "    StopWords = set(stopwords.words('english'))\n",
    "    \n",
    "    # Remove all the NLTK English stop words in the given text.\n",
    "    Text = ' '.join( [Word for Word in Text.split() if Word not in StopWords] )\n",
    "    \n",
    "    \n",
    "    return Text"
   ]
  },
  {
   "cell_type": "code",
   "execution_count": 9,
   "metadata": {},
   "outputs": [],
   "source": [
    "def KeepWordsofLength(Text):\n",
    "    \"\"\"\n",
    "    Definition: User Defined Function (UDF) to clean-up the text.\n",
    "    Input: Raw text.\n",
    "    Output: Cleaned-up text.\n",
    "    \"\"\"\n",
    "    \n",
    "    \n",
    "    # Remove all the words with length less than a specific value in the given text.\n",
    "    # (or)\n",
    "    # Keep all the words with length greater than or equal to a specific value from the given text.\n",
    "    Text = ' '.join( [Word for Word in Text.split() if len(Word) >= WORD_LENGTH_TO_KEEP] )\n",
    "    \n",
    "    \n",
    "    return Text"
   ]
  },
  {
   "cell_type": "code",
   "execution_count": 10,
   "metadata": {},
   "outputs": [],
   "source": [
    "def RemoveCommonWords(Text):\n",
    "    \"\"\"\n",
    "    Definition: User Defined Function (UDF) to clean-up the text.\n",
    "    Input: Raw text.\n",
    "    Output: Cleaned-up text.\n",
    "    \"\"\"\n",
    "    \n",
    "    \n",
    "    # Remove all the commonly used words between/among the classes in the given text.\n",
    "    # The idea is, if there are common words between/among the classes,\n",
    "    # the algorithm gets confused and the accuracy score will go down.\n",
    "    Text = ' '.join( [Word for Word in Text.split() if Word not in CommonWordSet] )\n",
    "    \n",
    "    \n",
    "    return Text"
   ]
  },
  {
   "cell_type": "code",
   "execution_count": 11,
   "metadata": {},
   "outputs": [],
   "source": [
    "def RemoveNoWeightWords(Text):\n",
    "    \"\"\"\n",
    "    Definition: User Defined Function (UDF) to clean-up the text.\n",
    "    Input: Raw text.\n",
    "    Output: Cleaned-up text.\n",
    "    \"\"\"\n",
    "    \n",
    "    \n",
    "    # Remove all the user specific (or) project specific (or) ..... and so on specific \n",
    "    # words which carry no weightage in the given text.\n",
    "    Text = ' '.join( [Word for Word in Text.split() if Word not in NoWeightWordList] )\n",
    "    \n",
    "    \n",
    "    return Text"
   ]
  },
  {
   "cell_type": "code",
   "execution_count": 12,
   "metadata": {},
   "outputs": [],
   "source": [
    "def GetWhitespaceFreeText(Text):\n",
    "    \"\"\"\n",
    "    Definition: User Defined Function (UDF) to clean-up the text.\n",
    "    Input: Raw text.\n",
    "    Output: Cleaned-up text.\n",
    "    \"\"\"\n",
    "    \n",
    "    \n",
    "    # Replace all the white space characters with a space character in the given text.\n",
    "    Pattern = re.compile(r'\\s+', flags=re.I)\n",
    "    Text = re.sub(Pattern, ' ', Text)\n",
    "    \n",
    "    # Substitute multiple spaces with single space.\n",
    "    Text = re.sub(r'\\s+', ' ', Text, flags=re.I)\n",
    "    \n",
    "    \n",
    "    return Text"
   ]
  },
  {
   "cell_type": "code",
   "execution_count": 13,
   "metadata": {},
   "outputs": [],
   "source": [
    "# def RemoveDuplicateWords(Text):\n",
    "#     \"\"\"\n",
    "#     Definition: User Defined Function (UDF) to clean-up the text.\n",
    "#     Input: Raw text.\n",
    "#     Output: Cleaned-up text.\n",
    "#     \"\"\"\n",
    "\n",
    "    \n",
    "#     # Note: For projects which require word frequency, please do not use this function.\n",
    "#     # Note: To remove duplicate elements in a list, we can use the Python's set concept.\n",
    "#     #       But, the set concept will not preserve the word order, which is important in this case.\n",
    "    \n",
    "#     # Remove the duplicate words in the given text.\n",
    "#     CheckList = list()\n",
    "#     TempList = Text.split(' ')\n",
    "#     [CheckList.append(Word) for Word in TempList if Word not in CheckList]\n",
    "#     Text = ' '.join(CheckList)\n",
    "    \n",
    "    \n",
    "#     return Text"
   ]
  },
  {
   "cell_type": "code",
   "execution_count": 14,
   "metadata": {},
   "outputs": [],
   "source": [
    "# def GetEmailidFreeText(Text):\n",
    "#     \"\"\"\n",
    "#     Definition: User Defined Function (UDF) to clean-up the text.\n",
    "#     Input: Raw text.\n",
    "#     Output: Cleaned-up text.\n",
    "#     \"\"\"\n",
    "    \n",
    "    \n",
    "#     # Remove all the Email IDs in the given text.\n",
    "#     Pattern = re.compile(r'[a-zA-Z0-9.-]+@[a-zA-Z-]+\\.(com|edu|net)', flags=re.I)\n",
    "#     Text = re.sub(Pattern, ' ', Text)\n",
    "    \n",
    "    \n",
    "#     return Text"
   ]
  },
  {
   "cell_type": "code",
   "execution_count": 15,
   "metadata": {},
   "outputs": [],
   "source": [
    "# def GetUnderscoreFreeText(Text):\n",
    "#     \"\"\"\n",
    "#     Definition: User Defined Function (UDF) to clean-up the text.\n",
    "#     Input: Raw text.\n",
    "#     Output: Cleaned-up text.\n",
    "#     \"\"\"\n",
    "    \n",
    "    \n",
    "#     # Remove all the words connected by Underscore character (Ex. \"hello_how_are_you\") in the given text.\n",
    "#     TempList = Text.split(' ')\n",
    "#     Text = ' '.join( [Word for Word in TempList if '_' not in Word] )\n",
    "    \n",
    "    \n",
    "#     return Text"
   ]
  },
  {
   "cell_type": "code",
   "execution_count": 16,
   "metadata": {},
   "outputs": [],
   "source": [
    "# def GetPunctuationFreeText(Text):\n",
    "#     \"\"\"\n",
    "#     Definition: User Defined Function (UDF) to clean-up the text.\n",
    "#     Input: Raw text.\n",
    "#     Output: Cleaned-up text.\n",
    "#     \"\"\"\n",
    "    \n",
    "    \n",
    "#     # Remove all the punctuation marks in the given text.\n",
    "#     Pattern = re.compile(\"\"\"!\"#$%&'()*+,-./:;<=>?@[\\]^_`{|}~\"\"\", flags=re.I)\n",
    "#     Text = re.sub('[%s]' % re.escape(Pattern), ' ', Text)\n",
    "    \n",
    "    \n",
    "#     return Text"
   ]
  },
  {
   "cell_type": "code",
   "execution_count": 17,
   "metadata": {},
   "outputs": [],
   "source": [
    "# def GetDigitFreeText(Text):\n",
    "#     \"\"\"\n",
    "#     Definition: User Defined Function (UDF) to clean-up the text.\n",
    "#     Input: Raw text.\n",
    "#     Output: Cleaned-up text.\n",
    "#     \"\"\"\n",
    "    \n",
    "    \n",
    "#     # Remove all the digits in the given text.\n",
    "#     Pattern = re.compile(r'[0-9]+', flags=re.I)\n",
    "#     Text = re.sub(Pattern, ' ', Text)\n",
    "    \n",
    "    \n",
    "#     return Text"
   ]
  },
  {
   "cell_type": "code",
   "execution_count": 18,
   "metadata": {
    "id": "z1bTo0UhpYa8"
   },
   "outputs": [],
   "source": [
    "def CleanupText(Text, *FunctionNames):\n",
    "    \"\"\"\n",
    "    Definition: User Defined Function (UDF) to clean-up the text.\n",
    "    Input: Raw text.\n",
    "    Output: Cleaned-up text.\n",
    "    \n",
    "    Note(s):\n",
    "      * Using variable-length parameters concept.\n",
    "      * Using function as a parameter.\n",
    "    \"\"\"\n",
    "    \n",
    "    \n",
    "    if len(FunctionNames):\n",
    "        for FunctionName in FunctionNames:\n",
    "            # Call specific function.\n",
    "            Text = FunctionName(Text)\n",
    "    \n",
    "    \n",
    "    return Text"
   ]
  },
  {
   "cell_type": "code",
   "execution_count": 19,
   "metadata": {
    "id": "HjLji1a8rcOa"
   },
   "outputs": [],
   "source": [
    "def PredictText(Model, Text):\n",
    "    \"\"\"\n",
    "    User Defined Function (UDF) to predict the Label, Class Probability (CP) from the given text.\n",
    "    Input: Model, Cleaned-up text.\n",
    "    Output: Predicted Label, Class Probability (CP).\n",
    "    \"\"\"\n",
    "    \n",
    "    \n",
    "    # User Defined Function (UDF) call to get the cleaned-up text.\n",
    "    # Note(s):\n",
    "    #   * Keep the 'GetWhitespaceFreeText' as the last function.\n",
    "    Text = CleanupText(Text, GetLowerCaseText, GetNonasciiFreeText, GetSpecialcharFreeText, \\\n",
    "                       RemoveNonalphabetWords, RemoveStopWords, KeepWordsofLength, \\\n",
    "                       RemoveCommonWords, RemoveNoWeightWords, GetWhitespaceFreeText)\n",
    "    \n",
    "    # Get the TF-IDF features of the cleaned-up text.\n",
    "    TfidfTestVectors  = TfIdfObject.transform([Text])\n",
    "\n",
    "    # Class label.\n",
    "    Prediction = Model.predict(TfidfTestVectors)[0]\n",
    "\n",
    "    \n",
    "    return Prediction, Cp"
   ]
  },
  {
   "cell_type": "markdown",
   "metadata": {},
   "source": [
    "<a href=\"#Contents\" style=\"float:right\">[Contents]</a>"
   ]
  },
  {
   "cell_type": "markdown",
   "metadata": {},
   "source": [
    "<a id=Step_02></a>"
   ]
  },
  {
   "cell_type": "markdown",
   "metadata": {
    "id": "X2QTd8Iwy9Ty"
   },
   "source": [
    "## <font color=Green>Step-02: Managing the Data.</font>"
   ]
  },
  {
   "cell_type": "markdown",
   "metadata": {},
   "source": [
    "<a id=Step_02_Py></a>"
   ]
  },
  {
   "cell_type": "markdown",
   "metadata": {
    "id": "X2QTd8Iwy9Ty"
   },
   "source": [
    "### <font color=Red>Python Libraries.</font>"
   ]
  },
  {
   "cell_type": "code",
   "execution_count": 20,
   "metadata": {
    "id": "Zu55FFRdBUZu"
   },
   "outputs": [],
   "source": [
    "# Basic imports.\n",
    "import re\n",
    "import time"
   ]
  },
  {
   "cell_type": "code",
   "execution_count": 21,
   "metadata": {},
   "outputs": [],
   "source": [
    "# MS-Excel related imports.\n",
    "import openpyxl\n",
    "from openpyxl import load_workbook"
   ]
  },
  {
   "cell_type": "code",
   "execution_count": 22,
   "metadata": {
    "colab": {
     "base_uri": "https://localhost:8080/"
    },
    "executionInfo": {
     "elapsed": 1419,
     "status": "ok",
     "timestamp": 1653444338990,
     "user": {
      "displayName": "Kalyana Varma Polapragada",
      "userId": "14326624661476973438"
     },
     "user_tz": -330
    },
    "id": "X2c6GCZWdpwY",
    "outputId": "c338e283-a2a8-466c-a215-d2fdb3b316d1"
   },
   "outputs": [],
   "source": [
    "# NLTK library imports.\n",
    "import nltk\n",
    "nltk.download('stopwords')\n",
    "from nltk.corpus import stopwords\n",
    "# nltk.download('wordnet')\n",
    "# nltk.download('punkt')\n",
    "# from nltk.tokenize import WordPunctTokenizer\n",
    "# from nltk.stem import WordNetLemmatizer\n",
    "# from nltk import sent_tokenize\n",
    "# from nltk import word_tokenize\n",
    "# from string import punctuation"
   ]
  },
  {
   "cell_type": "markdown",
   "metadata": {},
   "source": [
    "<a id=Step_02_Co></a>"
   ]
  },
  {
   "cell_type": "markdown",
   "metadata": {
    "id": "X2QTd8Iwy9Ty"
   },
   "source": [
    "### <font color=Red>Constants.</font>"
   ]
  },
  {
   "cell_type": "code",
   "execution_count": 23,
   "metadata": {},
   "outputs": [],
   "source": [
    "# Path and file(s).\n",
    "ROOT_PATH = r\"D:\\DataBackup\\Work\\2021-11-15 Kalyana@Wells Fargo\\2024-03-02 ResumeMatch\"\n",
    "INPUT_DATA_EXCEL_FILE_PATH = r\"D:\\DataBackup\\Work\\2021-11-15 Kalyana@Wells Fargo\\2024-03-02 ResumeMatch\\01_Input\\Data\"\n",
    "INPUT_DATA_EXCEL_FILE_NAME = r\"ResumeDataSet_TrainTest.xlsx\"\n",
    "OUTPUT_DATA_EXCEL_FILE_PATH = r\"D:\\DataBackup\\Work\\2021-11-15 Kalyana@Wells Fargo\\2024-03-02 ResumeMatch\\02_Process\"\n",
    "OUTPUT_DATA_EXCEL_FILE_NAME = r\"ResumeDataSet_Processed.xlsx\""
   ]
  },
  {
   "cell_type": "code",
   "execution_count": 24,
   "metadata": {},
   "outputs": [],
   "source": [
    "# Data file related.\n",
    "WORKSHEET_NAME = r\"ResumeDataSet\"\n",
    "\n",
    "# Column name for the cleaned-up text.\n",
    "CLEAN_TEXT_COL_NAME = \"CleanDescription\""
   ]
  },
  {
   "cell_type": "code",
   "execution_count": 25,
   "metadata": {},
   "outputs": [],
   "source": [
    "# Keep the words having length greater than or equal to this value.\n",
    "WORD_LENGTH_TO_KEEP = 3\n",
    "\n",
    "# To show top 'n' words.\n",
    "CHART_WORDS = 10"
   ]
  },
  {
   "cell_type": "markdown",
   "metadata": {},
   "source": [
    "<a id=Step_02_Va></a>"
   ]
  },
  {
   "cell_type": "markdown",
   "metadata": {
    "id": "X2QTd8Iwy9Ty"
   },
   "source": [
    "### <font color=Red>Variables.</font>"
   ]
  },
  {
   "cell_type": "code",
   "execution_count": 26,
   "metadata": {},
   "outputs": [
    {
     "name": "stdout",
     "output_type": "stream",
     "text": [
      "31\n"
     ]
    }
   ],
   "source": [
    "# All the special characters in the order of the ASCII chart.\n",
    "# Note(s):\n",
    "#   * Excluded the character '+', because we need the word 'C++'.\n",
    "SpecialcharList = ['!', '\"', '#', '$', '%', '&', \"'\", '(', ')', '*', ',', '-', '.', '/', ':', ';', '<', '=', '>', '?', '@', '[', '\\\\', ']', '^', '_', '`', '{', '|', '}', '~' ]\n",
    "\n",
    "# # Verify.\n",
    "# print(len(SpecialcharList))"
   ]
  },
  {
   "cell_type": "markdown",
   "metadata": {},
   "source": [
    "<a id=Step_02_Ma></a>"
   ]
  },
  {
   "cell_type": "markdown",
   "metadata": {
    "id": "X2QTd8Iwy9Ty"
   },
   "source": [
    "### <font color=Red>Main Code.</font>"
   ]
  },
  {
   "cell_type": "code",
   "execution_count": 27,
   "metadata": {},
   "outputs": [],
   "source": [
    "# Load the data file i.e. MS-Excel workbook.\n",
    "TmpPath = INPUT_DATA_EXCEL_FILE_PATH + r'\\\\' + INPUT_DATA_EXCEL_FILE_NAME\n",
    "Workbook = load_workbook(filename = TmpPath)\n",
    "time.sleep(2)\n",
    "\n",
    "# Select the 'Active' worksheet.\n",
    "Worksheet = Workbook.active"
   ]
  },
  {
   "cell_type": "code",
   "execution_count": 28,
   "metadata": {},
   "outputs": [
    {
     "name": "stdout",
     "output_type": "stream",
     "text": [
      "Min Row: 001, Min Col: 001\n",
      "Max Row: 331, Max Col: 005\n"
     ]
    }
   ],
   "source": [
    "# Get the number of rows and number of columns of the worksheet.\n",
    "MinRow = Worksheet.min_row\n",
    "MinCol = Worksheet.min_column\n",
    "MaxRow = Worksheet.max_row\n",
    "MaxCol = Worksheet.max_column\n",
    "\n",
    "# Verification.\n",
    "print(\"Min Row: {:03d}, Min Col: {:03d}\".format(MinRow, MinCol))\n",
    "print(\"Max Row: {:03d}, Max Col: {:03d}\".format(MaxRow, MaxCol))"
   ]
  },
  {
   "cell_type": "code",
   "execution_count": 29,
   "metadata": {},
   "outputs": [],
   "source": [
    "# Create a Column/Field for the cleaned-up text.\n",
    "Worksheet.cell(row = MinRow, column = MaxCol + 1).value = CLEAN_TEXT_COL_NAME\n",
    "\n",
    "# Iterate through worksheet's rows and columns by leaving the header row.\n",
    "# Get the resume text, clean it up and write into a new column of the same row.\n",
    "for Row in range(MinRow + 1, MaxRow + 1):\n",
    "    # Get the content of the cell i.e. resume text.\n",
    "    CellContent = Worksheet.cell(row = Row, column = MaxCol).value\n",
    "    \n",
    "    # User Defined Function (UDF) call to get the cleaned-up text.\n",
    "    # Note(s):\n",
    "    #   * Keep the 'GetWhitespaceFreeText' as the last function.\n",
    "    Text = CleanupText(CellContent, GetLowerCaseText, GetNonasciiFreeText, GetSpecialcharFreeText, \\\n",
    "                       RemoveNonalphabetWords, RemoveStopWords, KeepWordsofLength, \\\n",
    "                       GetWhitespaceFreeText)\n",
    "    \n",
    "    # Fill the rows of the Column/Field created for the cleaned-up text.\n",
    "    Worksheet.cell(row = Row, column = MaxCol + 1).value = Text\n",
    "    \n",
    "#     print(Text)\n",
    "#     print(\"==========\\n\")\n",
    "#     break"
   ]
  },
  {
   "cell_type": "code",
   "execution_count": 30,
   "metadata": {},
   "outputs": [],
   "source": [
    "# Save the data file i.e. MS-Excel workbook.\n",
    "TmpPath = OUTPUT_DATA_EXCEL_FILE_PATH + r'\\\\' + OUTPUT_DATA_EXCEL_FILE_NAME\n",
    "Workbook.save(filename = TmpPath)\n",
    "time.sleep(2)"
   ]
  },
  {
   "cell_type": "markdown",
   "metadata": {},
   "source": [
    "<a href=\"#Contents\" style=\"float:right\">[Contents]</a>"
   ]
  },
  {
   "cell_type": "markdown",
   "metadata": {},
   "source": [
    "<a id=Step_03></a>"
   ]
  },
  {
   "cell_type": "markdown",
   "metadata": {
    "id": "X2QTd8Iwy9Ty"
   },
   "source": [
    "## <font color=Green>Step-03: Processing the Data.</font>"
   ]
  },
  {
   "cell_type": "markdown",
   "metadata": {},
   "source": [
    "<a id=Step_03_Py></a>"
   ]
  },
  {
   "cell_type": "markdown",
   "metadata": {
    "id": "X2QTd8Iwy9Ty"
   },
   "source": [
    "### <font color=Red>Python Libraries.</font>"
   ]
  },
  {
   "cell_type": "code",
   "execution_count": 31,
   "metadata": {
    "id": "Zu55FFRdBUZu"
   },
   "outputs": [],
   "source": [
    "# Boiler plate imports.\n",
    "import numpy as np \n",
    "import pandas as pd"
   ]
  },
  {
   "cell_type": "code",
   "execution_count": 32,
   "metadata": {},
   "outputs": [],
   "source": [
    "# Visualization related imports.\n",
    "import matplotlib.pyplot as plt\n",
    "import seaborn as sns"
   ]
  },
  {
   "cell_type": "code",
   "execution_count": 33,
   "metadata": {},
   "outputs": [],
   "source": [
    "# Word cloud related imports.\n",
    "from wordcloud import WordCloud"
   ]
  },
  {
   "cell_type": "markdown",
   "metadata": {},
   "source": [
    "<a id=Step_03_Co></a>"
   ]
  },
  {
   "cell_type": "markdown",
   "metadata": {
    "id": "X2QTd8Iwy9Ty"
   },
   "source": [
    "### <font color=Red>Constants.</font>"
   ]
  },
  {
   "cell_type": "code",
   "execution_count": null,
   "metadata": {},
   "outputs": [],
   "source": [
    "# None."
   ]
  },
  {
   "cell_type": "markdown",
   "metadata": {},
   "source": [
    "<a id=Step_03_Va></a>"
   ]
  },
  {
   "cell_type": "markdown",
   "metadata": {
    "id": "X2QTd8Iwy9Ty"
   },
   "source": [
    "### <font color=Red>Variables.</font>"
   ]
  },
  {
   "cell_type": "code",
   "execution_count": null,
   "metadata": {},
   "outputs": [],
   "source": [
    "# Global variable to be used when testing with unseen data.\n",
    "UnseenDataRowsPerLabel = 0"
   ]
  },
  {
   "cell_type": "markdown",
   "metadata": {},
   "source": [
    "<a id=Step_04_Ma></a>"
   ]
  },
  {
   "cell_type": "markdown",
   "metadata": {
    "id": "X2QTd8Iwy9Ty"
   },
   "source": [
    "### <font color=Red>Main Code.</font>"
   ]
  },
  {
   "cell_type": "code",
   "execution_count": null,
   "metadata": {},
   "outputs": [],
   "source": [
    "# Load the data file(s).\n",
    "DataFile = OUTPUT_DATA_EXCEL_FILE_PATH + r'\\\\' + OUTPUT_DATA_EXCEL_FILE_NAME\n",
    "PdDf = pd.read_excel(DataFile, sheet_name = WORKSHEET_NAME, header = 0)"
   ]
  },
  {
   "cell_type": "markdown",
   "metadata": {},
   "source": [
    "<a href=\"#Contents\" style=\"float:right\">[Contents]</a>"
   ]
  },
  {
   "cell_type": "code",
   "execution_count": null,
   "metadata": {},
   "outputs": [],
   "source": []
  },
  {
   "cell_type": "code",
   "execution_count": null,
   "metadata": {},
   "outputs": [],
   "source": []
  },
  {
   "cell_type": "markdown",
   "metadata": {},
   "source": [
    "<a id=Step_02></a>"
   ]
  },
  {
   "cell_type": "markdown",
   "metadata": {
    "id": "X2QTd8Iwy9Ty"
   },
   "source": [
    "## <font color=Green>Step-02: Managing the Data.</font>"
   ]
  },
  {
   "cell_type": "markdown",
   "metadata": {},
   "source": [
    "<a id=Step_02_Py></a>"
   ]
  },
  {
   "cell_type": "markdown",
   "metadata": {
    "id": "X2QTd8Iwy9Ty"
   },
   "source": [
    "### <font color=Red>Python Libraries.</font>"
   ]
  },
  {
   "cell_type": "code",
   "execution_count": null,
   "metadata": {},
   "outputs": [],
   "source": [
    "# None."
   ]
  },
  {
   "cell_type": "markdown",
   "metadata": {},
   "source": [
    "<a id=Step_02_Co></a>"
   ]
  },
  {
   "cell_type": "markdown",
   "metadata": {
    "id": "X2QTd8Iwy9Ty"
   },
   "source": [
    "### <font color=Red>Constants.</font>"
   ]
  },
  {
   "cell_type": "code",
   "execution_count": null,
   "metadata": {},
   "outputs": [],
   "source": [
    "# None."
   ]
  },
  {
   "cell_type": "markdown",
   "metadata": {},
   "source": [
    "<a id=Step_02_Va></a>"
   ]
  },
  {
   "cell_type": "markdown",
   "metadata": {
    "id": "X2QTd8Iwy9Ty"
   },
   "source": [
    "### <font color=Red>Variables.</font>"
   ]
  },
  {
   "cell_type": "code",
   "execution_count": null,
   "metadata": {},
   "outputs": [],
   "source": [
    "# None."
   ]
  },
  {
   "cell_type": "markdown",
   "metadata": {},
   "source": [
    "<a id=Step_02_Ma></a>"
   ]
  },
  {
   "cell_type": "markdown",
   "metadata": {
    "id": "X2QTd8Iwy9Ty"
   },
   "source": [
    "### <font color=Red>Main Code.</font>"
   ]
  },
  {
   "cell_type": "code",
   "execution_count": null,
   "metadata": {},
   "outputs": [],
   "source": [
    "# None."
   ]
  },
  {
   "cell_type": "markdown",
   "metadata": {},
   "source": [
    "<a href=\"#Contents\" style=\"float:right\">[Contents]</a>"
   ]
  },
  {
   "cell_type": "code",
   "execution_count": null,
   "metadata": {},
   "outputs": [],
   "source": [
    "########################################################################"
   ]
  },
  {
   "cell_type": "code",
   "execution_count": null,
   "metadata": {},
   "outputs": [],
   "source": []
  },
  {
   "cell_type": "code",
   "execution_count": null,
   "metadata": {},
   "outputs": [],
   "source": []
  },
  {
   "cell_type": "code",
   "execution_count": null,
   "metadata": {},
   "outputs": [],
   "source": []
  },
  {
   "cell_type": "code",
   "execution_count": null,
   "metadata": {},
   "outputs": [],
   "source": []
  },
  {
   "cell_type": "code",
   "execution_count": null,
   "metadata": {},
   "outputs": [],
   "source": []
  },
  {
   "cell_type": "code",
   "execution_count": null,
   "metadata": {},
   "outputs": [],
   "source": []
  },
  {
   "cell_type": "code",
   "execution_count": null,
   "metadata": {},
   "outputs": [],
   "source": []
  },
  {
   "cell_type": "code",
   "execution_count": null,
   "metadata": {},
   "outputs": [],
   "source": []
  },
  {
   "cell_type": "code",
   "execution_count": null,
   "metadata": {},
   "outputs": [],
   "source": []
  },
  {
   "cell_type": "code",
   "execution_count": null,
   "metadata": {},
   "outputs": [],
   "source": [
    "########################################################################"
   ]
  },
  {
   "cell_type": "markdown",
   "metadata": {
    "id": "WrTFjUnIth77"
   },
   "source": [
    "<font font size=\"4\" color=Red>*Concepts Used in this Project: Types of Text Classification*</font>"
   ]
  },
  {
   "cell_type": "markdown",
   "metadata": {
    "id": "7NYi73kqnTvv"
   },
   "source": [
    "* Text classification is one of the fundamental tasks in natural language processing with broad applications such as:\n",
    "  * Topic Labeling: Another common example of text classification is topic labeling that is, understanding what a given text is talking about. It’s often used for structuring and organizing data, such as organizing customer feedback by topic or organizing news articles by subject.\n",
    "  * Intent detection: Intent detection or intent classification is another great use case for text classifi cationthat analyzes text to understand the reason behind feedback. Maybe it’s a complaint, ormaybe a customer is expressing intent to purchase a product. It’s used for customerservice, marketing email responses, generating product analytics and automating business practices. Intent detection with machine learning can read emails and chatbotconversations and automatically route them to the correct department. Some of the email intent classifier tags are Interested, Not Interested, Unsubscribe, Wrong Person, Email Bounce\n",
    "and Autoresponder.\n",
    "  * Sentiment Analysis: The most popular example of text classification is\n",
    "sentiment analysis (or) opinion mining. The automated process of reading a text for opinion polarity (positive, negative, neutral and beyond). Companies use sentiment classifiers on a wide range ofapplications like product analytics, brand monitoring, market research, customer support, workforce analytics and much more. Sentiment analysis allows us to automatically analyze all forms of text for the feeling and emotion.\n",
    "  * Language Detection: Language detection is another great example of text classification that is, the process ofclassifying incoming text according to its language. These text classifiers are often used for routing purposes (e.g., route support tickets according to their language to the appropriate team).\n",
    "  * Spam Detection.\n",
    "\n",
    "* Text classification can be done in two ways:\n",
    "  * Manual: Manual text classification involves a human annotator, who interprets the content of text and categorizes it accordingly. This method can deliver good results but it's time-consuming and expensive.\n",
    "  * Automatic: Automatic text classification applies Machine Learning,\n",
    "Natural Language Processing (NLP) and other AI-guided techniques\n",
    "to automatically classify text in a faster, more cost-eff ective and more accurate manner.\n",
    "\n",
    "* There are many approaches to automatic text classification but they all fall under three types of systems:\n",
    "  * Machine Learning-based Systems\n",
    "  * Rule-based Systems\n",
    "  * Hybrid Systems\n",
    "\n",
    "* Machine Learning-based Systems: Machine learning text classification learns to make classifications based on past observations. By using pre-labeled examples as training data, machine learning algorithms can learn the different associations between pieces of text and that a particular output (i.e., tags) is expected for a particular input(i.e., text). A “tag” is the pre-determined classification or category that any given text could fall into.\n",
    "\n",
    "  For example, if we have defined our dictionary to have the following words {This, is, the, not, awesome, bad, basketball}, and we wanted to vectorize the text “This is awesome”, we would have the following vector representation of that text: (1, 1, 0, 0, 1, 0, 0). Then, the machine learning algorithm is fed with training data that consists of pairs offeature sets (vectors for each text example) and tags (e.g. sports, politics) to produce aclassification model.\n",
    "\n",
    "* Text Classifi cation with Python: Python is usually the programming language of choice for developers and data scientist swho work with machine learning models. The simple syntax, its massive community and the scientific-computing friendliness of its mathematical libraries are some of the reasonswhy Python is so prevalent in the field.  Following are the popular Python libraries used in text classification:\n",
    "  * Scikit-learn\n",
    "  * NLTK\n",
    "  * SpaCy\n",
    "  * TensorFlow\n",
    "  * PyTorch\n",
    "\n",
    "* Link(s):<br>\n",
    "  https://monkeylearn.com/text-classification/\n",
    "\n",
    "* Multi-Class Classification: In multi-class classification, each input will have only one output class. For example, if we are building an animal classifier that classifies among Dog, Rabbit, Cat and Tiger, it makes sense only for one of these classes to be selected each time.\n",
    "* Multi-Label Classification: In multi-label classification, each input can have multi-output classes. For example, if we are building a model which predicts all the clothing articles a person is wearing, we can use a multi-label\n",
    "classification model since there can be more than one possible option at once i.e. a person can wear multiple clothing articles at a given point of time.\n",
    "* Link(s):<br>\n",
    "  https://www.analyticsvidhya.com/blog/2021/07/demystifying-the-difference-between-multi-class-and-multi-label-classification-problem-statements-in-deep-learning/"
   ]
  },
  {
   "cell_type": "markdown",
   "metadata": {
    "id": "eS70-NoZVBKk"
   },
   "source": [
    "<font font size=\"4\" color=Red>*Concepts Used in this Project: Cohen Kappa Score*</font>"
   ]
  },
  {
   "cell_type": "markdown",
   "metadata": {
    "id": "IczIlU3bmmIx"
   },
   "source": [
    "<b>Cohen Kappa Score:</b>\n",
    "* ≤ 0: No agreement.\n",
    "* 0.01 to 0.20: None to Slight.\n",
    "* 0.21 to 0.40: Fair.\n",
    "* 0.41 to 0.60: Moderate\n",
    "* 0.61 to 0.80: Substantial\n",
    "* 0.81 to 1.00: Almost perfect agreement.\n",
    "* Link(s):<br>\n",
    "  https://en.wikipedia.org/wiki/Cohen%27s_kappa"
   ]
  },
  {
   "cell_type": "markdown",
   "metadata": {
    "id": "tK61CTBuWg44"
   },
   "source": [
    "<font font size=\"4\" color=Red>*Concepts Used in this Project: Performace Metrics*</font>"
   ]
  },
  {
   "cell_type": "markdown",
   "metadata": {
    "id": "Qt8S1CaiW39Y"
   },
   "source": [
    "### <b>Performace Metrics:</b>\n",
    "* To evaluate the performance of a classifier, the following metrics are used:\n",
    "  1. Confusion matrix\n",
    "  2. Accuracy\n",
    "  3. Precision\n",
    "  4. Recall\n",
    "  5. F1-Score"
   ]
  },
  {
   "cell_type": "markdown",
   "metadata": {
    "id": "9vYJWEaBW6jv"
   },
   "source": [
    "##### <b>1. Confusion matrix:</b>\n",
    "* A Confusion matrix is an N x N matrix used for evaluating the performance of a classification model, where N is the number of target classes. The matrix compares the actual target values with those predicted by the machine learning model. This gives us a holistic view of how well our classification model is performing and what kinds of errors it is making.\n",
    "* For a binary classification problem, we would have a 2 x 2 matrix. For a multi-class classification problem, we would have a N x N matrix.\n",
    "* A Confusion matrix has the below with 4 values:\n",
    "  * <b>True Positive (TP):</b>\n",
    "    * The actual label of the given instance is Positive.\n",
    "    * The classifier also predicts it as Positive.\n",
    "  * <b>True Negative (TN):</b>\n",
    "    * The actual label of the given instance is Negative.\n",
    "    * The classifier also predicts it as Negative.\n",
    "  * <b>False Positive (FP):</b>\n",
    "    * The actual label of the given instance is Negative.\n",
    "    * The classifier incorrectly predicts it as Positive.\n",
    "    * Also called as 'Type 1 Error'.\n",
    "  * <b>False Negative (FN):</b>\n",
    "    * The actual label of the given instance is Positive.\n",
    "    * The classifier incorrectly predicts it as Negative.\n",
    "    * Also called as 'Type 2 Error'."
   ]
  },
  {
   "cell_type": "markdown",
   "metadata": {
    "id": "PWlIJzOKXYP0"
   },
   "source": [
    "##### <b>2. Accuracy:</b>\n",
    "* Accuracy is the ratio of the number of correct predictions to the total number of input samples.\n",
    "* Accuracy = $\\mathbf{\\frac{TP + TN}{TP + TN + FP + FN}}$"
   ]
  },
  {
   "cell_type": "markdown",
   "metadata": {
    "id": "XF15cErtXj_j"
   },
   "source": [
    "##### <b>3. Precision:</b>\n",
    "* Precision tells us how many of the correctly predicted cases actually turned out to be positive.\n",
    "* Precision is a useful metric in cases where False Positive is a higher concern than False Negatives.\n",
    "* Precision is important in music or video recommendation systems, e-commerce websites, etc. Wrong results could lead to customer churn and be harmful to the business.\n",
    "* Precision = $\\mathbf{\\frac{TP}{TP + FP}}$"
   ]
  },
  {
   "cell_type": "markdown",
   "metadata": {
    "id": "P4XTZq4iXoO7"
   },
   "source": [
    "##### <b>4. Recall:</b>\n",
    "* Recall tells us how many of the actual positive cases we were able to predict correctly with our model.\n",
    "* Recall is a useful metric in cases where False Negative trumps False Positive.\n",
    "* Recall is important in medical cases where it doesn’t matter whether we raise a false alarm but the actual positive cases should not go undetected!\n",
    "* Recall = $\\mathbf{\\frac{TP}{TP + FN}}$"
   ]
  },
  {
   "cell_type": "markdown",
   "metadata": {
    "id": "3WfApzojXxv-"
   },
   "source": [
    "##### <b>5. F1-Score:</b>\n",
    "* In practice, when we try to increase the Precision of our model, the Recall goes down and vice-versa. The F1-score captures both the trends in a single value.\n",
    "* F1-score is a harmonic mean of Precision and Recall, and so it gives a combined idea about these two metrics. It is maximum when Precision is equal to Recall.\n",
    "* There is a catch here. The interpretability of the F1-score is poor. This means that we don’t know what our classifier is maximizing -  Precision or Recall? So, we use it in combination with other evaluation metrics which gives us a complete picture of the result.\n",
    "* F1-score = $\\mathbf{\\frac{2 * Precision * Recall}{Precision + Recall}}$"
   ]
  },
  {
   "cell_type": "markdown",
   "metadata": {
    "id": "CKbnbMvPX8EW"
   },
   "source": [
    "##### <b>Classification Report:</b>\n",
    "* Classification report is used to measure the quality of predictions from a classification algorithm.\n",
    "* More specifically, True Positives, False Positives, True Negatives and False Negatives are used to predict the metrics of a classification report as shown below."
   ]
  },
  {
   "cell_type": "markdown",
   "metadata": {
    "id": "3DKjYAwumQcR"
   },
   "source": [
    "<font font size=\"4\" color=Red>*Concepts Used in this Project: N-Gram*</font>"
   ]
  },
  {
   "cell_type": "markdown",
   "metadata": {
    "id": "jC0AyLTXk47e"
   },
   "source": [
    "* <b>ngram_range: tuple (min_n, max_n), default=(1, 1):</b>\n",
    "  * The lower and upper boundary of the range of n-values for different word n-grams or char n-grams to be extracted.\n",
    "  * All values of `n` such that `min_n <= n <= max_n` will be used.\n",
    "  * For example an `ngram_range of (1, 1)` means only unigrams, `ngram_range of (2, 2)` means only bigrams, `ngram_range of (3, 3)` means only trigrams.\n",
    "  * An `ngram_range of (1, 2)` means unigrams and bigrams, `ngram_range of (2, 3)` means bigrams and trigrams, `ngram_range of (1, 3)` means unigrams, bigrams and trigrams.\n",
    "  * Only applies if analyzer is not callable."
   ]
  },
  {
   "cell_type": "code",
   "execution_count": null,
   "metadata": {
    "colab": {
     "base_uri": "https://localhost:8080/"
    },
    "executionInfo": {
     "elapsed": 5,
     "status": "ok",
     "timestamp": 1653404738973,
     "user": {
      "displayName": "Kalyana Varma Polapragada",
      "userId": "14326624661476973438"
     },
     "user_tz": -330
    },
    "id": "LR8oIvHwmg4i",
    "outputId": "91a1aabd-895a-4391-bf19-ed3d9f8bc43d"
   },
   "outputs": [],
   "source": [
    "# Example code to understand N-Grams.\n",
    "\n",
    "v = CountVectorizer(ngram_range=(1, 1))\n",
    "print(v.fit([\"an apple a day keeps the doctor away\"]).vocabulary_)"
   ]
  },
  {
   "cell_type": "code",
   "execution_count": null,
   "metadata": {
    "colab": {
     "base_uri": "https://localhost:8080/"
    },
    "executionInfo": {
     "elapsed": 608,
     "status": "ok",
     "timestamp": 1653404710491,
     "user": {
      "displayName": "Kalyana Varma Polapragada",
      "userId": "14326624661476973438"
     },
     "user_tz": -330
    },
    "id": "PCnNIJ7xkp3r",
    "outputId": "8e1f6260-b3d9-4f9e-a983-1d02dda25134"
   },
   "outputs": [],
   "source": [
    "# Example code to understand N-Grams.\n",
    "\n",
    "v = CountVectorizer(ngram_range=(1, 2))\n",
    "print(v.fit([\"an apple a day keeps the doctor away\"]).vocabulary_)"
   ]
  },
  {
   "cell_type": "code",
   "execution_count": null,
   "metadata": {
    "colab": {
     "base_uri": "https://localhost:8080/"
    },
    "executionInfo": {
     "elapsed": 461,
     "status": "ok",
     "timestamp": 1653404725723,
     "user": {
      "displayName": "Kalyana Varma Polapragada",
      "userId": "14326624661476973438"
     },
     "user_tz": -330
    },
    "id": "I7F_j8Z7mczU",
    "outputId": "ff54b623-557d-4c68-a7e7-07161467cf9f"
   },
   "outputs": [],
   "source": [
    "# Example code to understand N-Grams.\n",
    "\n",
    "v = CountVectorizer(ngram_range=(1, 3))\n",
    "print(v.fit([\"an apple a day keeps the doctor away\"]).vocabulary_)"
   ]
  },
  {
   "cell_type": "code",
   "execution_count": null,
   "metadata": {},
   "outputs": [],
   "source": []
  },
  {
   "cell_type": "code",
   "execution_count": null,
   "metadata": {},
   "outputs": [],
   "source": []
  },
  {
   "cell_type": "code",
   "execution_count": null,
   "metadata": {},
   "outputs": [],
   "source": []
  },
  {
   "cell_type": "code",
   "execution_count": null,
   "metadata": {},
   "outputs": [],
   "source": []
  },
  {
   "cell_type": "code",
   "execution_count": null,
   "metadata": {
    "id": "Zu55FFRdBUZu"
   },
   "outputs": [],
   "source": [
    "# Boiler Plate Imports.\n",
    "import os\n",
    "import numpy as np \n",
    "import pandas as pd\n",
    "import matplotlib.pyplot as plt\n",
    "import seaborn as sns\n",
    "\n",
    "from wordcloud import WordCloud"
   ]
  },
  {
   "cell_type": "code",
   "execution_count": null,
   "metadata": {
    "id": "gLnw0Q2Idp0O"
   },
   "outputs": [],
   "source": [
    "# Text Processing.\n",
    "# import regex\n",
    "import re\n",
    "from sklearn.feature_extraction.text import CountVectorizer\n",
    "from sklearn.feature_extraction.text import TfidfVectorizer"
   ]
  },
  {
   "cell_type": "code",
   "execution_count": null,
   "metadata": {
    "colab": {
     "base_uri": "https://localhost:8080/"
    },
    "executionInfo": {
     "elapsed": 1419,
     "status": "ok",
     "timestamp": 1653444338990,
     "user": {
      "displayName": "Kalyana Varma Polapragada",
      "userId": "14326624661476973438"
     },
     "user_tz": -330
    },
    "id": "X2c6GCZWdpwY",
    "outputId": "c338e283-a2a8-466c-a215-d2fdb3b316d1"
   },
   "outputs": [],
   "source": [
    "# NLTK library Imports.\n",
    "import nltk\n",
    "nltk.download('stopwords')\n",
    "from nltk.corpus import stopwords\n",
    "nltk.download('wordnet')\n",
    "# nltk.download('punkt')\n",
    "# from nltk.tokenize import WordPunctTokenizer\n",
    "from nltk.stem import WordNetLemmatizer\n",
    "# from nltk import sent_tokenize\n",
    "# from nltk import word_tokenize\n",
    "# from string import punctuation"
   ]
  },
  {
   "cell_type": "code",
   "execution_count": null,
   "metadata": {
    "id": "jNZ2bo9edpsa"
   },
   "outputs": [],
   "source": [
    "# Metrics and Validation.\n",
    "from sklearn.model_selection import train_test_split\n",
    "from sklearn.model_selection import RandomizedSearchCV\n",
    "from sklearn.metrics import accuracy_score\n",
    "from sklearn.metrics import cohen_kappa_score\n",
    "from sklearn.metrics import confusion_matrix\n",
    "# from sklearn.metrics import classification_report"
   ]
  },
  {
   "cell_type": "code",
   "execution_count": null,
   "metadata": {
    "id": "LTcP2R25dpnI"
   },
   "outputs": [],
   "source": [
    "# Models to be trained.\n",
    "import xgboost\n",
    "\n",
    "from sklearn.linear_model import LogisticRegression\n",
    "from sklearn.naive_bayes import MultinomialNB\n",
    "from sklearn.linear_model import SGDClassifier\n",
    "from sklearn.tree import DecisionTreeClassifier\n",
    "from sklearn.neighbors import KNeighborsClassifier\n",
    "from sklearn.ensemble import VotingClassifier\n",
    "from sklearn.ensemble import StackingClassifier"
   ]
  },
  {
   "cell_type": "code",
   "execution_count": null,
   "metadata": {
    "id": "zs6_14dMjj1v"
   },
   "outputs": [],
   "source": [
    "# To save and load models as pickle files.\n",
    "import pickle"
   ]
  },
  {
   "cell_type": "markdown",
   "metadata": {
    "id": "1o0NNgaRt-0O"
   },
   "source": [
    "<font font size=\"6\" color=Orange>**Step-02(A): Managing the Data**</font>"
   ]
  },
  {
   "cell_type": "code",
   "execution_count": null,
   "metadata": {
    "colab": {
     "base_uri": "https://localhost:8080/"
    },
    "executionInfo": {
     "elapsed": 24518,
     "status": "ok",
     "timestamp": 1653444367665,
     "user": {
      "displayName": "Kalyana Varma Polapragada",
      "userId": "14326624661476973438"
     },
     "user_tz": -330
    },
    "id": "2jimjq5rgf3u",
    "outputId": "3d30aba7-bde4-4847-9d71-c913a06fbc7e"
   },
   "outputs": [],
   "source": [
    "\"\"\"\n",
    "# Mount the Google Drive to Google Colab.\n",
    "\n",
    "# As we are dealing with huge data, attaching Google Drive which contains the data\n",
    "# to the Google Colab is a better and quick way to get the data into the project.\n",
    "\"\"\"\n",
    "\n",
    "from google.colab import drive\n",
    "drive.mount('/content/gdrive')\n",
    "# drive.mount(\"/content/gdrive\", force_remount=True)"
   ]
  },
  {
   "cell_type": "code",
   "execution_count": null,
   "metadata": {
    "colab": {
     "base_uri": "https://localhost:8080/"
    },
    "executionInfo": {
     "elapsed": 1141,
     "status": "ok",
     "timestamp": 1653444372128,
     "user": {
      "displayName": "Kalyana Varma Polapragada",
      "userId": "14326624661476973438"
     },
     "user_tz": -330
    },
    "id": "W6RLKLRmg58w",
    "outputId": "8bfc3a3e-a91f-456f-d063-f9f3694fcb5e"
   },
   "outputs": [],
   "source": [
    "# Check the files and path that exists or not.\n",
    "\n",
    "# Prepare the shell command.\n",
    "ROOT_PATH = \"/content/gdrive/MyDrive/WF_Project#01/\"\n",
    "DATA_PATH = \"/content/gdrive/MyDrive/WF_Project#01/Data_C04/\"\n",
    "\n",
    "# Execute the shell command in Jupyter environment.\n",
    "# Get the output into variable which will be a Python list.\n",
    "CmdOutput = !cp {DATA_PATH}\n",
    "\n",
    "# Get the info.\n",
    "!ls -l {ROOT_PATH}\n",
    "print()\n",
    "!ls -l {DATA_PATH}"
   ]
  },
  {
   "cell_type": "markdown",
   "metadata": {
    "id": "UhhzDMLsyvxi"
   },
   "source": [
    "<font font size=\"6\" color=Orange>**Step-03: Processing the Data**</font>"
   ]
  },
  {
   "cell_type": "code",
   "execution_count": null,
   "metadata": {
    "colab": {
     "base_uri": "https://localhost:8080/"
    },
    "executionInfo": {
     "elapsed": 409,
     "status": "ok",
     "timestamp": 1653444375583,
     "user": {
      "displayName": "Kalyana Varma Polapragada",
      "userId": "14326624661476973438"
     },
     "user_tz": -330
    },
    "id": "H-SPtX2V0e7e",
    "outputId": "0ec17a30-a6dd-47ae-cddf-51196af46abd"
   },
   "outputs": [],
   "source": [
    "# The input data is provided in such a way that a class or category of\n",
    "# data files are placed under a folder with folder name as class name.\n",
    "# So, get the folder names into a list variable.\n",
    "ListFolders = list()\n",
    "\n",
    "with os.scandir(DATA_PATH) as Entries:\n",
    "  for Entry in Entries:\n",
    "    if Entry.is_file() == False:\n",
    "      ListFolders.append(Entry.name)\n",
    "\n",
    "ListFolders.sort()\n",
    "\n",
    "# Verification.\n",
    "print(ListFolders)"
   ]
  },
  {
   "cell_type": "code",
   "execution_count": null,
   "metadata": {
    "colab": {
     "base_uri": "https://localhost:8080/"
    },
    "executionInfo": {
     "elapsed": 26147,
     "status": "ok",
     "timestamp": 1653444406614,
     "user": {
      "displayName": "Kalyana Varma Polapragada",
      "userId": "14326624661476973438"
     },
     "user_tz": -330
    },
    "id": "v_Fu0GcL0e3Y",
    "outputId": "ed0cc9fe-6703-48dd-d129-00a2738766da"
   },
   "outputs": [],
   "source": [
    "# After getting the folder names into a list variable, it is the time to get the\n",
    "# file names specific to the folder. For this, we are going to use the\n",
    "# data structure i.e. Python dictionary. The 'keys' are names of the folders\n",
    "# and 'values' are the list of all the files of a specific folder.\n",
    "\n",
    "DictFiles = dict()\n",
    "\n",
    "for Folder in ListFolders:\n",
    "  Path = DATA_PATH + Folder + '/'\n",
    "  ListFiles = list()\n",
    "\n",
    "  with os.scandir(Path) as Entries:\n",
    "    for Entry in Entries:\n",
    "      if Entry.is_file():\n",
    "        ListFiles.append(Entry.name)\n",
    "\n",
    "  DictFiles[Folder] = ListFiles\n",
    "  DictFiles[Folder].sort()\n",
    "\n",
    "\n",
    "# Verification.\n",
    "print(DictFiles)\n",
    "print()\n",
    "\n",
    "for Folder in ListFolders:\n",
    "  print(\"The folder '{:s}' contains {:d} files.\".format(Folder, len(DictFiles[Folder])))"
   ]
  },
  {
   "cell_type": "code",
   "execution_count": null,
   "metadata": {
    "colab": {
     "base_uri": "https://localhost:8080/"
    },
    "executionInfo": {
     "elapsed": 521,
     "status": "ok",
     "timestamp": 1653444411417,
     "user": {
      "displayName": "Kalyana Varma Polapragada",
      "userId": "14326624661476973438"
     },
     "user_tz": -330
    },
    "id": "Qhs-eS1-0e07",
    "outputId": "d8733231-b1ad-48af-a8d8-1c78729743f5"
   },
   "outputs": [],
   "source": [
    "# Delete the matching files among the class or category folders.\n",
    "\n",
    "for FolderIdx in range(len(ListFolders)):\n",
    "  ListFiles = DictFiles[ListFolders[FolderIdx]]\n",
    "\n",
    "  for File in ListFiles:\n",
    "    for KeyIdx in range(FolderIdx+1, len(ListFolders)):\n",
    "      Key = ListFolders[KeyIdx]\n",
    "\n",
    "      if File in DictFiles[Key]:\n",
    "        DictFiles[Key].remove(File)\n",
    "\n",
    "\n",
    "# Verification.\n",
    "print(DictFiles)\n",
    "print()\n",
    "\n",
    "for Folder in ListFolders:\n",
    "  print(\"The folder '{:s}' contains {:d} files.\".format(Folder, len(DictFiles[Folder])))"
   ]
  },
  {
   "cell_type": "code",
   "execution_count": null,
   "metadata": {
    "colab": {
     "base_uri": "https://localhost:8080/"
    },
    "executionInfo": {
     "elapsed": 3,
     "status": "ok",
     "timestamp": 1653444414532,
     "user": {
      "displayName": "Kalyana Varma Polapragada",
      "userId": "14326624661476973438"
     },
     "user_tz": -330
    },
    "id": "c9IGNXV60exY",
    "outputId": "1bb131cf-adc4-48e7-d791-ee720d5df69a"
   },
   "outputs": [],
   "source": [
    "# Get the Timestamp in Indian Standard Time (IST) format.\n",
    "import datetime\n",
    "import pytz\n",
    "\n",
    "TimeStampUtc = datetime.datetime.now(tz=pytz.UTC)\n",
    "TimeStampIst = TimeStampUtc.astimezone(pytz.timezone('Asia/Kolkata'))\n",
    "print('Timestamp (IST):', TimeStampIst)"
   ]
  },
  {
   "cell_type": "code",
   "execution_count": null,
   "metadata": {
    "id": "t_8D2EPi0euE"
   },
   "outputs": [],
   "source": [
    "DictData = dict()\n",
    "Idx = 0\n",
    "\n",
    "for Genre in DictFiles.keys():\n",
    "  Texts = DictFiles[Genre]\n",
    "\n",
    "  for Text in Texts:\n",
    "    if Text in DictFiles[Genre]:\n",
    "      Path = DATA_PATH + Genre + '/' + Text\n",
    "\n",
    "      with open(Path, \"r\", encoding = \"latin1\") as file:\n",
    "        DictData[Idx] = file.readlines()\n",
    "        Idx = Idx + 1\n",
    "\n",
    "      DictData[Idx - 1] = [\" \".join(DictData[Idx - 1]), Genre] \n",
    "\n",
    "DfData = pd.DataFrame(DictData).T\n",
    "DfData.columns = ['Text', 'Class']"
   ]
  },
  {
   "cell_type": "code",
   "execution_count": null,
   "metadata": {
    "colab": {
     "base_uri": "https://localhost:8080/"
    },
    "executionInfo": {
     "elapsed": 21,
     "status": "ok",
     "timestamp": 1653445709854,
     "user": {
      "displayName": "Kalyana Varma Polapragada",
      "userId": "14326624661476973438"
     },
     "user_tz": -330
    },
    "id": "Yp3dEVTA0erD",
    "outputId": "2a7be9da-dbfa-4572-ec00-b4b411a0c2ab"
   },
   "outputs": [],
   "source": [
    "# Get the Timestamp in Indian Standard Time (IST) format.\n",
    "import datetime\n",
    "import pytz\n",
    "\n",
    "TimeStampUtc = datetime.datetime.now(tz=pytz.UTC)\n",
    "TimeStampIst = TimeStampUtc.astimezone(pytz.timezone('Asia/Kolkata'))\n",
    "print('Timestamp (IST):', TimeStampIst)"
   ]
  },
  {
   "cell_type": "code",
   "execution_count": null,
   "metadata": {
    "colab": {
     "base_uri": "https://localhost:8080/"
    },
    "executionInfo": {
     "elapsed": 370,
     "status": "ok",
     "timestamp": 1653445833151,
     "user": {
      "displayName": "Kalyana Varma Polapragada",
      "userId": "14326624661476973438"
     },
     "user_tz": -330
    },
    "id": "PFxGGdjEcP0M",
    "outputId": "dd681bdd-2093-4ae0-f447-4712fb2010a3"
   },
   "outputs": [],
   "source": [
    "# Verification.\n",
    "DfData.shape"
   ]
  },
  {
   "cell_type": "code",
   "execution_count": null,
   "metadata": {
    "colab": {
     "base_uri": "https://localhost:8080/"
    },
    "executionInfo": {
     "elapsed": 4,
     "status": "ok",
     "timestamp": 1653445835176,
     "user": {
      "displayName": "Kalyana Varma Polapragada",
      "userId": "14326624661476973438"
     },
     "user_tz": -330
    },
    "id": "NY_-4I-w0eoS",
    "outputId": "efba670f-5ed1-48d5-9a4e-28ed8be13acb"
   },
   "outputs": [],
   "source": [
    "ListUnique = list(DfData.Text.unique())\n",
    "\n",
    "# Verification.\n",
    "print(len(ListUnique))\n",
    "# print()\n",
    "# print(ListUnique)"
   ]
  },
  {
   "cell_type": "code",
   "execution_count": null,
   "metadata": {
    "colab": {
     "base_uri": "https://localhost:8080/"
    },
    "executionInfo": {
     "elapsed": 1087,
     "status": "ok",
     "timestamp": 1653445839712,
     "user": {
      "displayName": "Kalyana Varma Polapragada",
      "userId": "14326624661476973438"
     },
     "user_tz": -330
    },
    "id": "FGzg1KwQh-rj",
    "outputId": "26b9680c-74b0-474d-95d9-8a0c9b9b93af"
   },
   "outputs": [],
   "source": [
    "# Verification.\n",
    "print(ListUnique)"
   ]
  },
  {
   "cell_type": "code",
   "execution_count": null,
   "metadata": {
    "id": "WRtzYo5K0eln"
   },
   "outputs": [],
   "source": [
    "dic = dict(DfData)"
   ]
  },
  {
   "cell_type": "code",
   "execution_count": null,
   "metadata": {
    "id": "Zp20rDkq0eiS"
   },
   "outputs": [],
   "source": [
    "uni = {}\n",
    "i = 0\n",
    "\n",
    "for k in range(len(list(dic['Text']))):\n",
    "  if dic['Text'][k] in ListUnique:\n",
    "    uni[i] = [dic['Text'][k], dic['Class'][k]]\n",
    "    ListUnique.remove(dic['Text'][k])\n",
    "    i += 1"
   ]
  },
  {
   "cell_type": "code",
   "execution_count": null,
   "metadata": {
    "id": "xauxVf270efl"
   },
   "outputs": [],
   "source": [
    "DfData = pd.DataFrame(uni).T\n",
    "DfData.columns = ['Text', 'Class']"
   ]
  },
  {
   "cell_type": "code",
   "execution_count": null,
   "metadata": {
    "colab": {
     "base_uri": "https://localhost:8080/",
     "height": 112
    },
    "executionInfo": {
     "elapsed": 650,
     "status": "ok",
     "timestamp": 1653445848220,
     "user": {
      "displayName": "Kalyana Varma Polapragada",
      "userId": "14326624661476973438"
     },
     "user_tz": -330
    },
    "id": "kOGY0b_i0ebx",
    "outputId": "dd7ba9a1-8cca-49e2-c637-a1398856857f"
   },
   "outputs": [],
   "source": [
    "# Verification.\n",
    "DfData.head(2)"
   ]
  },
  {
   "cell_type": "code",
   "execution_count": null,
   "metadata": {
    "colab": {
     "base_uri": "https://localhost:8080/",
     "height": 112
    },
    "executionInfo": {
     "elapsed": 392,
     "status": "ok",
     "timestamp": 1653445850289,
     "user": {
      "displayName": "Kalyana Varma Polapragada",
      "userId": "14326624661476973438"
     },
     "user_tz": -330
    },
    "id": "NqAwXAk_0eZM",
    "outputId": "8525d5a3-98df-4e4d-c736-379e95bd30bf"
   },
   "outputs": [],
   "source": [
    "# Verification.\n",
    "DfData.tail(2)"
   ]
  },
  {
   "cell_type": "code",
   "execution_count": null,
   "metadata": {
    "colab": {
     "base_uri": "https://localhost:8080/",
     "height": 175
    },
    "executionInfo": {
     "elapsed": 414,
     "status": "ok",
     "timestamp": 1653445852971,
     "user": {
      "displayName": "Kalyana Varma Polapragada",
      "userId": "14326624661476973438"
     },
     "user_tz": -330
    },
    "id": "xUsxfqrR0eWC",
    "outputId": "3ad065d7-2223-4b03-ab03-b3d039735162"
   },
   "outputs": [],
   "source": [
    "# Verification.\n",
    "DfData.describe()"
   ]
  },
  {
   "cell_type": "code",
   "execution_count": null,
   "metadata": {
    "colab": {
     "base_uri": "https://localhost:8080/"
    },
    "executionInfo": {
     "elapsed": 406,
     "status": "ok",
     "timestamp": 1653445855275,
     "user": {
      "displayName": "Kalyana Varma Polapragada",
      "userId": "14326624661476973438"
     },
     "user_tz": -330
    },
    "id": "if2OwvLm0eTX",
    "outputId": "2f529677-5eb5-409b-a7d6-8c56b9c7e718"
   },
   "outputs": [],
   "source": [
    "# Verification.\n",
    "DfData.info(2)"
   ]
  },
  {
   "cell_type": "code",
   "execution_count": null,
   "metadata": {
    "colab": {
     "base_uri": "https://localhost:8080/"
    },
    "executionInfo": {
     "elapsed": 664,
     "status": "ok",
     "timestamp": 1653445857423,
     "user": {
      "displayName": "Kalyana Varma Polapragada",
      "userId": "14326624661476973438"
     },
     "user_tz": -330
    },
    "id": "InRVpYFH0eP2",
    "outputId": "c4201e17-7b47-4d9e-ffa1-b2e6bbbd8085"
   },
   "outputs": [],
   "source": [
    "# Verification.\n",
    "DfData.dtypes"
   ]
  },
  {
   "cell_type": "code",
   "execution_count": null,
   "metadata": {
    "colab": {
     "base_uri": "https://localhost:8080/"
    },
    "executionInfo": {
     "elapsed": 2,
     "status": "ok",
     "timestamp": 1653445859146,
     "user": {
      "displayName": "Kalyana Varma Polapragada",
      "userId": "14326624661476973438"
     },
     "user_tz": -330
    },
    "id": "2Q-HfeUs0eNR",
    "outputId": "52024d7f-7b86-4ee1-b2fd-d58f4ee67a1d"
   },
   "outputs": [],
   "source": [
    "# Verification.\n",
    "DfData.shape"
   ]
  },
  {
   "cell_type": "code",
   "execution_count": null,
   "metadata": {
    "colab": {
     "base_uri": "https://localhost:8080/"
    },
    "executionInfo": {
     "elapsed": 393,
     "status": "ok",
     "timestamp": 1653445860984,
     "user": {
      "displayName": "Kalyana Varma Polapragada",
      "userId": "14326624661476973438"
     },
     "user_tz": -330
    },
    "id": "dCbeXgpGqo5C",
    "outputId": "97a7c1d3-cabe-42fa-d85f-09fcac60b2b2"
   },
   "outputs": [],
   "source": [
    "# Keep a copy of the Dataframe for backup.\n",
    "DfDataBackup = DfData.copy()\n",
    "\n",
    "# Verification.\n",
    "DfDataBackup.shape"
   ]
  },
  {
   "cell_type": "code",
   "execution_count": null,
   "metadata": {
    "id": "kJ-0awrv92Ck"
   },
   "outputs": [],
   "source": [
    "# This statement is required during the development,\n",
    "# because we need to go for the base dataframe every time.\n",
    "\n",
    "# DfData = DfDataBackup.copy()"
   ]
  },
  {
   "cell_type": "code",
   "execution_count": null,
   "metadata": {
    "id": "z1bTo0UhpYa8"
   },
   "outputs": [],
   "source": [
    "def CleanupText(Text):\n",
    "  \"\"\"\n",
    "  User Defined Function (UDF) to clean the text.\n",
    "  \"\"\"\n",
    "\n",
    "  # 01: Replace all the white space characters with a space character.\n",
    "  Pattern = re.compile(r'\\s+', flags=re.I)\n",
    "  Text = re.sub(Pattern, ' ', Text)\n",
    "\n",
    "  # 02: Remove all characters except letters and numbers.\n",
    "  Text = re.sub('[\\W_]+', ' ', Text)\n",
    "\n",
    "  # 03: Substitute multiple spaces with single space.\n",
    "  # (Same as 01:)\n",
    "  Text = re.sub(r'\\s+', ' ', Text, flags=re.I)\n",
    "\n",
    "  # Convert to lower case.\n",
    "  # Text = [Word.lower() for Word in Text]\n",
    "  Text = Text.lower()\n",
    "\n",
    "  # Remove the non-alphabet words.\n",
    "  # Text = ' '.join( Word for Word in Text.split() if not any(Char.isdigit() for Char in Word) )\n",
    "  # Text = re.sub(r'\\w*\\d\\w*', '', Text).strip()\n",
    "  # Text = re.sub(r\"\\S*\\d\\S*\", \"\", Text).strip()\n",
    "  Text = ' '.join( [Word for Word in Text.split() if Word.isalpha()] )\n",
    "\n",
    "  # # Remove all single characters.\n",
    "  # Text = re.sub(r'\\s+[a-zA-Z]\\s+', ' ', Text)\n",
    "\n",
    "  # Remove all words with length less than a specific value.\n",
    "  # or\n",
    "  # Keep all words with length greater than a specific value.\n",
    "  Text = ' '.join( [Word for Word in Text.split() if len(Word) > 3] )\n",
    "\n",
    "  # Get the list of stop words from NLTK.\n",
    "  StopWords = set(stopwords.words('english'))\n",
    "  # Remove the stop words.\n",
    "  Text = ' '.join( [Word for Word in Text.split() if Word not in StopWords] )\n",
    "\n",
    "  # # Get the lemmatizer from NLTK.\n",
    "  # Lemmatizer = WordNetLemmatizer()\n",
    "  # # Lemmatize text.\n",
    "  # # Text = ' '.join( [Lemmatizer.lemmatize(Word, pos=\"v\") for Word in Text if not Word in StopWords] )\n",
    "  # Text = ' '.join( [Lemmatizer.lemmatize(Word, pos=\"v\") for Word in Text.split() if not Word in StopWords] )\n",
    "\n",
    "\n",
    "  return Text"
   ]
  },
  {
   "cell_type": "code",
   "execution_count": null,
   "metadata": {
    "id": "mSYx-4mnqCVq"
   },
   "outputs": [],
   "source": [
    "#  Add the column that contains the cleaned-up text to the Pandas data frame.\n",
    "DfData[\"CleanText\"] = DfData.Text.apply(lambda Text: CleanupText(Text))\n",
    "\n",
    "# Shift a specific column to a specific position.\n",
    "TempColumn = DfData.pop('CleanText')\n",
    "DfData.insert(1, 'CleanText', TempColumn)"
   ]
  },
  {
   "cell_type": "code",
   "execution_count": null,
   "metadata": {
    "colab": {
     "base_uri": "https://localhost:8080/",
     "height": 87
    },
    "executionInfo": {
     "elapsed": 708,
     "status": "ok",
     "timestamp": 1653446824861,
     "user": {
      "displayName": "Kalyana Varma Polapragada",
      "userId": "14326624661476973438"
     },
     "user_tz": -330
    },
    "id": "GK12tKh43Buj",
    "outputId": "83868ede-b82f-4030-907b-07151eb20724"
   },
   "outputs": [],
   "source": [
    "# Verification.\n",
    "DfData.CleanText[0]"
   ]
  },
  {
   "cell_type": "code",
   "execution_count": null,
   "metadata": {
    "colab": {
     "base_uri": "https://localhost:8080/",
     "height": 112
    },
    "executionInfo": {
     "elapsed": 472,
     "status": "ok",
     "timestamp": 1653446827270,
     "user": {
      "displayName": "Kalyana Varma Polapragada",
      "userId": "14326624661476973438"
     },
     "user_tz": -330
    },
    "id": "ifN-jsORtbw3",
    "outputId": "076aa3c5-30de-4cab-e184-d06d101acaa7"
   },
   "outputs": [],
   "source": [
    "# Verification.\n",
    "DfData.head(2)"
   ]
  },
  {
   "cell_type": "code",
   "execution_count": null,
   "metadata": {
    "colab": {
     "base_uri": "https://localhost:8080/",
     "height": 112
    },
    "executionInfo": {
     "elapsed": 681,
     "status": "ok",
     "timestamp": 1653446830166,
     "user": {
      "displayName": "Kalyana Varma Polapragada",
      "userId": "14326624661476973438"
     },
     "user_tz": -330
    },
    "id": "HBd7-A2J2bKe",
    "outputId": "0d2be714-6d5c-475d-a40e-03cf95799d0c"
   },
   "outputs": [],
   "source": [
    "# Verification.\n",
    "DfData.tail(2)"
   ]
  },
  {
   "cell_type": "code",
   "execution_count": null,
   "metadata": {
    "colab": {
     "base_uri": "https://localhost:8080/",
     "height": 175
    },
    "executionInfo": {
     "elapsed": 900,
     "status": "ok",
     "timestamp": 1653446832977,
     "user": {
      "displayName": "Kalyana Varma Polapragada",
      "userId": "14326624661476973438"
     },
     "user_tz": -330
    },
    "id": "mrCN0ocH2pb1",
    "outputId": "a98ee208-8400-4bb1-9815-fe0374cd8c07"
   },
   "outputs": [],
   "source": [
    "# Verification.\n",
    "DfData.describe()"
   ]
  },
  {
   "cell_type": "code",
   "execution_count": null,
   "metadata": {
    "colab": {
     "base_uri": "https://localhost:8080/"
    },
    "executionInfo": {
     "elapsed": 5,
     "status": "ok",
     "timestamp": 1653446834484,
     "user": {
      "displayName": "Kalyana Varma Polapragada",
      "userId": "14326624661476973438"
     },
     "user_tz": -330
    },
    "id": "XB7RYqYM2pYV",
    "outputId": "ca7caf5d-30bb-4969-b042-f60de9b08dd7"
   },
   "outputs": [],
   "source": [
    "# Verification.\n",
    "DfData.info(2)"
   ]
  },
  {
   "cell_type": "code",
   "execution_count": null,
   "metadata": {
    "colab": {
     "base_uri": "https://localhost:8080/"
    },
    "executionInfo": {
     "elapsed": 399,
     "status": "ok",
     "timestamp": 1653446837300,
     "user": {
      "displayName": "Kalyana Varma Polapragada",
      "userId": "14326624661476973438"
     },
     "user_tz": -330
    },
    "id": "dA8OHOuZ2pVT",
    "outputId": "fec278e1-85f0-4f8b-cd49-3c99e3a530a5"
   },
   "outputs": [],
   "source": [
    "# Verification.\n",
    "DfData.dtypes"
   ]
  },
  {
   "cell_type": "code",
   "execution_count": null,
   "metadata": {
    "colab": {
     "base_uri": "https://localhost:8080/"
    },
    "executionInfo": {
     "elapsed": 2,
     "status": "ok",
     "timestamp": 1653446838948,
     "user": {
      "displayName": "Kalyana Varma Polapragada",
      "userId": "14326624661476973438"
     },
     "user_tz": -330
    },
    "id": "5x0Vv5mFt4Nm",
    "outputId": "b8c1c711-614e-4363-b8cc-51863f65732d"
   },
   "outputs": [],
   "source": [
    "# Verification.\n",
    "DfData.shape"
   ]
  },
  {
   "cell_type": "markdown",
   "metadata": {
    "id": "HCwWNPfk3jV5"
   },
   "source": [
    "<font font size=\"6\" color=Orange>**Step-04: Visualizing the Data**</font>"
   ]
  },
  {
   "cell_type": "markdown",
   "metadata": {
    "id": "aAV4iXiM8zgG"
   },
   "source": [
    "<font font size=\"4\" color=Red>*Top 10 Words in 'Crime' Category:*</font>"
   ]
  },
  {
   "cell_type": "code",
   "execution_count": null,
   "metadata": {
    "colab": {
     "base_uri": "https://localhost:8080/",
     "height": 337
    },
    "executionInfo": {
     "elapsed": 1108,
     "status": "ok",
     "timestamp": 1653446843813,
     "user": {
      "displayName": "Kalyana Varma Polapragada",
      "userId": "14326624661476973438"
     },
     "user_tz": -330
    },
    "id": "XISAcpu93i9W",
    "outputId": "124e6404-0178-4110-de90-b33a42820db6"
   },
   "outputs": [],
   "source": [
    "Text = \" \".join(DfData[DfData.Class == \"Crime\"].CleanText)\n",
    "DfCount = pd.DataFrame(Text.split(), columns = ['Words'])\n",
    "Top_10 = DfCount[DfCount['Words'].isin(list(DfCount.Words.value_counts()[:10].index[:10]))]\n",
    "plt.figure(figsize=(10, 5))\n",
    "sns.barplot(x = Top_10.Words.value_counts().index, y = Top_10.Words.value_counts(), palette = sns.color_palette(\"viridis\"))"
   ]
  },
  {
   "cell_type": "markdown",
   "metadata": {
    "id": "T0LZgUnp-XkR"
   },
   "source": [
    "<font font size=\"4\" color=Red>*Top 10 Words in 'Entertainment' Category:*</font>"
   ]
  },
  {
   "cell_type": "code",
   "execution_count": null,
   "metadata": {
    "id": "rxh2wdgp-4Zp"
   },
   "outputs": [],
   "source": [
    "# Text = \" \".join(DfData[DfData.Class == \"Entertainment\"].CleanText)\n",
    "# DfCount = pd.DataFrame(Text.split(), columns = ['Words'])\n",
    "# Top_10 = DfCount[DfCount['Words'].isin(list(DfCount.Words.value_counts()[:10].index[:10]))]\n",
    "# plt.figure(figsize=(10, 5))\n",
    "# sns.barplot(x = Top_10.Words.value_counts().index, y = Top_10.Words.value_counts(), palette = sns.color_palette(\"viridis\"))"
   ]
  },
  {
   "cell_type": "markdown",
   "metadata": {
    "id": "gBPBQdmt-ZHK"
   },
   "source": [
    "<font font size=\"4\" color=Red>*Top 10 Words in 'Politics' Category:*</font>"
   ]
  },
  {
   "cell_type": "code",
   "execution_count": null,
   "metadata": {
    "colab": {
     "base_uri": "https://localhost:8080/",
     "height": 337
    },
    "executionInfo": {
     "elapsed": 1137,
     "status": "ok",
     "timestamp": 1653446847840,
     "user": {
      "displayName": "Kalyana Varma Polapragada",
      "userId": "14326624661476973438"
     },
     "user_tz": -330
    },
    "id": "E96gp0LS-5Xw",
    "outputId": "33b4dc2d-39ca-42b2-e2c6-2834e5efa17c"
   },
   "outputs": [],
   "source": [
    "Text = \" \".join(DfData[DfData.Class == \"Politics\"].CleanText)\n",
    "DfCount = pd.DataFrame(Text.split(), columns = ['Words'])\n",
    "Top_10 = DfCount[DfCount['Words'].isin(list(DfCount.Words.value_counts()[:10].index[:10]))]\n",
    "plt.figure(figsize=(10, 5))\n",
    "sns.barplot(x = Top_10.Words.value_counts().index, y = Top_10.Words.value_counts(), palette = sns.color_palette(\"viridis\"))"
   ]
  },
  {
   "cell_type": "markdown",
   "metadata": {
    "id": "u9NLE42t-Zxn"
   },
   "source": [
    "<font font size=\"4\" color=Red>*Top 10 Words in 'Science' Category:*</font>"
   ]
  },
  {
   "cell_type": "code",
   "execution_count": null,
   "metadata": {
    "colab": {
     "base_uri": "https://localhost:8080/",
     "height": 337
    },
    "executionInfo": {
     "elapsed": 1628,
     "status": "ok",
     "timestamp": 1653446851385,
     "user": {
      "displayName": "Kalyana Varma Polapragada",
      "userId": "14326624661476973438"
     },
     "user_tz": -330
    },
    "id": "WZ6VwnhS-6Ko",
    "outputId": "d0110f97-1317-4b6e-f0be-44baa29022a0"
   },
   "outputs": [],
   "source": [
    "Text = \" \".join(DfData[DfData.Class == \"Science\"].CleanText)\n",
    "DfCount = pd.DataFrame(Text.split(), columns = ['Words'])\n",
    "Top_10 = DfCount[DfCount['Words'].isin(list(DfCount.Words.value_counts()[:10].index[:10]))]\n",
    "plt.figure(figsize=(10, 5))\n",
    "sns.barplot(x = Top_10.Words.value_counts().index, y = Top_10.Words.value_counts(), palette = sns.color_palette(\"viridis\"))"
   ]
  },
  {
   "cell_type": "markdown",
   "metadata": {
    "id": "zEfyuH6pNCI5"
   },
   "source": [
    "<font font size=\"4\" color=Red>*Common Words Among all the Classes of Text:*</font>"
   ]
  },
  {
   "cell_type": "code",
   "execution_count": null,
   "metadata": {
    "colab": {
     "base_uri": "https://localhost:8080/"
    },
    "executionInfo": {
     "elapsed": 1122,
     "status": "ok",
     "timestamp": 1653446853503,
     "user": {
      "displayName": "Kalyana Varma Polapragada",
      "userId": "14326624661476973438"
     },
     "user_tz": -330
    },
    "id": "MQtnldfqGznh",
    "outputId": "a0cd63cb-1329-4254-d47c-973bbfd29f50"
   },
   "outputs": [],
   "source": [
    "# Number of words in 'Crime' Category.\n",
    "ListTextCrime = (\" \".join(DfData[DfData.Class == \"Crime\"].CleanText)).split(' ')\n",
    "print(len(ListTextCrime))\n",
    "print()\n",
    "\n",
    "# # Number of words in 'Entertainment' Category.\n",
    "# ListTextEntertainment = (\" \".join(DfData[DfData.Class == \"Entertainment\"].CleanText)).split(' ')\n",
    "# print(len(ListTextEntertainment))\n",
    "# print()\n",
    "\n",
    "# Number of words in 'Politics' Category.\n",
    "ListTextPolitics = (\" \".join(DfData[DfData.Class == \"Politics\"].CleanText)).split(' ')\n",
    "print(len(ListTextPolitics))\n",
    "print()\n",
    "\n",
    "# Number of words in 'Science' Category.\n",
    "ListTextScience = (\" \".join(DfData[DfData.Class == \"Science\"].CleanText)).split(' ')\n",
    "print(len(ListTextScience))\n",
    "print()\n",
    "\n",
    "# Get the list of common words among all the classes of text.\n",
    "# ListCommonWords = list(set(ListTextCrime) & set(ListTextEntertainment) & set(ListTextPolitics) & set(ListTextScience))\n",
    "ListCommonWords = list(set(ListTextCrime) & set(ListTextPolitics) & set(ListTextScience))\n",
    "ListCommonWords.sort(reverse=False)\n",
    "print(len(ListCommonWords))\n",
    "print()\n",
    "print(ListCommonWords)"
   ]
  },
  {
   "cell_type": "code",
   "execution_count": null,
   "metadata": {
    "colab": {
     "base_uri": "https://localhost:8080/",
     "height": 303
    },
    "executionInfo": {
     "elapsed": 2220,
     "status": "ok",
     "timestamp": 1653446858810,
     "user": {
      "displayName": "Kalyana Varma Polapragada",
      "userId": "14326624661476973438"
     },
     "user_tz": -330
    },
    "id": "4qR_hnJxaGLM",
    "outputId": "dc3ab1b8-550d-46c5-c279-8a2847c3d6de"
   },
   "outputs": [],
   "source": [
    "# Generating word cloud.\n",
    "plt.figure(figsize = (10, 5))\n",
    "plt.axis(\"off\")\n",
    "plt.imshow(WordCloud().generate((\" \").join(ListCommonWords)), interpolation = 'bicubic')\n",
    "plt.show()"
   ]
  },
  {
   "cell_type": "code",
   "execution_count": null,
   "metadata": {
    "colab": {
     "base_uri": "https://localhost:8080/",
     "height": 303
    },
    "executionInfo": {
     "elapsed": 2105,
     "status": "ok",
     "timestamp": 1653446861322,
     "user": {
      "displayName": "Kalyana Varma Polapragada",
      "userId": "14326624661476973438"
     },
     "user_tz": -330
    },
    "id": "M19fDKjqbnhh",
    "outputId": "7ac520bd-1c1e-407c-c290-e5f1c110a07d"
   },
   "outputs": [],
   "source": [
    "# Generating word cloud.\n",
    "plt.figure(figsize = (10, 5))\n",
    "plt.axis(\"off\")\n",
    "WordCloud = WordCloud(collocations = False, background_color = 'white').generate((\" \").join(ListCommonWords))\n",
    "plt.imshow(WordCloud, interpolation='bilinear')\n",
    "plt.show()"
   ]
  },
  {
   "cell_type": "markdown",
   "metadata": {
    "id": "ldIDO8wBdclY"
   },
   "source": [
    "ToDo:<br>\n",
    "Try by removing the common words from each class of text."
   ]
  },
  {
   "cell_type": "markdown",
   "metadata": {
    "id": "EY3WQHmF_b5J"
   },
   "source": [
    "<font font size=\"6\" color=Orange>**Step-05: Vectorizing Cleaned-up Data**</font>"
   ]
  },
  {
   "cell_type": "markdown",
   "metadata": {
    "id": "UmFKRADVCt_5"
   },
   "source": [
    "<font font size=\"4\" color=Red>*Count Vectorizer:*</font>"
   ]
  },
  {
   "cell_type": "code",
   "execution_count": null,
   "metadata": {
    "id": "oRIqGQnrhSFw"
   },
   "outputs": [],
   "source": [
    "# * To get binary values (1 for present or 0 for absent) instead of counts of terms/tokens, give binary=True. \n",
    "# * N-Gram range basically lets you decide the length of the sequence of consecutive words in the given text.\n",
    "# *  Suppose the n-gram range = (1, 2), then it will pick the unigram (only single word), bigram (group of 2 consecutive words).\n",
    "# *  Suppose the n-gram range = (1, 3), then it will pick the unigram (only single word), bigram (group of 2 consecutive words)\n",
    "#   and also the trigram (group of 3 consecutive words).\n",
    "\n",
    "# Convert raw text into a matrix of Count Vectorizer features.\n",
    "CountVectObject = CountVectorizer(binary = True, ngram_range = (1, 2))\n",
    "\n",
    "# Tokenize and build vocabulary.\n",
    "CountVectObject.fit(DfData['CleanText'])\n",
    "\n",
    "# Get feature vector.\n",
    "CountVectors = CountVectObject.transform(DfData['CleanText'])"
   ]
  },
  {
   "cell_type": "code",
   "execution_count": null,
   "metadata": {
    "colab": {
     "base_uri": "https://localhost:8080/"
    },
    "executionInfo": {
     "elapsed": 12,
     "status": "ok",
     "timestamp": 1653446873641,
     "user": {
      "displayName": "Kalyana Varma Polapragada",
      "userId": "14326624661476973438"
     },
     "user_tz": -330
    },
    "id": "j33Orwpg23LC",
    "outputId": "3a6c1a63-2f1d-4b7b-9491-1d2f6982eae1"
   },
   "outputs": [],
   "source": [
    "# Verification.\n",
    "CountVectors.shape"
   ]
  },
  {
   "cell_type": "markdown",
   "metadata": {
    "id": "cFhnjYq6ZQxl"
   },
   "source": [
    "<font font size=\"4\" color=Red>*TF-IDF Vectorizer:*</font>"
   ]
  },
  {
   "cell_type": "code",
   "execution_count": null,
   "metadata": {
    "id": "tp4a8UXSaGoW"
   },
   "outputs": [],
   "source": [
    "# Convert raw text into a matrix of TF-IDF features.\n",
    "TfIdfObject = TfidfVectorizer()\n",
    "\n",
    "# Tokenize and build vocabulary.\n",
    "TfIdfObject.fit(DfData['CleanText'])\n",
    "\n",
    "# Get feature vector.\n",
    "TfidfVectors = TfIdfObject.transform(DfData['CleanText'])"
   ]
  },
  {
   "cell_type": "code",
   "execution_count": null,
   "metadata": {
    "colab": {
     "base_uri": "https://localhost:8080/"
    },
    "executionInfo": {
     "elapsed": 3,
     "status": "ok",
     "timestamp": 1653447533699,
     "user": {
      "displayName": "Kalyana Varma Polapragada",
      "userId": "14326624661476973438"
     },
     "user_tz": -330
    },
    "id": "6RIijc7xcBVU",
    "outputId": "e6dc32f5-ad4b-4b98-d3a8-dfa90039cc2e"
   },
   "outputs": [],
   "source": [
    "# Verification.\n",
    "TfidfVectors.shape"
   ]
  },
  {
   "cell_type": "markdown",
   "metadata": {
    "id": "4AJeJfrWZuHb"
   },
   "source": [
    "<font font size=\"4\" color=Red>*Word2Vec Vectorizer:*</font>"
   ]
  },
  {
   "cell_type": "markdown",
   "metadata": {
    "id": "MtmAndOM23d1"
   },
   "source": [
    "ToDo"
   ]
  },
  {
   "cell_type": "markdown",
   "metadata": {
    "id": "7UDAIZI_3CbB"
   },
   "source": [
    "* Word2Vec requires the downloaded pre-trained file which is huge in size.\n",
    "* So, for time being, skip Word2Vec and go ahead with the above two."
   ]
  },
  {
   "cell_type": "code",
   "execution_count": null,
   "metadata": {
    "id": "At-W-101dXyb"
   },
   "outputs": [],
   "source": [
    "# Numeric labels for the classes.\n",
    "DfData['ClassLabel'] = DfData['Class'].replace(['Crime', 'Politics', 'Science'], [0, 1, 2])"
   ]
  },
  {
   "cell_type": "code",
   "execution_count": null,
   "metadata": {
    "colab": {
     "base_uri": "https://localhost:8080/",
     "height": 112
    },
    "executionInfo": {
     "elapsed": 397,
     "status": "ok",
     "timestamp": 1653447541044,
     "user": {
      "displayName": "Kalyana Varma Polapragada",
      "userId": "14326624661476973438"
     },
     "user_tz": -330
    },
    "id": "HYNCqt-rd4Td",
    "outputId": "889c7819-f80c-418f-c76e-d796cd7a609e"
   },
   "outputs": [],
   "source": [
    "# Verification.\n",
    "DfData.head(2)"
   ]
  },
  {
   "cell_type": "markdown",
   "metadata": {
    "id": "zWMEItaU3LTv"
   },
   "source": [
    "<font font size=\"6\" color=Orange>**Step-06: Feature Selection**</font>"
   ]
  },
  {
   "cell_type": "code",
   "execution_count": null,
   "metadata": {
    "id": "pZj1ZWpYe3Kf"
   },
   "outputs": [],
   "source": [
    "# Get the 'X' i.e. Features and 'y' i.e. Labels.\n",
    "X = TfidfVectors.copy()\n",
    "y = DfData.iloc[:, -1].copy()"
   ]
  },
  {
   "cell_type": "code",
   "execution_count": null,
   "metadata": {
    "colab": {
     "base_uri": "https://localhost:8080/"
    },
    "executionInfo": {
     "elapsed": 3,
     "status": "ok",
     "timestamp": 1653447551842,
     "user": {
      "displayName": "Kalyana Varma Polapragada",
      "userId": "14326624661476973438"
     },
     "user_tz": -330
    },
    "id": "sv8zUCDEf4kF",
    "outputId": "c38dbb7c-fbc3-4969-f6b5-b706ffd5b9ca"
   },
   "outputs": [],
   "source": [
    "# Verification.\n",
    "X.shape"
   ]
  },
  {
   "cell_type": "code",
   "execution_count": null,
   "metadata": {
    "colab": {
     "base_uri": "https://localhost:8080/"
    },
    "executionInfo": {
     "elapsed": 388,
     "status": "ok",
     "timestamp": 1653447554101,
     "user": {
      "displayName": "Kalyana Varma Polapragada",
      "userId": "14326624661476973438"
     },
     "user_tz": -330
    },
    "id": "L-mp6Cjyf_kC",
    "outputId": "ab838391-ebb8-4f4c-d809-f1c4cb9a534d"
   },
   "outputs": [],
   "source": [
    "# Verification.\n",
    "y.shape"
   ]
  },
  {
   "cell_type": "code",
   "execution_count": null,
   "metadata": {
    "id": "fxyud1Pxkabf"
   },
   "outputs": [],
   "source": [
    "# Train-Test split. General split ratios are: 80% - 20% (or) 75% - 25% (or) 70% - 30%.\n",
    "# x_train, x_val, y_train, y_val = train_test_split(train_vec, data['classification'], stratify=data['classification'], test_size=0.2)\n",
    "X_train, X_test, y_train, y_test = train_test_split(X, y, stratify = y, test_size = 0.2)"
   ]
  },
  {
   "cell_type": "code",
   "execution_count": null,
   "metadata": {
    "colab": {
     "base_uri": "https://localhost:8080/"
    },
    "executionInfo": {
     "elapsed": 4,
     "status": "ok",
     "timestamp": 1653447557746,
     "user": {
      "displayName": "Kalyana Varma Polapragada",
      "userId": "14326624661476973438"
     },
     "user_tz": -330
    },
    "id": "3xGK6Nonl2wn",
    "outputId": "b43ba42f-b467-4e04-94f6-99773df9a531"
   },
   "outputs": [],
   "source": [
    "# Verification.\n",
    "X_train.shape"
   ]
  },
  {
   "cell_type": "code",
   "execution_count": null,
   "metadata": {
    "colab": {
     "base_uri": "https://localhost:8080/"
    },
    "executionInfo": {
     "elapsed": 371,
     "status": "ok",
     "timestamp": 1653447559831,
     "user": {
      "displayName": "Kalyana Varma Polapragada",
      "userId": "14326624661476973438"
     },
     "user_tz": -330
    },
    "id": "ULXH5x6ql8A0",
    "outputId": "7048adc3-3544-4d6b-f4f7-7d8572c95cc9"
   },
   "outputs": [],
   "source": [
    "# Verification.\n",
    "X_test.shape"
   ]
  },
  {
   "cell_type": "code",
   "execution_count": null,
   "metadata": {
    "colab": {
     "base_uri": "https://localhost:8080/"
    },
    "executionInfo": {
     "elapsed": 2,
     "status": "ok",
     "timestamp": 1653447561478,
     "user": {
      "displayName": "Kalyana Varma Polapragada",
      "userId": "14326624661476973438"
     },
     "user_tz": -330
    },
    "id": "NLfy0o2gl73P",
    "outputId": "b07b3e3b-97fc-4461-ff62-e693c0503163"
   },
   "outputs": [],
   "source": [
    "# Verification.\n",
    "y_train.shape"
   ]
  },
  {
   "cell_type": "code",
   "execution_count": null,
   "metadata": {
    "colab": {
     "base_uri": "https://localhost:8080/"
    },
    "executionInfo": {
     "elapsed": 2,
     "status": "ok",
     "timestamp": 1653447562988,
     "user": {
      "displayName": "Kalyana Varma Polapragada",
      "userId": "14326624661476973438"
     },
     "user_tz": -330
    },
    "id": "u8x3WMpLl7hu",
    "outputId": "4086a55f-b26a-427e-dfc8-4670933caa14"
   },
   "outputs": [],
   "source": [
    "# Verification.\n",
    "y_test.shape"
   ]
  },
  {
   "cell_type": "markdown",
   "metadata": {
    "id": "0IXR8icFhU0p"
   },
   "source": [
    "<font font size=\"6\" color=Orange>**Step-06: Modeling**</font>"
   ]
  },
  {
   "cell_type": "markdown",
   "metadata": {
    "id": "Pe4pXPzg_Udg"
   },
   "source": [
    "<font font size=\"4\" color=Red>*01. (Base Model) Logistic Regression with RandomizedSearchCV:*</font>"
   ]
  },
  {
   "cell_type": "code",
   "execution_count": null,
   "metadata": {
    "colab": {
     "base_uri": "https://localhost:8080/"
    },
    "executionInfo": {
     "elapsed": 94569,
     "status": "ok",
     "timestamp": 1653452343917,
     "user": {
      "displayName": "Kalyana Varma Polapragada",
      "userId": "14326624661476973438"
     },
     "user_tz": -330
    },
    "id": "nJ8DSHQ9CgUz",
    "outputId": "ae9c7ee4-c1d7-42d8-adf8-4573fb3edf9d"
   },
   "outputs": [],
   "source": [
    "C = np.arange(0, 1, 0.001)\n",
    "max_iter = range(100, 500)\n",
    "warm_start = [True, False]\n",
    "solver = ['lbfgs', 'newton-cg', 'liblinear']\n",
    "penalty = ['l2', 'l1']\n",
    "\n",
    "params = {\n",
    "          'C' : C,\n",
    "          'max_iter' : max_iter,\n",
    "          'warm_start' : warm_start,\n",
    "          'solver' : solver,\n",
    "          'penalty' : penalty\n",
    "         }\n",
    "\n",
    "random_search = RandomizedSearchCV(\n",
    "                                    estimator = LogisticRegression(random_state = 1),\n",
    "                                    param_distributions = params,\n",
    "                                    n_iter = 100,\n",
    "                                    cv = 3,\n",
    "                                    n_jobs = -1,\n",
    "                                    random_state = 1,\n",
    "                                    verbose = 1\n",
    "                                  ).fit(X_train, y_train)\n",
    "\n",
    "random_search.best_params_"
   ]
  },
  {
   "cell_type": "code",
   "execution_count": null,
   "metadata": {
    "id": "atk1pT4ACckE"
   },
   "outputs": [],
   "source": [
    "# Create the object for the model or classifier.\n",
    "ModelLR = random_search.best_estimator_"
   ]
  },
  {
   "cell_type": "code",
   "execution_count": null,
   "metadata": {
    "id": "_7bScfI1CckE"
   },
   "outputs": [],
   "source": [
    "# # Note: This part is already done using 'RandomizedSearchCV'.\n",
    "\n",
    "# # Training or fitting the model or classifier (Using training data).\n",
    "# ModelLR.fit(X_train, y_train)"
   ]
  },
  {
   "cell_type": "code",
   "execution_count": null,
   "metadata": {
    "colab": {
     "base_uri": "https://localhost:8080/"
    },
    "executionInfo": {
     "elapsed": 440,
     "status": "ok",
     "timestamp": 1653452395216,
     "user": {
      "displayName": "Kalyana Varma Polapragada",
      "userId": "14326624661476973438"
     },
     "user_tz": -330
    },
    "id": "tUQBLoL6CckE",
    "outputId": "86f6b36b-465d-469a-cb56-448742645466"
   },
   "outputs": [],
   "source": [
    "# Calculating the accuracy i.e. Calculating the score i.e. Estimate accuracy of the model or classifier.\n",
    "LrScore = ModelLR.score(X_test, y_test)\n",
    "print(\"Score of the Model or Classifier: {:0.05f}\".format(LrScore))"
   ]
  },
  {
   "cell_type": "code",
   "execution_count": null,
   "metadata": {
    "colab": {
     "base_uri": "https://localhost:8080/"
    },
    "executionInfo": {
     "elapsed": 414,
     "status": "ok",
     "timestamp": 1653452414584,
     "user": {
      "displayName": "Kalyana Varma Polapragada",
      "userId": "14326624661476973438"
     },
     "user_tz": -330
    },
    "id": "AwDtGL7GCckF",
    "outputId": "1f360611-94e9-43de-da3a-96b0f52d6427"
   },
   "outputs": [],
   "source": [
    "# Predict or Test the trained model or classifier.\n",
    "y_pred = ModelLR.predict(X_test)\n",
    "\n",
    "# Verification.\n",
    "print(y_pred)"
   ]
  },
  {
   "cell_type": "code",
   "execution_count": null,
   "metadata": {
    "colab": {
     "base_uri": "https://localhost:8080/"
    },
    "executionInfo": {
     "elapsed": 383,
     "status": "ok",
     "timestamp": 1653452422531,
     "user": {
      "displayName": "Kalyana Varma Polapragada",
      "userId": "14326624661476973438"
     },
     "user_tz": -330
    },
    "id": "30WpKmaMCckF",
    "outputId": "edd0767d-ee60-49b9-84ea-cec95382d119"
   },
   "outputs": [],
   "source": [
    "# Evaluate the accuracy of the model.\n",
    "LrAccuracyScore = accuracy_score(y_test, y_pred)\n",
    "print(\"{:0.05f}\".format(LrAccuracyScore))"
   ]
  },
  {
   "cell_type": "code",
   "execution_count": null,
   "metadata": {
    "colab": {
     "base_uri": "https://localhost:8080/"
    },
    "executionInfo": {
     "elapsed": 424,
     "status": "ok",
     "timestamp": 1653452487288,
     "user": {
      "displayName": "Kalyana Varma Polapragada",
      "userId": "14326624661476973438"
     },
     "user_tz": -330
    },
    "id": "h1BlRg9QCckG",
    "outputId": "ac6060b9-91b3-4d7f-cfd6-159d451701d2"
   },
   "outputs": [],
   "source": [
    "# Evaluate the accuracy of the model.\n",
    "LrKohenKappaScore = cohen_kappa_score(y_test, y_pred)\n",
    "print(\"{:0.05f}\".format(LrKohenKappaScore))"
   ]
  },
  {
   "cell_type": "code",
   "execution_count": null,
   "metadata": {
    "id": "DvzMmC4j5J5N"
   },
   "outputs": [],
   "source": [
    "# Dataframe with Accuracy score and Cohen Kappa score.\n",
    "DfLr = pd.DataFrame([LrAccuracyScore, LrKohenKappaScore], columns = [\"Logistic Regression with RandomizedSearchCV\"])"
   ]
  },
  {
   "cell_type": "code",
   "execution_count": null,
   "metadata": {
    "colab": {
     "base_uri": "https://localhost:8080/",
     "height": 621
    },
    "executionInfo": {
     "elapsed": 480,
     "status": "ok",
     "timestamp": 1653452764446,
     "user": {
      "displayName": "Kalyana Varma Polapragada",
      "userId": "14326624661476973438"
     },
     "user_tz": -330
    },
    "id": "gqpMRGj7CckG",
    "outputId": "231e4833-e7a2-425d-8ac1-07edb2b888c5"
   },
   "outputs": [],
   "source": [
    "# Confusion matrix for the model or classifier.\n",
    "LrCM = confusion_matrix(y_test, y_pred)\n",
    "\n",
    "plt.figure(figsize = (15, 10))\n",
    "# ax = sns.heatmap(LrCM, cmap = \"coolwarm\", annot=True, fmt=\".1f\")\n",
    "ax = sns.heatmap(LrCM, cmap = \"Greens\", annot=True, fmt=\"d\")\n",
    "ax = ax.set(\n",
    "            xlabel = 'Predicted', ylabel = 'True', title = 'Confusion Matrix',\n",
    "            xticklabels = (['Crime', 'Politics', 'Science']),\n",
    "            yticklabels = (['Crime', 'Politics', 'Science'])\n",
    "           )"
   ]
  },
  {
   "cell_type": "code",
   "execution_count": null,
   "metadata": {
    "id": "NIhrokPJAd4L"
   },
   "outputs": [],
   "source": [
    "# Save the model.\n",
    "TempPath = ROOT_PATH + \"LogisticRegression.pickle\"\n",
    "\n",
    "with open(TempPath, 'wb') as PickleFile:\n",
    "  pickle.dump(ModelLR, PickleFile)"
   ]
  },
  {
   "cell_type": "code",
   "execution_count": null,
   "metadata": {
    "id": "jXd017VDA79_"
   },
   "outputs": [],
   "source": [
    "# Load the model.\n",
    "TempPath = ROOT_PATH + \"LogisticRegression.pickle\"\n",
    "\n",
    "with open(TempPath, 'rb') as PickleFile:\n",
    "  ModelLR = pickle.load(PickleFile)"
   ]
  },
  {
   "cell_type": "code",
   "execution_count": null,
   "metadata": {
    "colab": {
     "base_uri": "https://localhost:8080/"
    },
    "executionInfo": {
     "elapsed": 393,
     "status": "ok",
     "timestamp": 1653453356741,
     "user": {
      "displayName": "Kalyana Varma Polapragada",
      "userId": "14326624661476973438"
     },
     "user_tz": -330
    },
    "id": "R_4aIyuTCP21",
    "outputId": "4d1087e9-72b3-4bc5-cfac-c350ffd225b2"
   },
   "outputs": [],
   "source": [
    "# Verification.\n",
    "TestPred = ModelLR.predict(X_test)\n",
    "print(confusion_matrix(y_test, TestPred))"
   ]
  },
  {
   "cell_type": "markdown",
   "metadata": {
    "id": "BJo40vWw_TmL"
   },
   "source": [
    "<font font size=\"4\" color=Red>*02. (Base Model) Multinomial Naive Bayes with RandomizedSearchCV:*</font>"
   ]
  },
  {
   "cell_type": "code",
   "execution_count": null,
   "metadata": {
    "colab": {
     "base_uri": "https://localhost:8080/"
    },
    "executionInfo": {
     "elapsed": 6530,
     "status": "ok",
     "timestamp": 1653455156052,
     "user": {
      "displayName": "Kalyana Varma Polapragada",
      "userId": "14326624661476973438"
     },
     "user_tz": -330
    },
    "id": "TvCFiyiRCbBS",
    "outputId": "758673b0-9cf2-4c1e-8318-8af5dd083e2c"
   },
   "outputs": [],
   "source": [
    "alpha = np.arange(0, 1, 0.001)\n",
    "fit_prior = [True, False]\n",
    "\n",
    "params =  {\n",
    "            'alpha' : alpha,\n",
    "            'fit_prior' : fit_prior\n",
    "          }\n",
    "\n",
    "random_search = RandomizedSearchCV(\n",
    "                                    estimator = MultinomialNB(),\n",
    "                                    param_distributions = params,\n",
    "                                    n_iter = 100,\n",
    "                                    cv = 3,\n",
    "                                    n_jobs = -1,\n",
    "                                    random_state = 1,\n",
    "                                    verbose = 1\n",
    "                                  ).fit(X_train, y_train)\n",
    "\n",
    "random_search.best_params_"
   ]
  },
  {
   "cell_type": "code",
   "execution_count": null,
   "metadata": {
    "id": "vC9Bodx_CbBT"
   },
   "outputs": [],
   "source": [
    "# Create the object for the model or classifier.\n",
    "ModelMNB = random_search.best_estimator_"
   ]
  },
  {
   "cell_type": "code",
   "execution_count": null,
   "metadata": {
    "id": "wr6ScRA_CbBT"
   },
   "outputs": [],
   "source": [
    "# # Note: This part is already done using 'RandomizedSearchCV'.\n",
    "\n",
    "# # Training or fitting the model or classifier (Using training data).\n",
    "# ModelMNB.fit(X_train, y_train)"
   ]
  },
  {
   "cell_type": "code",
   "execution_count": null,
   "metadata": {
    "colab": {
     "base_uri": "https://localhost:8080/"
    },
    "executionInfo": {
     "elapsed": 606,
     "status": "ok",
     "timestamp": 1653455166164,
     "user": {
      "displayName": "Kalyana Varma Polapragada",
      "userId": "14326624661476973438"
     },
     "user_tz": -330
    },
    "id": "2Fc6RMuxCbBT",
    "outputId": "5761f462-1383-4b65-e901-915b231e9ab6"
   },
   "outputs": [],
   "source": [
    "# Calculating the accuracy i.e. Calculating the score i.e. Estimate accuracy of the model or classifier.\n",
    "MnbScore = ModelMNB.score(X_test, y_test)\n",
    "print(\"Score of the Model or Classifier: {:0.05f}\".format(MnbScore))"
   ]
  },
  {
   "cell_type": "code",
   "execution_count": null,
   "metadata": {
    "colab": {
     "base_uri": "https://localhost:8080/"
    },
    "executionInfo": {
     "elapsed": 3,
     "status": "ok",
     "timestamp": 1653455171466,
     "user": {
      "displayName": "Kalyana Varma Polapragada",
      "userId": "14326624661476973438"
     },
     "user_tz": -330
    },
    "id": "RvyWj5kECbBU",
    "outputId": "0f8ed5b1-0014-466c-f752-b94314b66c60"
   },
   "outputs": [],
   "source": [
    "# Predict or Test the trained model or classifier.\n",
    "y_pred = ModelMNB.predict(X_test)\n",
    "\n",
    "# Verification.\n",
    "print(y_pred)"
   ]
  },
  {
   "cell_type": "code",
   "execution_count": null,
   "metadata": {
    "colab": {
     "base_uri": "https://localhost:8080/"
    },
    "executionInfo": {
     "elapsed": 5,
     "status": "ok",
     "timestamp": 1653455176204,
     "user": {
      "displayName": "Kalyana Varma Polapragada",
      "userId": "14326624661476973438"
     },
     "user_tz": -330
    },
    "id": "ljCO7sj3CbBU",
    "outputId": "44bc27a8-6ed3-4f7f-a90a-e1d9a27a810e"
   },
   "outputs": [],
   "source": [
    "# Evaluate the accuracy of the model.\n",
    "MnbAccuracyScore = accuracy_score(y_test, y_pred)\n",
    "print(\"{:0.05f}\".format(MnbAccuracyScore))"
   ]
  },
  {
   "cell_type": "code",
   "execution_count": null,
   "metadata": {
    "colab": {
     "base_uri": "https://localhost:8080/"
    },
    "executionInfo": {
     "elapsed": 457,
     "status": "ok",
     "timestamp": 1653455179260,
     "user": {
      "displayName": "Kalyana Varma Polapragada",
      "userId": "14326624661476973438"
     },
     "user_tz": -330
    },
    "id": "aBMgop01CbBU",
    "outputId": "adbce866-054f-49f8-a105-107d9d2f27cb"
   },
   "outputs": [],
   "source": [
    "# Evaluate the accuracy of the model.\n",
    "MnbKohenKappaScore = cohen_kappa_score(y_test, y_pred)\n",
    "print(\"{:0.05f}\".format(MnbKohenKappaScore))"
   ]
  },
  {
   "cell_type": "code",
   "execution_count": null,
   "metadata": {
    "id": "0uedwZbf6A08"
   },
   "outputs": [],
   "source": [
    "# Dataframe with with Accuracy score and Cohen Kappa score.\n",
    "DfMnb = pd.DataFrame([MnbAccuracyScore, MnbKohenKappaScore], columns = [\"Multinomial Naive Bayes with RandomizedSearchCV\"])"
   ]
  },
  {
   "cell_type": "code",
   "execution_count": null,
   "metadata": {
    "colab": {
     "base_uri": "https://localhost:8080/",
     "height": 621
    },
    "executionInfo": {
     "elapsed": 1107,
     "status": "ok",
     "timestamp": 1653455186436,
     "user": {
      "displayName": "Kalyana Varma Polapragada",
      "userId": "14326624661476973438"
     },
     "user_tz": -330
    },
    "id": "HD3XdVxfCbBV",
    "outputId": "8f6703ea-cdeb-41fe-8589-751c9143e097"
   },
   "outputs": [],
   "source": [
    "# Confusion matrix for the model or classifier.\n",
    "MnbCM = confusion_matrix(y_test, y_pred)\n",
    "\n",
    "plt.figure(figsize = (15, 10))\n",
    "# ax = sns.heatmap(MnbCM, cmap = \"coolwarm\", annot=True, fmt=\".1f\")\n",
    "ax = sns.heatmap(MnbCM, cmap = \"Greens\", annot=True, fmt=\"d\")\n",
    "ax = ax.set(\n",
    "            xlabel = 'Predicted', ylabel = 'True', title = 'Confusion Matrix',\n",
    "            xticklabels = (['Crime', 'Politics', 'Science']),\n",
    "            yticklabels = (['Crime', 'Politics', 'Science'])\n",
    "           )"
   ]
  },
  {
   "cell_type": "code",
   "execution_count": null,
   "metadata": {
    "id": "3v5UypIKgsRZ"
   },
   "outputs": [],
   "source": [
    "# Save the model.\n",
    "TempPath = ROOT_PATH + \"MultinomialNaiveBayes.pickle\"\n",
    "\n",
    "with open(TempPath, 'wb') as PickleFile:\n",
    "  pickle.dump(ModelMNB, PickleFile)"
   ]
  },
  {
   "cell_type": "code",
   "execution_count": null,
   "metadata": {
    "id": "g250NO8-gsHl"
   },
   "outputs": [],
   "source": [
    "# Load the model.\n",
    "TempPath = ROOT_PATH + \"MultinomialNaiveBayes.pickle\"\n",
    "\n",
    "with open(TempPath, 'rb') as PickleFile:\n",
    "  ModelMNB = pickle.load(PickleFile)"
   ]
  },
  {
   "cell_type": "code",
   "execution_count": null,
   "metadata": {
    "colab": {
     "base_uri": "https://localhost:8080/"
    },
    "executionInfo": {
     "elapsed": 422,
     "status": "ok",
     "timestamp": 1653455195856,
     "user": {
      "displayName": "Kalyana Varma Polapragada",
      "userId": "14326624661476973438"
     },
     "user_tz": -330
    },
    "id": "JVIEEFuJgsAd",
    "outputId": "44294f07-f4b5-4efd-bd62-ff80383766ef"
   },
   "outputs": [],
   "source": [
    "# Verification.\n",
    "TestPred = ModelMNB.predict(X_test)\n",
    "print(confusion_matrix(y_test, TestPred))"
   ]
  },
  {
   "cell_type": "markdown",
   "metadata": {
    "id": "h34oeP6h_TP6"
   },
   "source": [
    "<font font size=\"4\" color=Red>*03. (Base Model) SDGClassifier with Hinge Loss -> SVM:*</font>"
   ]
  },
  {
   "cell_type": "markdown",
   "metadata": {
    "id": "ceYQSLN4Jw10"
   },
   "source": [
    "* Support Vector Classifiers can be implemented by using the SGDClassifier with 'hinge' as the loss function.\n",
    "* Since the 'squared hinge loss' removes the possibility of negative class in the range, makes it the optimal choice for the loss function.\n",
    "* Cross Validation failed to yeild better results than the base model defined, hence skipped."
   ]
  },
  {
   "cell_type": "code",
   "execution_count": null,
   "metadata": {
    "colab": {
     "base_uri": "https://localhost:8080/"
    },
    "executionInfo": {
     "elapsed": 604,
     "status": "ok",
     "timestamp": 1653457378732,
     "user": {
      "displayName": "Kalyana Varma Polapragada",
      "userId": "14326624661476973438"
     },
     "user_tz": -330
    },
    "id": "BsPsbSw-CZso",
    "outputId": "cd79953a-42b8-4741-b989-8a7974b84b7a"
   },
   "outputs": [],
   "source": [
    "# Create the object for the model or classifier.\n",
    "ModelSGDH = SGDClassifier(\n",
    "                          loss='squared_hinge',\n",
    "                          penalty='l2',\n",
    "                          alpha=0.0001,\n",
    "                          l1_ratio=0.15,\n",
    "                          fit_intercept=True,\n",
    "                          max_iter=1000,\n",
    "                          tol=0.001,\n",
    "                          shuffle=True,\n",
    "                          verbose=1,\n",
    "                          epsilon=0.1,\n",
    "                          n_jobs=-1,\n",
    "                          random_state=1,\n",
    "                          learning_rate='optimal',\n",
    "                          eta0=0.0,\n",
    "                          power_t=0.5,\n",
    "                          early_stopping=False,\n",
    "                          validation_fraction=0.1,\n",
    "                          n_iter_no_change=5,\n",
    "                          class_weight=None,\n",
    "                          warm_start=False,\n",
    "                          average=False\n",
    "                         ).fit(X_train, y_train)"
   ]
  },
  {
   "cell_type": "code",
   "execution_count": null,
   "metadata": {
    "id": "Z7KOs6K_CZsp"
   },
   "outputs": [],
   "source": [
    "# # Note: This part is already done in the above cell.\n",
    "\n",
    "# # Create the object for the model or classifier.\n",
    "# ModelSGDH = random_search.best_estimator_"
   ]
  },
  {
   "cell_type": "code",
   "execution_count": null,
   "metadata": {
    "id": "sjjwB5fQCZsp"
   },
   "outputs": [],
   "source": [
    "# # Note: This part is already done using 'RandomizedSearchCV'.\n",
    "\n",
    "# # Training or fitting the model or classifier (Using training data).\n",
    "# ModelSGDH.fit(X_train, y_train)"
   ]
  },
  {
   "cell_type": "code",
   "execution_count": null,
   "metadata": {
    "colab": {
     "base_uri": "https://localhost:8080/"
    },
    "executionInfo": {
     "elapsed": 427,
     "status": "ok",
     "timestamp": 1653457759747,
     "user": {
      "displayName": "Kalyana Varma Polapragada",
      "userId": "14326624661476973438"
     },
     "user_tz": -330
    },
    "id": "gHurPJrFCZsq",
    "outputId": "57d1c7df-2403-4056-b162-368bbf939f71"
   },
   "outputs": [],
   "source": [
    "# Calculating the accuracy i.e. Calculating the score i.e. Estimate accuracy of the model or classifier.\n",
    "SgdhScore = ModelSGDH.score(X_test, y_test)\n",
    "print(\"Score of the Model or Classifier: {:0.05f}\".format(SgdhScore))"
   ]
  },
  {
   "cell_type": "code",
   "execution_count": null,
   "metadata": {
    "colab": {
     "base_uri": "https://localhost:8080/"
    },
    "executionInfo": {
     "elapsed": 443,
     "status": "ok",
     "timestamp": 1653457771044,
     "user": {
      "displayName": "Kalyana Varma Polapragada",
      "userId": "14326624661476973438"
     },
     "user_tz": -330
    },
    "id": "t2NeuXklCZsq",
    "outputId": "137c89a1-bbc8-4e49-9dba-c0427cdf057a"
   },
   "outputs": [],
   "source": [
    "# Predict or Test the trained model or classifier.\n",
    "y_pred = ModelSGDH.predict(X_test)\n",
    "\n",
    "# Verification.\n",
    "print(y_pred)"
   ]
  },
  {
   "cell_type": "code",
   "execution_count": null,
   "metadata": {
    "colab": {
     "base_uri": "https://localhost:8080/"
    },
    "executionInfo": {
     "elapsed": 2,
     "status": "ok",
     "timestamp": 1653457772886,
     "user": {
      "displayName": "Kalyana Varma Polapragada",
      "userId": "14326624661476973438"
     },
     "user_tz": -330
    },
    "id": "alip2Mm4CZsq",
    "outputId": "115eee75-2b5a-414e-b873-3f8910aa7c87"
   },
   "outputs": [],
   "source": [
    "# Evaluate the accuracy of the model.\n",
    "SgdhAccuracyScore = accuracy_score(y_test, y_pred)\n",
    "print(\"{:0.05f}\".format(SgdhAccuracyScore))"
   ]
  },
  {
   "cell_type": "code",
   "execution_count": null,
   "metadata": {
    "colab": {
     "base_uri": "https://localhost:8080/"
    },
    "executionInfo": {
     "elapsed": 4,
     "status": "ok",
     "timestamp": 1653457774302,
     "user": {
      "displayName": "Kalyana Varma Polapragada",
      "userId": "14326624661476973438"
     },
     "user_tz": -330
    },
    "id": "5HDYSBFZCZsq",
    "outputId": "df88e843-ccb6-4780-a21d-a65124c90a15"
   },
   "outputs": [],
   "source": [
    "# Evaluate the accuracy of the model.\n",
    "SgdhKohenKappaScore = cohen_kappa_score(y_test, y_pred)\n",
    "print(\"{:0.05f}\".format(SgdhKohenKappaScore))"
   ]
  },
  {
   "cell_type": "code",
   "execution_count": null,
   "metadata": {
    "id": "CFrtXV8C6e_J"
   },
   "outputs": [],
   "source": [
    "# Dataframe with with Accuracy score and Cohen Kappa score.\n",
    "DfSgdh = pd.DataFrame([SgdhAccuracyScore, SgdhKohenKappaScore], columns = [\"SDGClassifier with Hinge Loss -> SVM\"])"
   ]
  },
  {
   "cell_type": "code",
   "execution_count": null,
   "metadata": {
    "colab": {
     "base_uri": "https://localhost:8080/",
     "height": 621
    },
    "executionInfo": {
     "elapsed": 524,
     "status": "ok",
     "timestamp": 1653457780523,
     "user": {
      "displayName": "Kalyana Varma Polapragada",
      "userId": "14326624661476973438"
     },
     "user_tz": -330
    },
    "id": "Lvz-enofCZsq",
    "outputId": "1ff65493-d206-4eb6-a62b-8157298cca71"
   },
   "outputs": [],
   "source": [
    "# Confusion matrix for the model or classifier.\n",
    "SgdhCM = confusion_matrix(y_test, y_pred)\n",
    "\n",
    "plt.figure(figsize = (15, 10))\n",
    "# ax = sns.heatmap(SgdhCM, cmap = \"coolwarm\", annot=True, fmt=\".1f\")\n",
    "ax = sns.heatmap(SgdhCM, cmap = \"Greens\", annot=True, fmt=\"d\")\n",
    "ax = ax.set(\n",
    "            xlabel = 'Predicted', ylabel = 'True', title = 'Confusion Matrix',\n",
    "            xticklabels = (['Crime', 'Politics', 'Science']),\n",
    "            yticklabels = (['Crime', 'Politics', 'Science'])\n",
    "           )"
   ]
  },
  {
   "cell_type": "code",
   "execution_count": null,
   "metadata": {
    "id": "Pnve00MlhitX"
   },
   "outputs": [],
   "source": [
    "# Save the model.\n",
    "TempPath = ROOT_PATH + \"SDGClassifierWithHingeLossSVM.pickle\"\n",
    "\n",
    "with open(TempPath, 'wb') as PickleFile:\n",
    "  pickle.dump(ModelSGDH, PickleFile)"
   ]
  },
  {
   "cell_type": "code",
   "execution_count": null,
   "metadata": {
    "id": "Mpt-GNwphikT"
   },
   "outputs": [],
   "source": [
    "# Load the model.\n",
    "TempPath = ROOT_PATH + \"SDGClassifierWithHingeLossSVM.pickle\"\n",
    "\n",
    "with open(TempPath, 'rb') as PickleFile:\n",
    "  ModelSGDH = pickle.load(PickleFile)"
   ]
  },
  {
   "cell_type": "code",
   "execution_count": null,
   "metadata": {
    "colab": {
     "base_uri": "https://localhost:8080/"
    },
    "executionInfo": {
     "elapsed": 446,
     "status": "ok",
     "timestamp": 1653457789325,
     "user": {
      "displayName": "Kalyana Varma Polapragada",
      "userId": "14326624661476973438"
     },
     "user_tz": -330
    },
    "id": "zzOnGKH5hiaE",
    "outputId": "6a1ccf58-e96b-4c4f-8116-a49109f8787c"
   },
   "outputs": [],
   "source": [
    "# Verification.\n",
    "TestPred = ModelSGDH.predict(X_test)\n",
    "print(confusion_matrix(y_test, TestPred))"
   ]
  },
  {
   "cell_type": "markdown",
   "metadata": {
    "id": "GHXWX-TV_TAt"
   },
   "source": [
    "<font font size=\"4\" color=Red>*04. (Base Model) Decision Tree Classifier with RandomizedSearchCV:*</font>"
   ]
  },
  {
   "cell_type": "code",
   "execution_count": null,
   "metadata": {
    "colab": {
     "base_uri": "https://localhost:8080/"
    },
    "executionInfo": {
     "elapsed": 395527,
     "status": "ok",
     "timestamp": 1653460641692,
     "user": {
      "displayName": "Kalyana Varma Polapragada",
      "userId": "14326624661476973438"
     },
     "user_tz": -330
    },
    "id": "rl5QPgPrCXKD",
    "outputId": "baf7891b-ea09-4120-bc5e-7524043d4941"
   },
   "outputs": [],
   "source": [
    "criterion = ['gini', 'entropy']\n",
    "splitter = ['best', 'random']\n",
    "max_depth = range(5, 200)\n",
    "max_features = ['auto', 'sqrt', 'log2']\n",
    "\n",
    "params =  {\n",
    "            'criterion' : criterion,\n",
    "            'splitter' : splitter,\n",
    "            'max_depth' : max_depth,\n",
    "            'max_features' : max_features\n",
    "          }\n",
    "\n",
    "random_search = RandomizedSearchCV(\n",
    "                                    estimator = DecisionTreeClassifier(random_state = 1),\n",
    "                                    param_distributions = params,\n",
    "                                    n_iter = 100,\n",
    "                                    cv = 3,\n",
    "                                    n_jobs = -1,\n",
    "                                    random_state = 1,\n",
    "                                    verbose = 1\n",
    "                                  ).fit(X_train.toarray(), y_train)\n",
    "\n",
    "random_search.best_params_"
   ]
  },
  {
   "cell_type": "code",
   "execution_count": null,
   "metadata": {
    "id": "9LFjRYaOCXKD"
   },
   "outputs": [],
   "source": [
    "# Create the object for the model or classifier.\n",
    "ModelDT = random_search.best_estimator_"
   ]
  },
  {
   "cell_type": "code",
   "execution_count": null,
   "metadata": {
    "id": "UrI-hhbTCXKE"
   },
   "outputs": [],
   "source": [
    "# # Note: This part is already done using 'RandomizedSearchCV'.\n",
    "\n",
    "# # Training or fitting the model or classifier (Using training data).\n",
    "# ModelDT.fit(X_train, y_train)"
   ]
  },
  {
   "cell_type": "code",
   "execution_count": null,
   "metadata": {
    "colab": {
     "base_uri": "https://localhost:8080/"
    },
    "executionInfo": {
     "elapsed": 1125,
     "status": "ok",
     "timestamp": 1653461185922,
     "user": {
      "displayName": "Kalyana Varma Polapragada",
      "userId": "14326624661476973438"
     },
     "user_tz": -330
    },
    "id": "QWkW7Qp5CXKE",
    "outputId": "10aa23bf-9c1f-42c8-ff6d-d27e4db6ac5b"
   },
   "outputs": [],
   "source": [
    "# Calculating the accuracy i.e. Calculating the score i.e. Estimate accuracy of the model or classifier.\n",
    "DtScore = ModelDT.score(X_test.toarray(), y_test)\n",
    "print(\"Score of the Model or Classifier: {:0.05f}\".format(DtScore))"
   ]
  },
  {
   "cell_type": "code",
   "execution_count": null,
   "metadata": {
    "id": "vup7q_SeQ2oy"
   },
   "outputs": [],
   "source": [
    "# ??????????????????????????????????????????????????????????????????????????????\n",
    "# # Calculating the accuracy i.e. Calculating the score i.e. Estimate accuracy of the model or classifier.\n",
    "# DtScore = ModelDT.score(X_train.toarray(), y_train)\n",
    "# print(\"Score of the Model or Classifier: {:0.05f}\".format(DtScore))\n",
    "# ??????????????????????????????????????????????????????????????????????????????"
   ]
  },
  {
   "cell_type": "code",
   "execution_count": null,
   "metadata": {
    "colab": {
     "base_uri": "https://localhost:8080/"
    },
    "executionInfo": {
     "elapsed": 441,
     "status": "ok",
     "timestamp": 1653461329153,
     "user": {
      "displayName": "Kalyana Varma Polapragada",
      "userId": "14326624661476973438"
     },
     "user_tz": -330
    },
    "id": "mkkhb12GCXKE",
    "outputId": "eb7a0021-d3e0-44a8-d6db-26a01766d908"
   },
   "outputs": [],
   "source": [
    "# Predict or Test the trained model or classifier.\n",
    "y_pred = ModelDT.predict(X_test.toarray())\n",
    "\n",
    "# Verification.\n",
    "print(y_pred)"
   ]
  },
  {
   "cell_type": "code",
   "execution_count": null,
   "metadata": {
    "colab": {
     "base_uri": "https://localhost:8080/"
    },
    "executionInfo": {
     "elapsed": 445,
     "status": "ok",
     "timestamp": 1653461429181,
     "user": {
      "displayName": "Kalyana Varma Polapragada",
      "userId": "14326624661476973438"
     },
     "user_tz": -330
    },
    "id": "qupgq-WTCXKE",
    "outputId": "ec4aa384-c577-4da4-db16-604913e8622c"
   },
   "outputs": [],
   "source": [
    "# Evaluate the accuracy of the model.\n",
    "DtAccuracyScore = accuracy_score(y_test, y_pred)\n",
    "print(\"{:0.05f}\".format(DtAccuracyScore))"
   ]
  },
  {
   "cell_type": "code",
   "execution_count": null,
   "metadata": {
    "colab": {
     "base_uri": "https://localhost:8080/"
    },
    "executionInfo": {
     "elapsed": 603,
     "status": "ok",
     "timestamp": 1653461432720,
     "user": {
      "displayName": "Kalyana Varma Polapragada",
      "userId": "14326624661476973438"
     },
     "user_tz": -330
    },
    "id": "1pDZf-khCXKE",
    "outputId": "d580ddac-fbbe-4a7a-9569-5c1b0b77d34d"
   },
   "outputs": [],
   "source": [
    "# Evaluate the accuracy of the model.\n",
    "DtKohenKappaScore = cohen_kappa_score(y_test, y_pred)\n",
    "print(\"{:0.05f}\".format(DtKohenKappaScore))"
   ]
  },
  {
   "cell_type": "code",
   "execution_count": null,
   "metadata": {
    "id": "uo8iYkJR7LH_"
   },
   "outputs": [],
   "source": [
    "# Dataframe with with Accuracy score and Cohen Kappa score.\n",
    "DfDt = pd.DataFrame([DtAccuracyScore, DtKohenKappaScore], columns = [\"Decision Tree Classifier with RandomizedSearchCV\"])"
   ]
  },
  {
   "cell_type": "code",
   "execution_count": null,
   "metadata": {
    "colab": {
     "base_uri": "https://localhost:8080/",
     "height": 621
    },
    "executionInfo": {
     "elapsed": 2268,
     "status": "ok",
     "timestamp": 1653461442016,
     "user": {
      "displayName": "Kalyana Varma Polapragada",
      "userId": "14326624661476973438"
     },
     "user_tz": -330
    },
    "id": "TdvjfN-9CXKE",
    "outputId": "b767bafd-2771-4ad6-a605-2b7db8b9480b"
   },
   "outputs": [],
   "source": [
    "# Confusion matrix for the model or classifier.\n",
    "DtCM = confusion_matrix(y_test, y_pred)\n",
    "\n",
    "plt.figure(figsize = (15, 10))\n",
    "# ax = sns.heatmap(DtCM, cmap = \"coolwarm\", annot=True, fmt=\".1f\")\n",
    "ax = sns.heatmap(DtCM, cmap = \"Greens\", annot=True, fmt=\"d\")\n",
    "ax = ax.set(\n",
    "            xlabel = 'Predicted', ylabel = 'True', title = 'Confusion Matrix',\n",
    "            xticklabels = (['Crime', 'Politics', 'Science']),\n",
    "            yticklabels = (['Crime', 'Politics', 'Science'])\n",
    "           )"
   ]
  },
  {
   "cell_type": "code",
   "execution_count": null,
   "metadata": {
    "id": "loHfQWiHiH6v"
   },
   "outputs": [],
   "source": [
    "# Save the model.\n",
    "TempPath = ROOT_PATH + \"DecisionTree.pickle\"\n",
    "\n",
    "with open(TempPath, 'wb') as PickleFile:\n",
    "  pickle.dump(ModelDT, PickleFile)"
   ]
  },
  {
   "cell_type": "code",
   "execution_count": null,
   "metadata": {
    "id": "bwYER2L1iH3d"
   },
   "outputs": [],
   "source": [
    "# Load the model.\n",
    "TempPath = ROOT_PATH + \"DecisionTree.pickle\"\n",
    "\n",
    "with open(TempPath, 'rb') as PickleFile:\n",
    "  ModelDT = pickle.load(PickleFile)"
   ]
  },
  {
   "cell_type": "code",
   "execution_count": null,
   "metadata": {
    "colab": {
     "base_uri": "https://localhost:8080/"
    },
    "executionInfo": {
     "elapsed": 441,
     "status": "ok",
     "timestamp": 1653461448853,
     "user": {
      "displayName": "Kalyana Varma Polapragada",
      "userId": "14326624661476973438"
     },
     "user_tz": -330
    },
    "id": "6ipc9l_WiH0S",
    "outputId": "7d9837a5-c5e1-4114-fff5-bcaf008162ba"
   },
   "outputs": [],
   "source": [
    "# Verification.\n",
    "TestPred = ModelDT.predict(X_test)\n",
    "print(confusion_matrix(y_test, TestPred))"
   ]
  },
  {
   "cell_type": "markdown",
   "metadata": {
    "id": "pkuLXupHheme"
   },
   "source": [
    "<font font size=\"4\" color=Red>*05. (Base Model) k-Nearest Neighbors (k-NN) Classifier with RandomizedSearchCV:*</font>"
   ]
  },
  {
   "cell_type": "code",
   "execution_count": null,
   "metadata": {
    "colab": {
     "base_uri": "https://localhost:8080/"
    },
    "executionInfo": {
     "elapsed": 460858,
     "status": "ok",
     "timestamp": 1653462266380,
     "user": {
      "displayName": "Kalyana Varma Polapragada",
      "userId": "14326624661476973438"
     },
     "user_tz": -330
    },
    "id": "J1y1QeB2j2Ux",
    "outputId": "6f60b4f2-25f2-4725-baf8-5d6e5345a185"
   },
   "outputs": [],
   "source": [
    "n_neighbors = range(5, 100)\n",
    "weights = ['uniform', 'distance']\n",
    "algorithm = ['auto', 'ball_tree', 'kd_tree', 'brute']\n",
    "leaf_size = range(30, 100)\n",
    "p = range(1, 4)\n",
    "\n",
    "params =  {\n",
    "            'n_neighbors' : n_neighbors,\n",
    "            'weights' : weights,\n",
    "            'algorithm' : algorithm,\n",
    "            'leaf_size' : leaf_size,\n",
    "            'p'  : p\n",
    "          }\n",
    "\n",
    "random_search = RandomizedSearchCV(\n",
    "                                    estimator = KNeighborsClassifier(n_jobs = -1),\n",
    "                                    param_distributions = params,\n",
    "                                    n_iter = 100,\n",
    "                                    cv = 3,\n",
    "                                    n_jobs = -1,\n",
    "                                    random_state = 1,\n",
    "                                    verbose = 1\n",
    "                                  ).fit(X_train, y_train)\n",
    "\n",
    "random_search.best_params_"
   ]
  },
  {
   "cell_type": "code",
   "execution_count": null,
   "metadata": {
    "id": "Q5iGYjnMrYXF"
   },
   "outputs": [],
   "source": [
    "# Create the object for the model or classifier.\n",
    "ModelKNN = random_search.best_estimator_"
   ]
  },
  {
   "cell_type": "code",
   "execution_count": null,
   "metadata": {
    "id": "RW55bsQhcMQu"
   },
   "outputs": [],
   "source": [
    "# # Note: This part is already done using 'RandomizedSearchCV'.\n",
    "\n",
    "# # Training or fitting the model or classifier (Using training data).\n",
    "# ModelKNN.fit(X_train, y_train)"
   ]
  },
  {
   "cell_type": "code",
   "execution_count": null,
   "metadata": {
    "colab": {
     "base_uri": "https://localhost:8080/"
    },
    "executionInfo": {
     "elapsed": 1136,
     "status": "ok",
     "timestamp": 1653462562481,
     "user": {
      "displayName": "Kalyana Varma Polapragada",
      "userId": "14326624661476973438"
     },
     "user_tz": -330
    },
    "id": "yDT5hwh5ddNI",
    "outputId": "2819ec4a-cac3-4172-dafe-9bf8e88c32e9"
   },
   "outputs": [],
   "source": [
    "# Calculating the accuracy i.e. Calculating the score i.e. Estimate accuracy of the model or classifier.\n",
    "KnnScore = ModelKNN.score(X_test, y_test)\n",
    "print(\"Score of the Model or Classifier: {:0.05f}\".format(KnnScore))"
   ]
  },
  {
   "cell_type": "code",
   "execution_count": null,
   "metadata": {
    "colab": {
     "base_uri": "https://localhost:8080/"
    },
    "executionInfo": {
     "elapsed": 1772,
     "status": "ok",
     "timestamp": 1653462564252,
     "user": {
      "displayName": "Kalyana Varma Polapragada",
      "userId": "14326624661476973438"
     },
     "user_tz": -330
    },
    "id": "zUCjJlo5ctwJ",
    "outputId": "3c22f9b7-2f41-484d-ebad-ef38cfb68151"
   },
   "outputs": [],
   "source": [
    "# Predict or Test the trained model or classifier.\n",
    "y_pred = ModelKNN.predict(X_test)\n",
    "\n",
    "# Verification.\n",
    "print(y_pred)"
   ]
  },
  {
   "cell_type": "code",
   "execution_count": null,
   "metadata": {
    "colab": {
     "base_uri": "https://localhost:8080/"
    },
    "executionInfo": {
     "elapsed": 4077,
     "status": "ok",
     "timestamp": 1653462568284,
     "user": {
      "displayName": "Kalyana Varma Polapragada",
      "userId": "14326624661476973438"
     },
     "user_tz": -330
    },
    "id": "8nS6T1osd8Z9",
    "outputId": "d26a3ff6-9e17-404d-c8eb-036e1d4e63b3"
   },
   "outputs": [],
   "source": [
    "# Evaluate the accuracy of the model.\n",
    "KnnAccuracyScore = accuracy_score(y_test, y_pred)\n",
    "print(\"{:0.05f}\".format(KnnAccuracyScore))"
   ]
  },
  {
   "cell_type": "code",
   "execution_count": null,
   "metadata": {
    "colab": {
     "base_uri": "https://localhost:8080/"
    },
    "executionInfo": {
     "elapsed": 10,
     "status": "ok",
     "timestamp": 1653462571582,
     "user": {
      "displayName": "Kalyana Varma Polapragada",
      "userId": "14326624661476973438"
     },
     "user_tz": -330
    },
    "id": "BtDcwMIjlbsC",
    "outputId": "baaa5f0b-db28-4e84-c70a-620c46e1bfec"
   },
   "outputs": [],
   "source": [
    "# Evaluate the accuracy of the model.\n",
    "KnnKohenKappaScore = cohen_kappa_score(y_test, y_pred)\n",
    "print(\"{:0.05f}\".format(KnnKohenKappaScore))"
   ]
  },
  {
   "cell_type": "code",
   "execution_count": null,
   "metadata": {
    "id": "uROzBvk77dca"
   },
   "outputs": [],
   "source": [
    "# Dataframe with with Accuracy score and Cohen Kappa score.\n",
    "DfKnn = pd.DataFrame([KnnAccuracyScore, KnnKohenKappaScore], columns = [\"k-Nearest Neighbors (k-NN) Classifier with RandomizedSearchCV\"])"
   ]
  },
  {
   "cell_type": "code",
   "execution_count": null,
   "metadata": {
    "colab": {
     "base_uri": "https://localhost:8080/",
     "height": 621
    },
    "executionInfo": {
     "elapsed": 8,
     "status": "ok",
     "timestamp": 1653462571584,
     "user": {
      "displayName": "Kalyana Varma Polapragada",
      "userId": "14326624661476973438"
     },
     "user_tz": -330
    },
    "id": "o_PwrbC6d8Qb",
    "outputId": "e25a6842-a123-4eaf-ac62-106c62af2673"
   },
   "outputs": [],
   "source": [
    "# Confusion matrix for the model or classifier.\n",
    "KnnCM = confusion_matrix(y_test, y_pred)\n",
    "\n",
    "plt.figure(figsize = (15, 10))\n",
    "# ax = sns.heatmap(KnnCM, cmap = \"coolwarm\", annot=True, fmt=\".1f\")\n",
    "ax = sns.heatmap(KnnCM, cmap = \"Greens\", annot=True, fmt=\"d\")\n",
    "ax = ax.set(\n",
    "            xlabel = 'Predicted', ylabel = 'True', title = 'Confusion Matrix',\n",
    "            xticklabels = (['Crime', 'Politics', 'Science']),\n",
    "            yticklabels = (['Crime', 'Politics', 'Science'])\n",
    "           )"
   ]
  },
  {
   "cell_type": "code",
   "execution_count": null,
   "metadata": {
    "id": "f1aFO3ITnp-e"
   },
   "outputs": [],
   "source": [
    "# Save the model.\n",
    "TempPath = ROOT_PATH + \"kNearestNeighbors.pickle\"\n",
    "\n",
    "with open(TempPath, 'wb') as PickleFile:\n",
    "  pickle.dump(ModelKNN, PickleFile)"
   ]
  },
  {
   "cell_type": "code",
   "execution_count": null,
   "metadata": {
    "id": "s89ErF3snpzb"
   },
   "outputs": [],
   "source": [
    "# Load the model.\n",
    "TempPath = ROOT_PATH + \"kNearestNeighbors.pickle\"\n",
    "\n",
    "with open(TempPath, 'rb') as PickleFile:\n",
    "  ModelKNN = pickle.load(PickleFile)"
   ]
  },
  {
   "cell_type": "code",
   "execution_count": null,
   "metadata": {
    "colab": {
     "base_uri": "https://localhost:8080/"
    },
    "executionInfo": {
     "elapsed": 2486,
     "status": "ok",
     "timestamp": 1653462578805,
     "user": {
      "displayName": "Kalyana Varma Polapragada",
      "userId": "14326624661476973438"
     },
     "user_tz": -330
    },
    "id": "a4iveHd1npkc",
    "outputId": "d2ea5c0f-6d73-40df-b893-affcee9d69bd"
   },
   "outputs": [],
   "source": [
    "# Verification.\n",
    "TestPred = ModelKNN.predict(X_test)\n",
    "print(confusion_matrix(y_test, TestPred))"
   ]
  },
  {
   "cell_type": "markdown",
   "metadata": {
    "id": "MgdPiRoiAZPg"
   },
   "source": [
    "<font font size=\"4\" color=Red>*06. (Ensemble Method) Soft Voting Classifier:*</font>"
   ]
  },
  {
   "cell_type": "code",
   "execution_count": null,
   "metadata": {
    "colab": {
     "base_uri": "https://localhost:8080/"
    },
    "executionInfo": {
     "elapsed": 503,
     "status": "ok",
     "timestamp": 1653462856995,
     "user": {
      "displayName": "Kalyana Varma Polapragada",
      "userId": "14326624661476973438"
     },
     "user_tz": -330
    },
    "id": "PB4PiqEyWP5V",
    "outputId": "64cf060a-286c-41e8-fa46-8b1f1499e67d"
   },
   "outputs": [],
   "source": [
    "estimators = [\n",
    "              ('LR', ModelLR),\n",
    "              ('MNB', ModelMNB),\n",
    "              ('DT', ModelDT),\n",
    "              ('KNN', ModelKNN),\n",
    "             ]\n",
    "\n",
    "estimators"
   ]
  },
  {
   "cell_type": "code",
   "execution_count": null,
   "metadata": {
    "id": "2xyfStQjWGBB"
   },
   "outputs": [],
   "source": [
    "# Create the object for the model or classifier.\n",
    "ModelSVC = VotingClassifier(\n",
    "                            estimators=estimators,\n",
    "                            voting='soft', \n",
    "                            n_jobs=-1,\n",
    "                            flatten_transform=True, \n",
    "                            verbose=1,\n",
    "                           ).fit(X_train, y_train)"
   ]
  },
  {
   "cell_type": "code",
   "execution_count": null,
   "metadata": {
    "id": "GfJxKpcmWGBC"
   },
   "outputs": [],
   "source": [
    "# # Note: This part is already done in the above cell.\n",
    "\n",
    "# # Create the object for the model or classifier.\n",
    "# ModelSVC = random_search.best_estimator_"
   ]
  },
  {
   "cell_type": "code",
   "execution_count": null,
   "metadata": {
    "id": "uJ3ISrebWGBC"
   },
   "outputs": [],
   "source": [
    "# # Note: This part is already done using 'RandomizedSearchCV'.\n",
    "\n",
    "# # Training or fitting the model or classifier (Using training data).\n",
    "# ModelSVC.fit(X_train, y_train)"
   ]
  },
  {
   "cell_type": "code",
   "execution_count": null,
   "metadata": {
    "colab": {
     "base_uri": "https://localhost:8080/"
    },
    "executionInfo": {
     "elapsed": 1249,
     "status": "ok",
     "timestamp": 1653463486433,
     "user": {
      "displayName": "Kalyana Varma Polapragada",
      "userId": "14326624661476973438"
     },
     "user_tz": -330
    },
    "id": "7v5me4jOWGBC",
    "outputId": "c2d3de1b-a9b9-4def-b21b-68e0ece18907"
   },
   "outputs": [],
   "source": [
    "# Calculating the accuracy i.e. Calculating the score i.e. Estimate accuracy of the model or classifier.\n",
    "SvcScore = ModelSVC.score(X_test, y_test)\n",
    "print(\"Score of the Model or Classifier: {:0.05f}\".format(SvcScore))"
   ]
  },
  {
   "cell_type": "code",
   "execution_count": null,
   "metadata": {
    "colab": {
     "base_uri": "https://localhost:8080/"
    },
    "executionInfo": {
     "elapsed": 1194,
     "status": "ok",
     "timestamp": 1653463514049,
     "user": {
      "displayName": "Kalyana Varma Polapragada",
      "userId": "14326624661476973438"
     },
     "user_tz": -330
    },
    "id": "w6oNZxW-WGBC",
    "outputId": "fe27147f-3494-45be-cd2a-a5b9874f3486"
   },
   "outputs": [],
   "source": [
    "# Predict or Test the trained model or classifier.\n",
    "y_pred = ModelSVC.predict(X_test)\n",
    "\n",
    "# Verification.\n",
    "print(y_pred)"
   ]
  },
  {
   "cell_type": "code",
   "execution_count": null,
   "metadata": {
    "colab": {
     "base_uri": "https://localhost:8080/"
    },
    "executionInfo": {
     "elapsed": 681,
     "status": "ok",
     "timestamp": 1653463527588,
     "user": {
      "displayName": "Kalyana Varma Polapragada",
      "userId": "14326624661476973438"
     },
     "user_tz": -330
    },
    "id": "RN3vd4aQWGBC",
    "outputId": "c12bb78f-5f75-46f9-b70c-7ddd98ea9098"
   },
   "outputs": [],
   "source": [
    "# Evaluate the accuracy of the model.\n",
    "SvcAccuracyScore = accuracy_score(y_test, y_pred)\n",
    "print(\"{:0.05f}\".format(SvcAccuracyScore))"
   ]
  },
  {
   "cell_type": "code",
   "execution_count": null,
   "metadata": {
    "colab": {
     "base_uri": "https://localhost:8080/"
    },
    "executionInfo": {
     "elapsed": 475,
     "status": "ok",
     "timestamp": 1653463530470,
     "user": {
      "displayName": "Kalyana Varma Polapragada",
      "userId": "14326624661476973438"
     },
     "user_tz": -330
    },
    "id": "ej2ixEFuWGBC",
    "outputId": "14cdc3e0-1cf4-4b7b-bb92-3a9aa2c68bed"
   },
   "outputs": [],
   "source": [
    "# Evaluate the accuracy of the model.\n",
    "SvcKohenKappaScore = cohen_kappa_score(y_test, y_pred)\n",
    "print(\"{:0.05f}\".format(SvcKohenKappaScore))"
   ]
  },
  {
   "cell_type": "code",
   "execution_count": null,
   "metadata": {
    "id": "-YePeU9h7yfc"
   },
   "outputs": [],
   "source": [
    "# Dataframe with with Accuracy score and Cohen Kappa score.\n",
    "DfSvc = pd.DataFrame([SvcAccuracyScore, SvcKohenKappaScore], columns = [\"Soft Voting Classifier\"])"
   ]
  },
  {
   "cell_type": "code",
   "execution_count": null,
   "metadata": {
    "colab": {
     "base_uri": "https://localhost:8080/",
     "height": 621
    },
    "executionInfo": {
     "elapsed": 487,
     "status": "ok",
     "timestamp": 1653463553177,
     "user": {
      "displayName": "Kalyana Varma Polapragada",
      "userId": "14326624661476973438"
     },
     "user_tz": -330
    },
    "id": "WNTD9GkMWGBD",
    "outputId": "3551635c-973e-47bc-93ec-9684fa9c23dc"
   },
   "outputs": [],
   "source": [
    "# Confusion matrix for the model or classifier.\n",
    "SvcCM = confusion_matrix(y_test, y_pred)\n",
    "\n",
    "plt.figure(figsize = (15, 10))\n",
    "# ax = sns.heatmap(SvcCM, cmap = \"coolwarm\", annot=True, fmt=\".1f\")\n",
    "ax = sns.heatmap(SvcCM, cmap = \"Greens\", annot=True, fmt=\"d\")\n",
    "ax = ax.set(\n",
    "            xlabel = 'Predicted', ylabel = 'True', title = 'Confusion Matrix',\n",
    "            xticklabels = (['Crime', 'Politics', 'Science']),\n",
    "            yticklabels = (['Crime', 'Politics', 'Science'])\n",
    "           )"
   ]
  },
  {
   "cell_type": "code",
   "execution_count": null,
   "metadata": {
    "id": "8XAtI8-BPeMR"
   },
   "outputs": [],
   "source": [
    "# Save the model.\n",
    "TempPath = ROOT_PATH + \"SoftVoting.pickle\"\n",
    "\n",
    "with open(TempPath, 'wb') as PickleFile:\n",
    "  pickle.dump(ModelSVC, PickleFile)"
   ]
  },
  {
   "cell_type": "code",
   "execution_count": null,
   "metadata": {
    "id": "KH8fXrizPd7r"
   },
   "outputs": [],
   "source": [
    "# Load the model.\n",
    "TempPath = ROOT_PATH + \"SoftVoting.pickle\"\n",
    "\n",
    "with open(TempPath, 'rb') as PickleFile:\n",
    "  ModelSVC = pickle.load(PickleFile)"
   ]
  },
  {
   "cell_type": "code",
   "execution_count": null,
   "metadata": {
    "colab": {
     "base_uri": "https://localhost:8080/"
    },
    "executionInfo": {
     "elapsed": 681,
     "status": "ok",
     "timestamp": 1653463579513,
     "user": {
      "displayName": "Kalyana Varma Polapragada",
      "userId": "14326624661476973438"
     },
     "user_tz": -330
    },
    "id": "T6upifLfPdpv",
    "outputId": "300d6a9d-4ae6-40c3-f9a2-6c25d11cf57a"
   },
   "outputs": [],
   "source": [
    "# Verification.\n",
    "TestPred = ModelSVC.predict(X_test)\n",
    "print(confusion_matrix(y_test, TestPred))"
   ]
  },
  {
   "cell_type": "markdown",
   "metadata": {
    "id": "DUV1QQVKAiGI"
   },
   "source": [
    "<font font size=\"4\" color=Red>*07. (Ensemble Method) Stacking Classifier with XGBClassifier as the \"Final Estimator\" or \"Meta Learner\":*</font>"
   ]
  },
  {
   "cell_type": "code",
   "execution_count": null,
   "metadata": {
    "colab": {
     "base_uri": "https://localhost:8080/"
    },
    "executionInfo": {
     "elapsed": 18318,
     "status": "ok",
     "timestamp": 1653463823814,
     "user": {
      "displayName": "Kalyana Varma Polapragada",
      "userId": "14326624661476973438"
     },
     "user_tz": -330
    },
    "id": "ciFr0Z7ct5S9",
    "outputId": "13afdd80-9a8a-4f19-9a9c-4eb3e5a51c80"
   },
   "outputs": [],
   "source": [
    "Xgb = xgboost.XGBClassifier()\n",
    "\n",
    "# Create the object for the model or classifier.\n",
    "ModelStack = StackingClassifier(\n",
    "                                estimators=estimators + [('svm', ModelSGDH)],\n",
    "                                final_estimator=Xgb,\n",
    "                                n_jobs=-1,\n",
    "                                verbose=1,\n",
    "                               )\n",
    "\n",
    "ModelStack.fit(X_train, y_train)"
   ]
  },
  {
   "cell_type": "code",
   "execution_count": null,
   "metadata": {
    "id": "HN5dJQPft5S-"
   },
   "outputs": [],
   "source": [
    "# # Note: This part is already done in the above cell.\n",
    "\n",
    "# # Create the object for the model or classifier.\n",
    "# ModelStack = random_search.best_estimator_"
   ]
  },
  {
   "cell_type": "code",
   "execution_count": null,
   "metadata": {
    "id": "B4PAeij2t5S_"
   },
   "outputs": [],
   "source": [
    "# # Note: This part is already done using 'RandomizedSearchCV'.\n",
    "\n",
    "# # Training or fitting the model or classifier (Using training data).\n",
    "# ModelStack.fit(X_train, y_train)"
   ]
  },
  {
   "cell_type": "code",
   "execution_count": null,
   "metadata": {
    "colab": {
     "base_uri": "https://localhost:8080/"
    },
    "executionInfo": {
     "elapsed": 1116,
     "status": "ok",
     "timestamp": 1653463929576,
     "user": {
      "displayName": "Kalyana Varma Polapragada",
      "userId": "14326624661476973438"
     },
     "user_tz": -330
    },
    "id": "ALQpyhrqt5S_",
    "outputId": "05ad0435-dcaf-4c55-aca0-f408804ffbbc"
   },
   "outputs": [],
   "source": [
    "# Calculating the accuracy i.e. Calculating the score i.e. Estimate accuracy of the model or classifier.\n",
    "StkScore = ModelStack.score(X_test, y_test)\n",
    "print(\"Score of the Model or Classifier: {:0.05f}\".format(StkScore))"
   ]
  },
  {
   "cell_type": "code",
   "execution_count": null,
   "metadata": {
    "colab": {
     "base_uri": "https://localhost:8080/"
    },
    "executionInfo": {
     "elapsed": 705,
     "status": "ok",
     "timestamp": 1653463932058,
     "user": {
      "displayName": "Kalyana Varma Polapragada",
      "userId": "14326624661476973438"
     },
     "user_tz": -330
    },
    "id": "RWEFjNxut5TA",
    "outputId": "956cc14e-858d-487e-93ed-c7b7dcd65033"
   },
   "outputs": [],
   "source": [
    "# Predict or Test the trained model or classifier.\n",
    "y_pred = ModelStack.predict(X_test)\n",
    "\n",
    "# Verification.\n",
    "print(y_pred)"
   ]
  },
  {
   "cell_type": "code",
   "execution_count": null,
   "metadata": {
    "colab": {
     "base_uri": "https://localhost:8080/"
    },
    "executionInfo": {
     "elapsed": 2,
     "status": "ok",
     "timestamp": 1653463934021,
     "user": {
      "displayName": "Kalyana Varma Polapragada",
      "userId": "14326624661476973438"
     },
     "user_tz": -330
    },
    "id": "Ff5EFT6Ft5TA",
    "outputId": "36d582fe-ec1a-44bc-ba81-d952e12bcace"
   },
   "outputs": [],
   "source": [
    "# Evaluate the accuracy of the model.\n",
    "StkAccuracyScore = accuracy_score(y_test, y_pred)\n",
    "print(\"{:0.05f}\".format(StkAccuracyScore))"
   ]
  },
  {
   "cell_type": "code",
   "execution_count": null,
   "metadata": {
    "colab": {
     "base_uri": "https://localhost:8080/"
    },
    "executionInfo": {
     "elapsed": 11,
     "status": "ok",
     "timestamp": 1653463935921,
     "user": {
      "displayName": "Kalyana Varma Polapragada",
      "userId": "14326624661476973438"
     },
     "user_tz": -330
    },
    "id": "XZ1r8fH8t5TB",
    "outputId": "088c7ee1-1d8c-4c7e-883e-f516485a9101"
   },
   "outputs": [],
   "source": [
    "# Evaluate the accuracy of the model.\n",
    "StkKohenKappaScore = cohen_kappa_score(y_test, y_pred)\n",
    "print(\"{:0.05f}\".format(StkKohenKappaScore))"
   ]
  },
  {
   "cell_type": "code",
   "execution_count": null,
   "metadata": {
    "id": "Z2gtnIc08Hs3"
   },
   "outputs": [],
   "source": [
    "# Dataframe with with Accuracy score and Cohen Kappa score.\n",
    "DfStk = pd.DataFrame([StkAccuracyScore, StkKohenKappaScore], columns = [\"Stacking Classifier\"])"
   ]
  },
  {
   "cell_type": "code",
   "execution_count": null,
   "metadata": {
    "colab": {
     "base_uri": "https://localhost:8080/",
     "height": 621
    },
    "executionInfo": {
     "elapsed": 6,
     "status": "ok",
     "timestamp": 1653463938502,
     "user": {
      "displayName": "Kalyana Varma Polapragada",
      "userId": "14326624661476973438"
     },
     "user_tz": -330
    },
    "id": "qylJnavUt5TB",
    "outputId": "1b083fb7-fa2c-440b-9dc9-9a808b340f1e"
   },
   "outputs": [],
   "source": [
    "# Confusion matrix for the model or classifier.\n",
    "StkCM = confusion_matrix(y_test, y_pred)\n",
    "\n",
    "plt.figure(figsize = (15, 10))\n",
    "# ax = sns.heatmap(StkCM, cmap = \"coolwarm\", annot=True, fmt=\".1f\")\n",
    "ax = sns.heatmap(StkCM, cmap = \"Greens\", annot=True, fmt=\"d\")\n",
    "ax = ax.set(\n",
    "            xlabel = 'Predicted', ylabel = 'True', title = 'Confusion Matrix',\n",
    "            xticklabels = (['Crime', 'Politics', 'Science']),\n",
    "            yticklabels = (['Crime', 'Politics', 'Science'])\n",
    "           )"
   ]
  },
  {
   "cell_type": "code",
   "execution_count": null,
   "metadata": {
    "id": "1WyR76Q7QJdA"
   },
   "outputs": [],
   "source": [
    "# Save the model.\n",
    "TempPath = ROOT_PATH + \"Stacking.pickle\"\n",
    "\n",
    "with open(TempPath, 'wb') as PickleFile:\n",
    "  pickle.dump(ModelStack, PickleFile)"
   ]
  },
  {
   "cell_type": "code",
   "execution_count": null,
   "metadata": {
    "id": "abay8GHQQJPj"
   },
   "outputs": [],
   "source": [
    "# Load the model.\n",
    "TempPath = ROOT_PATH + \"Stacking.pickle\"\n",
    "\n",
    "with open(TempPath, 'rb') as PickleFile:\n",
    "  ModelStack = pickle.load(PickleFile)"
   ]
  },
  {
   "cell_type": "code",
   "execution_count": null,
   "metadata": {
    "colab": {
     "base_uri": "https://localhost:8080/"
    },
    "executionInfo": {
     "elapsed": 1198,
     "status": "ok",
     "timestamp": 1653463948277,
     "user": {
      "displayName": "Kalyana Varma Polapragada",
      "userId": "14326624661476973438"
     },
     "user_tz": -330
    },
    "id": "Mxy_A6tzQJBd",
    "outputId": "3a054806-3283-40a2-f76e-ecc918e85129"
   },
   "outputs": [],
   "source": [
    "# Verification.\n",
    "TestPred = ModelStack.predict(X_test)\n",
    "print(confusion_matrix(y_test, TestPred))"
   ]
  },
  {
   "cell_type": "code",
   "execution_count": null,
   "metadata": {
    "id": "1cliogMduwPy"
   },
   "outputs": [],
   "source": []
  },
  {
   "cell_type": "code",
   "execution_count": null,
   "metadata": {
    "id": "4oKBoqnPuqtZ"
   },
   "outputs": [],
   "source": [
    "################################################################################"
   ]
  },
  {
   "cell_type": "code",
   "execution_count": null,
   "metadata": {
    "id": "3U_YknBVwfB5"
   },
   "outputs": [],
   "source": [
    "# ToDo"
   ]
  },
  {
   "cell_type": "code",
   "execution_count": null,
   "metadata": {
    "id": "JGd7PtDywe35"
   },
   "outputs": [],
   "source": [
    "# TN = confusion_matrix(y_test, y_pred).ravel()\n",
    "# # print(\"TP:\", TP)\n",
    "# # print(\"TN:\", TN)\n",
    "# # print(\"FP:\", FP)\n",
    "# # print(\"FN:\", FN)\n",
    "# TN"
   ]
  },
  {
   "cell_type": "code",
   "execution_count": null,
   "metadata": {
    "colab": {
     "base_uri": "https://localhost:8080/"
    },
    "executionInfo": {
     "elapsed": 1692,
     "status": "ok",
     "timestamp": 1648732471383,
     "user": {
      "displayName": "Kalyana Varma Polapragada",
      "photoUrl": "https://lh3.googleusercontent.com/a/default-user=s64",
      "userId": "14326624661476973438"
     },
     "user_tz": -330
    },
    "id": "xY0yuOfOweuV",
    "outputId": "97559b83-efca-4be8-bf62-31540b453ae7"
   },
   "outputs": [],
   "source": [
    "print(confusion_matrix(y_test, y_pred).ravel())"
   ]
  },
  {
   "cell_type": "code",
   "execution_count": null,
   "metadata": {
    "id": "iUqMCd_pwek7"
   },
   "outputs": [],
   "source": [
    "################################################################################"
   ]
  },
  {
   "cell_type": "code",
   "execution_count": null,
   "metadata": {
    "id": "wXoLXwwSweXz"
   },
   "outputs": [],
   "source": []
  },
  {
   "cell_type": "markdown",
   "metadata": {
    "id": "OQ1y5VM1BA9D"
   },
   "source": [
    "<font font size=\"4\" color=Red>*Model Comparision:*</font>"
   ]
  },
  {
   "cell_type": "code",
   "execution_count": null,
   "metadata": {
    "colab": {
     "base_uri": "https://localhost:8080/",
     "height": 173
    },
    "executionInfo": {
     "elapsed": 476,
     "status": "ok",
     "timestamp": 1653464283170,
     "user": {
      "displayName": "Kalyana Varma Polapragada",
      "userId": "14326624661476973438"
     },
     "user_tz": -330
    },
    "id": "N-9UPvvvd8G6",
    "outputId": "449fac61-d5b5-4ccd-fd65-e8adc1da8c38"
   },
   "outputs": [],
   "source": [
    "# Compare the Accuracy score and Cohen Kappa scores across all models.\n",
    "ModelComp = pd.concat([DfLr, DfMnb, DfSgdh, DfDt, DfKnn, DfSvc, DfStk], axis = 1)\n",
    "\n",
    "# Verification.\n",
    "ModelComp"
   ]
  },
  {
   "cell_type": "markdown",
   "metadata": {
    "id": "8z0luggAprz2"
   },
   "source": [
    "<font font size=\"6\" color=Orange>**Step-07: Testing on Unseen Data**</font>"
   ]
  },
  {
   "cell_type": "code",
   "execution_count": null,
   "metadata": {
    "id": "HjLji1a8rcOa"
   },
   "outputs": [],
   "source": [
    "def PredictText(Model, Text):\n",
    "  \"\"\"\n",
    "  User Defined Function (UDF) to predict the unseen text.\n",
    "  \"\"\"\n",
    "  Text = CleanupText(Text)\n",
    "  TfidfTestVectors  = TfIdfObject.transform([Text])\n",
    "\n",
    "  CatName = ['Crime', 'Politics', 'Science']\n",
    "  CatCode =  [0, 1, 2]\n",
    "  DictCat = dict([(CatCode[x], CatName[x]) for x in range(len(CatName))])\n",
    "\n",
    "  Prediction = DictCat[Model.predict(TfidfTestVectors)[0]]\n",
    "  \n",
    "  return Prediction"
   ]
  },
  {
   "cell_type": "markdown",
   "metadata": {
    "id": "fDx1m4kuqTVs"
   },
   "source": [
    "* The following data is taken from random news articles which comprises of articles of trained labels and also of labels like: Health, Sports, Weather."
   ]
  },
  {
   "cell_type": "code",
   "execution_count": null,
   "metadata": {
    "id": "EdCd9BDNqmXB"
   },
   "outputs": [],
   "source": [
    "# Politics.\n",
    "\n",
    "Text_A01 = \"\"\"\n",
    "With visa office closures and international travel restrictions still in place, experts say the economic benefits of President Donald Trump’s immigration suspension last week are uncertain, at best, while thousands of prospective immigrants still stand to suffer the consequences.\n",
    "\n",
    "Although the suspension was filled with broad exemptions and does not include current visa holders or those already in the U.S., the Migration Policy Institute estimates 26,000 would-be green card applicants would be blocked each month.\n",
    "\n",
    "Over the weekend, a coalition of advocacy groups filed an emergency request to halt Trump’s directive. It was the latest move in a 2019 case, stemming from when the White House sought to ban immigrants who couldn’t prove their ability to acquire.\n",
    "Attorneys with the American Immigration Lawyers Association requested a hold on the recent suspension order while the courts continue to decide the fate of the health insurance restrictions.\n",
    "\n",
    "The White House framed the immigration suspension as a vital component of helping the economy and American workers recover, but it could have the opposite effect.\n",
    "\n",
    "Immigrants already in the U.S. and those who already have certain visas can still obtain permanent residency. The suspension applies only to green card applicants from outside the country and primarily targets to those looking to settle down in the U.S. permanently through a family connection, according to MPI estimates.\n",
    "\n",
    "That leaves the possibility of employment-based visa slots opening up as a result of the suspension.\n",
    "\n",
    "\"President Trump claims he signed it in order to protect the economy in the wake of the coronavirus outbreak, but the reality is that our economic recovery will depend on immigrants,\" said Esther Sung, a senior attorney involved in the 2019 case.\n",
    "\n",
    "That view is shared, in part, by Rutgers economics professor Jennifer Hunt. She told ABC News that an influx of workers into critical sectors of the economy could boost per capita GDP.\n",
    "\n",
    "\"It would be kind of a shot in the arm,\" Hunt said.\n",
    "\n",
    "On-going travel restrictions and the closure of foreign visa offices still pose the greatest barrier to legal immigration in the age of coronavirus. Economists and labor experts, including Hunt, say those factors would override any attempt to assess the economic impacts of the restrictions.\n",
    "\n",
    "\"It’s very hard for me to see the direct correlation in terms of immediate and practical positive impact on displaced U.S. workers,\" said Caroline Tang, an Austin-based attorney who advises companies on work authorization for immigrants.\n",
    "\n",
    "Tang said the bar for employers to obtain work authorization for visa holders is already high enough, referring to specific requirements for prioritizing U.S. citizens.\n",
    "\n",
    "Researchers have identified some connection between more immigrants settled in the country and economic growth under normal circumstances, but the results are mixed.\n",
    "\n",
    "For example, a 2017 report by the economics firm Moody Analytics and ProPublica found that for every 1% increase in the U.S. population, the gross domestic product rises by 1.5%. While a 2018 study from Stanford University’s Hoover Institution confirms that \"positive relationship\" generally, but found variations and some negative impacts to U.S.-born employment rates in its state-by-state review.\n",
    "\n",
    "Researchers studying the large population of foreign-born workers in South Africa said it likely had a positive impact on per capita GDP.\n",
    "\n",
    "\"Foreign-born workers also generated additional employment for native-born workers,\" according to the 2018 Organisation for Economic Co-operation and Development report.\n",
    "\"\"\""
   ]
  },
  {
   "cell_type": "code",
   "execution_count": null,
   "metadata": {
    "id": "Y-dmvm1iIqT-"
   },
   "outputs": [],
   "source": [
    "# Politics.\n",
    "\n",
    "Text_A02 = \"\"\"\n",
    "Disputes have already broken out within the new political alliance that is working to end 36 years of rule by the Socialist Party (PSOE) in Spain’s southern region of Andalusia.\n",
    "\n",
    "Just hours after the far-right Vox agreed to support the Popular Party (PP)’s candidate to head the region, Juan Manuel Moreno, its demand for a specific regional department for family affairs is running into opposition from Ciudadanos (Citizens), the third party involved in the government change.\n",
    "\n",
    "These early clashes suggest it could be difficult to export the model to other parts of Spain\n",
    "\n",
    "The PP and the liberal Ciudadanos have reached their own governing agreement in the wake of an election that undermined the Socialists’ hold on power, but they need support from Vox’s 12 newly elected lawmakers to make it a reality.\n",
    "\n",
    "Ciudadanos has refused point-blank to meet with Vox representatives, but the PP has struck its own parallel deal with the far right to ensure its support at the investiture debate, which will take place on January 15 and 16.\n",
    "\n",
    "On Friday morning, Juan Marín of Ciudadanos said that there are no plans for a separate family affairs department within the government structure they have devised with their PP partners, and which does not include Vox.\n",
    "\n",
    "The reform party has insisted that the Vox-PP deal does not affect them at all, and Ciudadanos’ national leader, Albert Rivera, said on Thursday that Vox “has had to take a step back, correct itself, and sheathe its sword,” alluding to the fact that Vox has dropped some of its most radical demands such as the deportation of 52,000 undocumented migrants.\n",
    "\n",
    "Vox national leader Santiago Abascal (c) and Andalusian leader Francisco Serrano (r).\n",
    "Vox national leader Santiago Abascal (c) and Andalusian leader Francisco Serrano (r). REUTERS\n",
    "But Vox insists on a family department, and said it will expect loyalty from the PP on this issue. Meanwhile, Ciudadanos has also warned it will not support the PP-Vox proposal to change the historical memory law for a “concord law.”\n",
    "\n",
    "These early clashes suggest it could be difficult to export the model to other parts of Spain, where local and regional elections are scheduled to be held this year. The PP president, Pablo Casado, said on Thursday that their separate deals with Ciudadanos and Vox in Andalusia are “a preamble of what’s going to happen in May in Spain.”\n",
    "\n",
    "The PP is anxious to win back power in regions like Valencia, the Balearic Islands, Castilla-La Mancha, Aragón and Cantabria, and to retain it in Madrid, Murcia, La Rioja and Castilla y León.\n",
    "\n",
    "Parliamentary debate\n",
    "The PSOE has already digested the fact that it is losing its hold on Spain’s most populated region. “We will conduct a responsible opposition, and remain vigilant about defending self-government and Andalusia’s presence in Spain,” said the party’s parliamentary spokesman, Mario Jiménez.\n",
    "\n",
    "The Socialists will not be putting forward a candidate, now that the PP nominee has enough support for an absolute majority in the first round. The debates will take place on January 15 and 16, followed by a vote, said Speaker Marta Bosquet.\n",
    "\n",
    "The sum of the PP, Ciudadanos and Vox votes is four above the 55 required for a majority. The PSOE lost 14 seats at the December 2 election, down to 33. The Podemos-backed Adelante Andalucía has 17 lawmakers.\n",
    "\"\"\""
   ]
  },
  {
   "cell_type": "code",
   "execution_count": null,
   "metadata": {
    "id": "DThpevuApojB"
   },
   "outputs": [],
   "source": [
    "# Health.\n",
    "\n",
    "Text_A03 = \"\"\"\n",
    "HEALTH NEWS\n",
    "Fact Checked\n",
    "These Foods Can Increase Your Alzheimer’s Risk\n",
    "\n",
    "Share on Pinterest\n",
    "A sugar, highly processed foods and starchy foods may increase risk of developing Alzheimer’s disease. Getty Images\n",
    "A diet mixing sugary snacks, starchy foods, and processed meat may significantly increase risk of developing Alzheimer’s disease.\n",
    "The study looked at over 200 people with an average age of 78 living with dementia and compared them with a group of 418 in the same age range without the condition.\n",
    "It wasn’t the amount of “unhealthy” food that seemed to increase dementia risk, but instead the absence of other healthier foods.\n",
    "Researchers find it’s not just what you eat, but also how foods are combined that may increase your risk of Alzheimer’s and other forms of dementia.\n",
    "\n",
    "A new study suggests that mixing sugary snacks, starchy foods, and processed meat may significantly increase the risk of developing Alzheimer’s disease. The findings are published in Neurology, the medical journal of the American Academy of Neurology.\n",
    "\n",
    "“People who developed dementia were more likely to combine highly processed meats with starchy foods like potatoes, alcohol, and snacks like cookies and cakes,” study author Cecilia Samieri, PhD, of the University of Bordeaux in France, told Healthline. “In spite of not being consumed in higher quantity, processed meat appeared very central in their diet, that is, connected with many foods.”\n",
    "\n",
    "The study looked at over 200 people with an average age of 78 living with dementia and compared them with a group of 418 in the same age range without the condition.\n",
    "\n",
    "All participants received a medical checkup every 2 to 3 years and completed food questionnaires recording what foods they ate and how frequently for the previous 5 years.\n",
    "\n",
    "Diet in midlife may influence brain disease risk\n",
    "Researchers analyzed data from the food questionnaires to compare what foods were frequently eaten together by those with and without dementia.\n",
    "\n",
    "Samieri points out they could only draw conclusions from a narrow age range.\n",
    "\n",
    "“The main limitation is the use of a single dietary survey,” she said. “We know that diet over time, starting in midlife and probably even before, likely influences the risk of brain diseases later in life. Here, we had an evaluation of diet after age 65 only.”\n",
    "\n",
    "Also, it wasn’t the amount of “unhealthy” food that seemed to increase the risk of dementia, but instead, not eating other healthier foods, suggest the findings.\n",
    "\n",
    "Samieri pointed out that in this kind of study, the assumption was that “the diet people adopt at this age is a good representation of the diet followed over the years preceding the interview.”\n",
    "\n",
    "Another limitation was that diets were recorded only once, years before the onset of dementia, so changes in diet over time were unknown.\n",
    "\"\"\""
   ]
  },
  {
   "cell_type": "code",
   "execution_count": null,
   "metadata": {
    "id": "p_S8Rvr9rci1"
   },
   "outputs": [],
   "source": [
    "# Entertainment.\n",
    "\n",
    "Text_A04 = \"\"\"\n",
    "Cádiz is in style: it has just been included in The New York Times’ list of 52 Places to Go in 2019. The recognition comes on the back of acknowledgment from TripAdvisor, which last year ranked Cádiz eighth on its list of European Destinations On The Rise for 2018.\n",
    "\n",
    "The journalist Andrew Ferren, who wrote about Cádiz for The New York Times’ list, lives in Spain himself and is no stranger to the southern province’s charms. “I am fascinated by its mix of atmospheres,” he says. “You leap from places as sophisticated and cultured as Jerez de la Frontera to wild landscapes that take your breath away, such as the beach in Bolonia or Alcornocales Park. It’s like the Wild West of southern of Spain.”\n",
    "\n",
    "“Despite the fact that Cádiz was historically a major maritime link between America and Europe, it’s not very well known to the US public and it’s really worth a visit,” he adds. There are three main reasons why The New York Times recommends a trip to Cádiz:\n",
    "\n",
    "Culinary delights\n",
    "Aponiente restaurant in El Puerto de Santa María.\n",
    "Aponiente restaurant in El Puerto de Santa María.\n",
    "Suggestions include the new Western-style gastrobar Saja River, recently opened on Santa Elena street, and Código de Barra in La Candelaria Square. Ferren also suggests crossing the bay from the capital to Puerto de Santa María, where Angel León has his three-starred Michelin restaurant offering “a lyrical poem of seafood.” Just 40 km from here, León has another restaurant within the Meliá Sancti Petri hotel called Alevante, which has just been awarded its first Michelin star. For something more casual, there is La Taberna del Chef del Mar, another of the chef’s brands in El Puerto.\n",
    "\n",
    "To these suggestions, EL VIAJERO adds several of its own, including Restaurante Café Royalty, which opened opened in 1912, and the bookshop café La Clandestina (José del Toro, 23), which serves scrumptious breakfasts. There is also La Candela (Feduchy, 13) for tapas, while an exquisite combo of Andalusian and Norwegian fare is served at Patría restaurant, located on the hillside of Muela in Vejer de la Frontera.\n",
    "\n",
    "Jerez de la Frontera and its wineries\n",
    "Bodegas Lustau, en Jerez de la Frontera (Cádiz).ampliar foto\n",
    "Bodegas Lustau, en Jerez de la Frontera (Cádiz). NEIL FARRIN GETTY IMAGES\n",
    "Around 36 km to the north of Cádiz lies Jerez de la Frontera, known for the fortified wines known in English as sherry. Wineries from the region known as Marco de Jerez (comprising Jerez proper, El Puerto and Sanlúcar) preserve their unique 18th and 19th-century atmosphere. Ferren recommends Díez-Mérito, Lustau and Bodegas Tradición. Foodies are told to seek out Lú in Jerez, owned by the chef JuanLu Fernández\n",
    "\n",
    "The NMAC Montenmedio Foundation\n",
    "Vejer de la Frontera.ampliar foto\n",
    "Vejer de la Frontera. GETTY IMAGES\n",
    "The NMAC Montenmedio Foundation of contemporary art sits between Barbate and Vejer de la Frontera. It is a private gallery exhibiting works by artists who are asked to come up with projects inspired by the local history and landscape. The center has work by Olafur Eliasson, James Turrell, Marina Abramovic, Pascale Marthine Tayou, Maurizio Cattelan and Santiago Sierra.\n",
    "\n",
    "EL VIAJERO expands on Ferren’s recommendations with a few of its own:\n",
    "\n",
    "1.The Cádiz Carnival\n",
    "The Cádiz carnival.ampliar foto\n",
    "The Cádiz carnival.\n",
    "An unique and fun festival that takes place from February 28 to March 10. In fact it is so unique that it is applying to be included on the World Intangible Cultural Heritage list.\n",
    "\n",
    "2. Barrio del Pópulo\n",
    "The Pópulo neighborhood.ampliar foto\n",
    "The Pópulo neighborhood. RAQUEL M. CARBONELL GETTY\n",
    "This is the oldest neighborhood in Cádiz and features an old Roman theater, the old cathedral and stone arches that lead to bohemian bars such as Pay Pay (Silencio, 1), a former brothel that now has live music, dance, improv and stand-up comedy.\n",
    "\n",
    "3. Cádiz à la Havana\n",
    "Cathedral square in Cádiz.ampliar foto\n",
    "Cathedral square in Cádiz. RAQUEL M. CARBONELL GETTY\n",
    "Stroll from the colonial-style Mina Square, with its ficus and palm trees, to the Provincial Museum containing Phoenician sarcophagi, to Campo del Sur avenue which was converted into a Havana esplanade for the 2002 James Bond movie Die Another Day.\n",
    "\n",
    "4. A wealth of history\n",
    "Baelo Claudia Roman site in Tarifa (Cádiz).ampliar foto\n",
    "Baelo Claudia Roman site in Tarifa (Cádiz). KEN WELSH GETTY\n",
    "Standing on the frontier between two continents, the province of Cádiz has a long and action-packed history, while its capital is one of the oldest cities in Europe. Remnants of yesteryear can be seen at a number of archeological sites, including Baelo Claudia, Carteia and Doña Blanca.\n",
    "\n",
    "5. Sanlúcar de Barrameda\n",
    "Summer beach horse races in Sanlúcar de Barrameda.ampliar foto\n",
    "Summer beach horse races in Sanlúcar de Barrameda. JUAN CARLOS TORO\n",
    "Famous for its summer horse racing on the beach as well as for its wineries, this coastal town has been described by journalist Mariló García as a “dazzling city in Cádiz that boasts history, exquisite seafood, a city center with a mix of palaces and wineries as well as the incomparable landscape of Doñana Natural Park.”\n",
    "\n",
    "6. Coast and mountains\n",
    "Olvera, a white village in Cádiz.ampliar foto\n",
    "Olvera, a white village in Cádiz. RUDI SEBASTIAN GETTY\n",
    "Cádiz has miles of windswept beaches that make it a perfect haunt for surfers of various descriptions. In less than an hour, however, you can be in the hills visiting quintessentially Andalusian white villages such as Medina Sidonia, Grazalema and Ubrique.\n",
    "\n",
    "7. The flamenco route\n",
    "Located in San Fernando, the Peña Flamenca Camarón de la Isla, named after the famous singer, has shows every week and is a good place to tune into some authentic flamenco artistry.\n",
    "\n",
    "8. Conil de la Frontera\n",
    "The beach in Conil de la Frontera.ampliar foto\n",
    "The beach in Conil de la Frontera. GETTY IMAGES\n",
    "There are three national parks that stretch along Cádiz’s Atlantic coast – La Breña, Los Alcornocales and el Estrecho – as well as beaches such as Conil de la Frontera which has the best beach bars around for watching the sun go down.\n",
    "\n",
    "9. Surfing in Tarifa\n",
    "In the inlets of Los Lances and Valdevaqueros in Tarifa, wind and kitesurfers can skid across the water with a view of Africa in front and El Estrecho national park behind them.\n",
    "\n",
    "10. The white villages\n",
    "Nineteen districts in the Cádiz mountains take you through a string of white villages – Alcalá del Valle, Algar, Algodonales, Arcos de la Frontera, Benaocaz, Bornos, El Bosque, Espera, El Gastor, Grazalema, Olvera, Prado del Rey, Puerto Serrano, Setenil de las Bodegas, Torre Alhaquine, Ubrique, Villaluenga del Rosario, Villamartín and Zahara de la Sierra. The villagers still whitewash their homes with lime as they did in the past, normally once a year before the local fiestas.\n",
    "\"\"\""
   ]
  },
  {
   "cell_type": "code",
   "execution_count": null,
   "metadata": {
    "id": "zsoxQlqhrcft"
   },
   "outputs": [],
   "source": [
    "# Business.\n",
    "\n",
    "Text_A05 = \"\"\"\n",
    "Private banks may sell shares to raise a cumulative Rs 35,000 crore to build a buffer against the economic shocks due to the coronavirus pandemic.\n",
    "Bank of Baroda, RBL Bank, IndusInd Bank, Yes Bank, Kotak Mahindra Bank and IDFC First Bank are looking to build a “capital base” against the economic effects of COVID-19. RBL and IDFC First plan to raise between Rs 1,800-2,000 crore each, sources told Mint.\n",
    "IDFC First Bank will reportedly use the capital for “strengthening the bank’s capital buffers further and for growth”.\n",
    "Moneycontrol could not independently verify the report.\n",
    "RELATED NEWS\n",
    "Tobacco smoking potential risk factor for COVID-19: Study\n",
    "Most Americans cannot or will not use COVID-19 contact tracing apps: Poll\n",
    "India's January-March gold demand falls 36% due to volatile prices, economic uncertainties: WGC\n",
    "RBL Bank is also said to be looking to add growth capital and strengthen its capital position.\n",
    "Follow our LIVE Updates on the coronavirus pandemic here\n",
    "“The capital raising may happen when the share price goes up. The money can be used for consolidation such as acquisitions or mergers, apart from improving the bank’s tier 1 capital further,\" sources told the paper.\n",
    "Over the past weeks, these banks have made plans to issue fresh shares to enhance common equity tier 1 (CET 1) capital, it added. CET 1 is used to measure a bank’s capability to bear loan losses and write-offs, and also measure cash reserve for acquisitions or infusions.\n",
    "The lockdown to combat the spread of the virus has made it difficult for borrowers to repay loans and could increase slippages and loan write-offs in the September quarter. The second phase of the country-wide lockdown is scheduled to be lifted in phases from May 3.\n",
    "\"\"\""
   ]
  },
  {
   "cell_type": "code",
   "execution_count": null,
   "metadata": {
    "id": "rjIdn1xtrcdM"
   },
   "outputs": [],
   "source": [
    "# Tech.\n",
    "\n",
    "Text_A06 = \"\"\"\n",
    "Elon Musk told the world in late 2017 that Tesla was taking its automotive know-how and applying it to a totally new challenge: self-driving big rigs. But one year later, he placed the Tesla Semi fourth on a list of priorities for the company, behind the upcoming Model Y compact SUV and an electric pickup truck. This week, Daimler executed a move many years in the making by announcing its own big rig (albeit diesel-powered) outfitted with semi-autonomous technology. And others are following suit.\n",
    "\n",
    "The German automaker also committed to manufacturing the truck this summer, with deliveries scheduled for later this year. It pledged 500 million euros over the next few years to the continued development of an autonomous big rig, and said it has hired hundreds of employees to move the tech forward. And just like it did when it unveiled the prototype version in 2015, Daimler gave us a ride in the truck to get a taste of what the near future of trucking will look like.\n",
    "\n",
    "While there are a few Tesla Semi prototypes on the road now, and a dozen or so big name companies have placed preorders for the trucks, it doesn’t look like a production version is coming any time soon. Tesla still hasn’t said where or exactly when it will build the trucks, and would likely need to raise more money (or sell a hell of a lot more Model 3s) to fund the project.\n",
    "\n",
    "DAIMLER FIRST SHOWED OFF A PROTOTYPE IN 2015\n",
    "This has left the door wide open for companies like Daimler, the parent company of Mercedes-Benz. Daimler announced it was working on its own self-driving big rig in 2015 when it showed off a working prototype called the Freightliner Inspiration Truck. The automaker went big, debuting the truck on the Hoover Dam and offering test rides at Las Vegas Motor Speedway. This week at the Consumer Electronics Show, Daimler returned to Las Vegas to make good on its promise with a production version of that prototype truck.\n",
    "\n",
    "The new Cascadia is not much more advanced than the prototype was in 2015. In fact, the technology is still pretty limited. Daimler says it’s the first Class 8 commercial truck with Level 2 autonomy (referring to the Society of Automotive Engineers’ scale for self-driving definitions), meaning the driver is in control, but is supported heavily by the truck’s technology in certain situations. In that sense, the new Cascadia essentially has the same basic driver assistance technology many modern cars offer, including automatic lane centering, adaptive cruise control, and emergency braking.\n",
    " \n",
    "The Freightliner Inspiration Truck at the event in 2015.\n",
    "But the new Cascadia is doing this with a limited set of sensors. There’s a forward-facing camera, a forward-facing radar, a second radar sensor on the right side of the truck. That package pales in comparison to the dozens of cameras, ultrasonic sensors, and radars you’d find powering Autopilot, let alone the Tesla Semi, which is supposed to have a beefed-up version of this same sensor suite.\n",
    "\n",
    "This helps keep costs down, but means the technology is more in line with what you’d find powering something like Nissan’s ProPilot driver assistance feature as opposed to Autopilot, or even Audi’s supposedly Level 3 system, which uses similar tech, but relies on LIDAR as well.\n",
    "\n",
    "DAIMLER’S TRUCK HAS MORE IN COMMON WITH NISSAN’S PROPILOT SYSTEM THAN TESLA’S AUTOPILOT\n",
    "Keeping with a theme of less is more, there’s also no camera-based monitoring system in the truck to make sure the driver pays attention while using the Level 2 features. Instead, the Cascadia uses a system similar to the one found in Tesla’s cars.\n",
    "\n",
    "A sensor in the steering column measures resistance applied to the steering wheel. If the driver takes their hands off the wheel while using the lane centering feature, the instrument cluster will, after about 15 seconds, surface a warning that tells them to place their hands back on the wheel. If the driver doesn’t do that, the warning changes from yellow to red. After another 60 seconds, if the driver still hasn’t put their hands back on the wheel, the truck will come to a stop on the side of the road.\n",
    " \n",
    "The new Cascadia is a far cry from a fully autonomous truck, but based on my brief ride, Daimler has refined the technology compared to the prototype version. The prototype swayed on the highway during my two-mile demo ride in 2015, ping-ponging between the lane markers. The new truck, meanwhile, felt locked to the center of the lane during this week’s ride, which followed the same exact route from a few years ago.\n",
    "\n",
    "A Daimler representative also told me that, while lane centering is on, the driver can even choose where the system places them in the lane. (For example, if a driver is on a tight one-lane highway and wants to avoid clipping oncoming traffic, they could tell the truck to hug the right lane line.) This is another sign that system is maturing from what debuted in 2015, though it’s a small one.\n",
    "\n",
    "RELATED\n",
    "\n",
    "This is what it’s like to ride in Daimler’s self-driving semi truck\n",
    "Daimler promised some other modern technologies are coming the new Cascadia, though none of it was on display in the preproduction trucks being used for the demonstration. The company plans to offer an optional 10-inch touchscreen in the dashboard, and a 12-inch digital cluster behind the steering wheel. The truck will be able to receive over-the-air software updates, too.\n",
    "\n",
    "The Cascadia won’t be as stuffed with tech as the Tesla Semi, nor is it as sleek. But it will be available later this year. Daimler has argued that bringing automation to trucking will help squeeze better fuel efficiency out of the millions of miles that its big rigs cover every year. It would decrease the toll those miles take on the drivers. Most importantly, it could help reduce the some 4,000 fatalities that result from crashes involving these massive hunks of machinery. If all goes well, we might have a sense by the end of this year of whether any of that is true.\n",
    "\"\"\""
   ]
  },
  {
   "cell_type": "code",
   "execution_count": null,
   "metadata": {
    "id": "n3VOVu54rcaZ"
   },
   "outputs": [],
   "source": [
    "# Sports.\n",
    "\n",
    "Text_A07 = \"\"\"\n",
    "Spain has agreed to host the soccer final of the Copa Libertadores between Argentina teams River Plate and Boca Juniors. The match will take place on December 9 at the Santiago Bernabéu stadium in Madrid.\n",
    "\n",
    "The final in Madrid is a punch in the soul to all fans of soccer in Argentina\n",
    "\n",
    "ONLINE SPORTS DAILY OLE\n",
    "\n",
    "The final was set to take place in Argentina but was suspended twice after fans turned violent. The first time, on November 25, riot police were called in after supporters of River began throwing stones and bottles at the bus carrying Boca players. Pepper spray used to control the crowds ended up affecting members of the soccer team. The players later shared photos of their injuries. The match was rescheduled but again had to be suspended after fans descended into violence.\n",
    "\n",
    "In view of the insecurity, the South American Football Confederation (Conmebol), which organizes the competition, decided the only solution was to hold the game in a different country. On Thursday, Spanish Prime Minister Pedro Sánchez said Spain would be “willing to organize the Copa Libertadores final between River and Boca” in a message on Twitter, and an hour later Conmebol president Alejandro Domínguez confirmed the game would take place in Madrid.\n",
    "\n",
    "Embedded video\n",
    "\n",
    "Sebastián Lisiecki\n",
    "@sebalisiecki\n",
    "Así fue la llegada de Boca al Monumental. Pésimo la seguridad q los mete entre toda la gente de River, los jugadores no tienen q hacer gestos, tienen q.jugar adentro. La Policía no controló y después tiró gas pimienta. Insólito todo. Quinto mundo\n",
    "\n",
    "7:23 PM - Nov 24, 2018\n",
    "637 people are talking about this\n",
    "Twitter Ads info and privacy\n",
    "This was how Boca arrived at Monumental stadium. The security that got between the all people of River was terrible. Players shouldn't have to make gesture, they should play. The police did not control the situation and then pepper gas was thrown. Unbelievable. Fifth world.\n",
    "\n",
    "This is the first time a Copa Libertadores game has been played outside the Americas since the competition began in 1960. Domínguez however was positive about the decision: “[Madrid] has the largest Argentine community overseas, Barajas is the airport with the best connection to Latin America, and it is a city with a great soccer culture.”\n",
    "\n",
    "But the feeling in Argentina has been less optimistic. The national newspaper La Nación wrote that “it represents, in some way, the structural failure of our soccer, which is unable to organize the best final in the history of the [Copa] Libertadores.” Online sports daily Ole agreed: “The final in Madrid is a punch in the soul to all fans of soccer in Argentina. Ten thousands kilometers away, River-Boca is an unhappy attempt to transform the classic into a Champions League event.” According to a survey run by Ole, 76% of respondents think it is bad that the game has been moved to Spain.\n",
    "\n",
    "Security risk\n",
    "In a message on Twitter, Sánchez promised that \"security forces have extensive experience of these situations and are already working on the necessary deployments to ensure the event is secure.\" Despite these assurances, there are concerns there is not enough time to properly secure the event. According to sources familiar with the security operations, between four and six weeks are needed to analyze the security needs of high-risk sporting stadiums and the ensuing preparations can take up to eight months. In the case of the Copa Libertadores final, security officials will have just days to prepare.\n",
    "\n",
    "River and Boca have a long-standing rivalry fueled largely by the class divide between the teams – River attracts wealthy, upper-class supporters while Boca is known for its working-class fans.\n",
    "\n",
    "Scheduling issues\n",
    "The final will take place on Sunday, December 9, on the final day of a three-day national holiday in Spain for Constitution Day on December 6. Madrid receives its highest number of visitors in these dates. In 2017, 600,000 visitors came to the capital, and the hotel occupancy rate was over 80%.\n",
    "\n",
    "Conmebol president Alejandro Domínguez on Tuesday.\n",
    "Conmebol president Alejandro Domínguez on Tuesday.\n",
    "Many details about the game have yet to be revealed, including how tickets will be sold, what system will be used and who can buy tickets. In Argentina, fans of the visiting team are banned from the stadiums.\n",
    "\n",
    "Conmebol and soccer club representatives began considering destinations for the match on Tuesday including Doha, the capital of Qatar and the host of the 2022 FIFA World Cup, which offered attractive economic incentives and Miami, which was ruled out by the US Soccer Federation.\n",
    "\"\"\""
   ]
  },
  {
   "cell_type": "code",
   "execution_count": null,
   "metadata": {
    "id": "x4N_k1qDrcXJ"
   },
   "outputs": [],
   "source": [
    "# Weather.\n",
    "\n",
    "Text_A08 = \"\"\"\n",
    "A polar air mass that entered the Iberian peninsula on Wednesday has already caused sharp drops in temperature, but the worst is yet to come, said the national weather service Aemet.\n",
    "\n",
    "“An episode of intense cold” is forecast for Friday, when the mercury will continue to plummet across much of Spain. Thirty provinces are on yellow alert, the lowest on a three-color scale, except for Guadalajara, where there is an orange advisory in place. Lows of -10 ºC are expected in Parameras de Molina.\n",
    "\n",
    "Elsewhere, weather stations have recorded -8.2ºC in La Molina (Girona), at an elevation of 1,700 meters, and -6.8ºC in Puerto de Navacerrada (Madrid).\n",
    "\n",
    "Almería has rolled out vehicles to deal with wintry road conditions.\n",
    "Almería has rolled out vehicles to deal with wintry road conditions. DIPUTACIÓN DE ALMERÍA EUROPA PRESS\n",
    "Aemet spokesman Rubén del Campo said that the cold spell is not out of the ordinary for a month of January, and noted that “we are emerging from a warm December when temperatures were 1.2ºC above average.”\n",
    "\n",
    "Temperatures have already dipped between six and eight degrees in a matter of hours in some parts of Spain, said Del Campo. And the northerly wind will increase the feeling of cold.\n",
    "\n",
    "Temperatures on Friday and Saturday will be “very cold, with lows of five to 10 degrees below average in many parts of northern and eastern Spain, and in the Balearics,” he added.\n",
    "\n",
    "No snow\n",
    "However, little to no snow is expected “not for lack of cold, but for lack of precipitation, since the air mass is very dry.”\n",
    "\n",
    "Alerts are in place in Almería, Granada, Jaén, Aragón, Cantabria, Castilla-La Mancha, Castilla y León except for Salamanca and Valladolid, Catalonia save for Tarragona, Madrid, Navarre, the Valencia region, the Balearic Islands, La Rioja, Asturias and Murcia.\n",
    "\n",
    "On Saturday, the orange warnings will extend to Córdoba, Salamanca, Valladolid, Galicia and Lleida, where lows of -10 ºC are expected in the Vall d’Aran.\n",
    "\"\"\""
   ]
  },
  {
   "cell_type": "code",
   "execution_count": null,
   "metadata": {
    "id": "bVrt3k8prcVM"
   },
   "outputs": [],
   "source": [
    "# Health.\n",
    "\n",
    "Text_A09 = \"\"\"\n",
    "The obesity epidemic has been on the rise for years, with cases nearly tripling since 1975, according to the World Health Organization (WHO). And the outlook for the future is equally bleak – and that includes Spain, a country that is famed for the positive effects of its supposedly Mediterranean diet.\n",
    "\n",
    "An investigation by the Mar de Barcelona hospital has found that 80% of men and 55% of women will be overweight by 2030. If the current trend continues, the researchers write, within 11 years more than 27 million people in Spain will be overweight.\n",
    "\n",
    "Being overweight can mean a higher risk of suffering a number of diseases, including diabetes, hypertension, stroke and cancer\n",
    "\n",
    "The study, published in the Spanish Cardiology Magazine, points out that this epidemic will mean costs of €3 billion for the country’s health system.\n",
    "\n",
    "The issue, the experts state, is not an esthetic one, but rather a question of health. Being overweight can mean a higher risk of suffering a number of diseases, including diabetes, hypertension, stroke, cancer and other cardiovascular conditions.\n",
    "\n",
    "Researchers at the Barcelona hospital revised all of the scientific literature published in Spain on epidemiology and the prevalence of obesity and excess weight between 1987 and 2014 in order to come up with an accurate picture of the state of the country’s residents. “We found the trends and we cross-referenced them with data covering the general population from the National Statistics Institute in order to estimate the figures of obesity and excess weight,” explains Álvaro Hernáez, the chief researcher on the project. The results revealed an “alarming future.”\n",
    "\n",
    "There are currently 25 million people with excess weight, three million more than a decade ago\n",
    "\n",
    "DR ALBERT GODAY, AUTHOR OF THE STUDY\n",
    "\n",
    "“There are currently 25 million people with excess weight, three million more than a decade ago,” explains Dr Albert Goday, another author of the study. “In a conservative scenario, if this trend continues, there will be another three million more – 16% more cases – by 2030.”\n",
    "\n",
    "“In men, excess weight is more usual up to the age of 50,” explains Goday. “From 50 onward, obesity rises among women. These are issues that are intrinsically linked to hormonal metabolism. From a certain age, it is harder for women to control their weight.”\n",
    "\n",
    "The experts argue that any weight loss, no matter how small, reduces the risk of contracting one of the associated illnesses. “We aren’t going to find the key to this or a vaccination overnight,” Goday adds. “But any minor intervention will help to reduce the risk. You might think that you have made a huge effort and have only lost four kilos when you need to lose many more, but you must bear in mind that those four kilos are already reducing the risk.”\n",
    "\"\"\""
   ]
  },
  {
   "cell_type": "code",
   "execution_count": null,
   "metadata": {
    "id": "5gauC113rcRk"
   },
   "outputs": [],
   "source": [
    "# Animal Abuse.\n",
    "\n",
    "Text_A10 = \"\"\"\n",
    "Spain’s animal rights party PACMA posted a 38-second video on Twitter on Friday showing a man freeing a fox from a cage, before hunters immediately start shooting at it.\n",
    "\n",
    "“Hunters shut what appears to be a fox in a cage and let it out only to pepper it with bullets,” says the accompanying text. “Another ‘isolated case’ as the hunting lobby refers to it. Every week, a trickle of ‘isolated cases.’ In fact, they are dangerous psychopaths with a rifle and a license to carry arms.”\n",
    "\n",
    "Video insertado\n",
    "\n",
    "@PartidoPACMA\n",
    "Cazadores enjaulan a lo que parece ser un zorro y lo liberan solo para acribillarlo a tiros. Otro \"caso aislado\", de los que habla el lobby de la caza. Cada semana varios \"casos aislados\".\n",
    "\n",
    "En realidad, son peligrosos psicópatas con escopeta y permiso de amas. #YoNoDisparo\n",
    "\n",
    "7.443 personas están hablando de esto\n",
    "Información y privacidad de Twitter Ads\n",
    "At the start of the video, a man teases the caged animal with a stick. When the cage door is opened, the animal makes a run for it, but is shot at by men armed with rifles who are waiting by the cage.\n",
    "\n",
    "The release of the video, which has had 255,000 views, coincided with the launch of PACMA’s campaign against the start of fox-hunting season in Galicia. “Fox-hunting season in Galicia has started: hunts that hide behind environmental excuses, championships in which the only reason to compete is to kill. The hunters will be entitled to pursue and kill thousands of foxes in the countryside,” states PACMA.\n",
    "\n",
    "As it notes on its website, PACMA is the only political group that opposes hunting, and it is currently demanding a nationwide ban. “No animal should die under fire,” say the group. “We will fight tirelessly until hunting becomes a crime.”\n",
    "\n",
    "No animal should die under fire. We will fight tirelessly until hunting becomes a crime\n",
    "\n",
    "The animal rights group is preparing a report to send to the regional government of Galicia against fox hunts. “We are working hard to make it the first Spanish region to assign resources to protecting foxes instead of killing them,” says a source at PACMA.\n",
    "\n",
    "Last month, a Spanish hunter who was filmed while he chased and tortured a fox was identified by the Civil Guard in the Spanish province of Huesca. The man, aged 35, is facing charges of crimes against wildlife.\n",
    "\n",
    "And in November, animal rights groups and political parties reacted with indignation over a viral video shot in Cáceres province of 12 hunting dogs falling off a cliff edge, followed by the deer they were attacking.\n",
    "\"\"\""
   ]
  },
  {
   "cell_type": "code",
   "execution_count": null,
   "metadata": {
    "colab": {
     "base_uri": "https://localhost:8080/"
    },
    "executionInfo": {
     "elapsed": 1584,
     "status": "ok",
     "timestamp": 1652148724950,
     "user": {
      "displayName": "Kalyana Varma Polapragada",
      "userId": "14326624661476973438"
     },
     "user_tz": -330
    },
    "id": "XGdwgtgQuJJV",
    "outputId": "d12cd8cf-3de2-4d33-9d92-0164856d1d4f"
   },
   "outputs": [],
   "source": [
    "ListText_A = [Text_A01, Text_A02, Text_A03, Text_A04, Text_A05, Text_A06, Text_A07, Text_A08, Text_A09, Text_A10]\n",
    "Predictions_A = pd.Series(ListText_A).apply(lambda x : PredictText(ModelStack, x))\n",
    "\n",
    "Predictions_A"
   ]
  },
  {
   "cell_type": "code",
   "execution_count": null,
   "metadata": {
    "id": "fR49FlCc1Tek"
   },
   "outputs": [],
   "source": [
    "# Crime.\n",
    "\n",
    "Text_B01 = \"\"\"\n",
    "Rajasthan: 1 killed, 8 injured in fight over land dispute in Barmer\n",
    "A fight between two families due to a land dispute took an ugly turn in the Barmer district of Rajasthan in which one person was killed and eight others were injured. Five people have been arrested and a further investigation is underway.\n",
    "\n",
    "One person was killed and eight others, including women, were injured after two families clashed with each other in the wee hours of Tuesday over a land dispute in Barmer's Dhandhlawas village. Police have arrested five people in connection with the crime and none of the members of the groups has come forward to lodge a complaint.\n",
    "\n",
    "The injured are being treated at a hospital and two others, whose condition is said to be critical, have been referred to Barmer. The incident led to a tense situation in the village.\n",
    "\n",
    "A clash broke out between two families in Barmer under RGT police station limits which took a violent turn. The people from both the groups allegedly attacked each other with stones and sticks, for which one person, identified as Ashok Singh, suffered serious injuries. He was immediately rushed to a hospital for medical treatment but was declared dead by the doctors.\n",
    "\n",
    "FIGHT OVER LAND DISPUTE\n",
    "The initial probe revealed that the two families were at loggerheads due to a long-pending land dispute and, on Tuesday at 3 am, one Mahendra Singh with a few women went to capture the land as they grew suspicious of the court's stay order.\n",
    "\n",
    "A brawl erupted between Mahendra Singh and Lakshman Singh, which led to violent clashes and people started thrashing each other with stones and sticks. RGT Police officials reached the spot and took the injured to the hospital and said that action would be taken once a police complaint is filed.\n",
    "\n",
    "Mahendra had launched an attack on his brother Laxman around 20 days ago owing to a dispute. Following the incident, Laxman had approached the district police headquarters and asked for police security for his family. The victims alleged police inaction and claimed that neither did the police file a complaint nor provide them with security.\n",
    "\"\"\""
   ]
  },
  {
   "cell_type": "code",
   "execution_count": null,
   "metadata": {
    "id": "XlHh695i1qT0"
   },
   "outputs": [],
   "source": [
    "# Crime.\n",
    "\n",
    "Text_B02 = \"\"\"\n",
    "Bihar: 1 dead, 2 injured in gunfight between two groups over liquor sale\n",
    "A youth was killed and two others were injured after groups opened fire and engaged in a clash due to the alleged selling of liquor in Bihar's Bhojpur district. While one person died on the spot, the injured victims are undergoing treatment at a hospital.\n",
    "\n",
    "A 22-year-old youth was killed and two others sustained injuries in Bihar's Arrah district after a clash between two groups took a violent turn. The miscreants, involved in a physical brawl in Bhojpur that falls in Badhra police station limits over the alleged selling of alcohol, opened fire at each other, triggering panic in the area.\n",
    "\n",
    "The deceased has been identified as Bhuvan Bindh and the injured Khedan Bindh (70), who also received bullet injuries, is undergoing treatment at a hospital. Another individual, Akhilesh Singh, who belongs to the other group, also got grievously injured during the fight.\n",
    "\n",
    "The police probe revealed that the fight between the two groups broke out when Singh, a resident of Nathmalpur, and his aides allegedly raised objections to the selling of liquor. Akhilesh had stopped the Bindhs from selling alcohol in the area which triggered the fight.\n",
    "\n",
    "PROBE LAUNCHED\n",
    "The fight took an ugly turn when Singh and his men allegedly opened fire, leading to Bhuvan's death on the spot. Upon receiving the information, Badhra police station SI Santosh Kumar reached the spot and launched an investigation into the matter. He said two people received bullet injuries but we are yet to ascertain the reason behind the crime.\n",
    "\n",
    "Singh's son told India Today, \"I got a phone call and received the information that a few people attacked my father with a sharp weapon. I don't know how the event unfolded and who is behind the violence.\"\n",
    "\n",
    "SSP Himanshu Kumar said, \"The Badhra police station officials immediately launched a probe into the fight and we are trying to arrest the accused. One person has died and another was injured due to open firing and clashes. We are investigating the matter.\"\n",
    "\"\"\""
   ]
  },
  {
   "cell_type": "code",
   "execution_count": null,
   "metadata": {
    "id": "xgRmzkLl1TPh"
   },
   "outputs": [],
   "source": [
    "# Politics.\n",
    "\n",
    "Text_B03 = \"\"\"\n",
    "Reformer of the year 2021: Narendra Modi, the game changer\n",
    "In his first term, Prime Minister Narendra Modi's reform agenda saw only incremental implementation. In his second term, he moved at warp speed to reform India's economic landscape, and in 2021 made a big privatisation push that included asset monetisation of PSUs apart from streamlining labour laws. However, the challenge of successfully implementing these changes remains\n",
    "\n",
    "A big expectation of the NDA under Prime Minister Narendra Modi, even as far back as the start of his first term in 2014, was that true to the ‘minimum government, maximum governance’ slogan, the Centre would quickly roll out major reforms, especially those that took the government out of the business of running businesses. However, reforms are tougher to implement than to announce, and in its first term, Modi’s tenure saw more incremental progress than fundamental change. The two major policy changes that did happen—demonetisation and the GST (goods and services tax)—both drew flak for their implementation, and though the GST has proved far more beneficial than demonetisation, even the Modi government’s tax network had a shaky start.\n",
    "\"\"\""
   ]
  },
  {
   "cell_type": "code",
   "execution_count": null,
   "metadata": {
    "id": "6EUqZqLf1r52"
   },
   "outputs": [],
   "source": [
    "# Politics.\n",
    "\n",
    "Text_B04 = \"\"\"\n",
    "Tejasvi Surya: Saffron star\n",
    "He was nine when he sold his paintings to contribute to the Kargil fund. He is also a trained Carnatic musician and an avid biker\n",
    "\n",
    "There cannot be a more complete package for BJP than Tejasvi Surya. An RSS swayamsevak, ABVP member and Yuva Morcha leader, law graduate, digitally literate and committed to party ideology. Eyeing this very potential, BJP chose the then 28-year-old over Tejaswini, wife of Ananth Kumar, a six-time BJP MP and the party’s most prominent face in Delhi, after his death in November 2018 to represent Bangalore South in the 2019 general election. Surya won, trouncing veteran Congress leader B.K. Hariprasad by 331,000 votes to become the youngest BJP MP in the 17th Lok Sabha.\n",
    "\"\"\""
   ]
  },
  {
   "cell_type": "code",
   "execution_count": null,
   "metadata": {
    "id": "7Klssav-1S_0"
   },
   "outputs": [],
   "source": [
    "# Science.\n",
    "\n",
    "Text_B05 = \"\"\"\n",
    "Here’s the best timeline yet for the Milky Way’s big events\n",
    "Our galaxy formed its original disk 2 billion years before its stellar halo\n",
    "\n",
    "By Ken Croswell\n",
    "\n",
    "MARCH 23, 2022 AT 12:00 PM\n",
    "\n",
    "A new analysis of nearly a quarter million stars puts firm ages on the most momentous pages from our galaxy’s life story.\n",
    "\n",
    "Far grander than most of its neighbors, the Milky Way arose long ago, as lesser galaxies smashed together. Its thick disk — a pancake-shaped population of old stars — originated remarkably soon after the Big Bang and well before most of the stellar halo that envelops the galaxy’s disk, astronomers report March 23 in Nature.\n",
    "\n",
    "“We are now able to provide a very clear timeline of what happened in the earliest time of our Milky Way,” says astronomer Maosheng Xiang.\n",
    "\n",
    "He and Hans-Walter Rix, both at the Max Planck Institute for Astronomy in Heidelberg, Germany, studied almost 250,000 subgiants — stars that are growing larger and cooler after using up the hydrogen fuel at their centers. The temperatures and luminosities of these stars reveal their ages, letting the researchers track how different epochs in galactic history spawned stars with different chemical compositions and orbits around the Milky Way’s center.\n",
    "\n",
    "“There’s just an incredible amount of information here,” says Rosemary Wyse, an astrophysicist at Johns Hopkins University who was not involved with the study. “We really want to understand how our galaxy came to be the way it is,” she says. “When were the chemical elements of which we are made created?”\n",
    "\n",
    "Xiang and Rix discovered that the Milky Way’s thick disk got its start about 13 billion years ago. That’s just 800 million years after the universe’s birth. The thick disk, which measures 6,000 light-years from top to bottom in the sun’s vicinity, kept forming stars for a long time, until about 8 billion years ago.\n",
    "\n",
    "During this period, the thick disk’s iron content shot up 30-fold as exploding stars enriched its star-forming gas, the team found. At the dawn of the thick disk era, a newborn star had only a tenth as much iron, relative to hydrogen, as the sun; by the end, 5 billion years later, a thick disk star was three times richer in iron than the sun.\n",
    "\n",
    "Xiang and Rix also found a tight relation between a thick disk star’s age and iron content. This means gas was thoroughly mixed throughout the thick disk: As time went on, newborn stars inherited steadily higher amounts of iron, no matter whether the stars formed close to or far from the galactic center.\n",
    "\n",
    "But that’s not all that was happening. As other researchers reported in 2018, another galaxy once hit our own, giving the Milky Way most of the stars in its halo, which engulfs the disk (SN: 11/1/18). Halo stars have little iron.\n",
    "\n",
    "The new work revises the date of this great galactic encounter: “We found that the merger happened 11 billion years ago,” Xiang says, a billion years earlier than thought. As the intruder’s gas crashed into the Milky Way’s gas, it triggered the creation of so many new stars that our galaxy’s star formation rate reached a record high 11 billion years ago.\n",
    "\n",
    "The merger also splashed some thick disk stars up into the halo, which Xiang and Rix identified from the stars’ higher iron abundances. These “splash” stars, the researchers found, are at least 11 billion years old, confirming the date of the merger.\n",
    "\n",
    "The thick disk ran out of gas 8 billion years ago and stopped making stars. Fresh gas around the Milky Way then settled into a thinner disk, which has given birth to stars ever since — including the 4.6-billion-year-old sun and most of its stellar neighbors. The thin disk is about 2,000 light-years thick in our part of the galaxy.\n",
    "\n",
    "“The Milky Way has been quite quiet for the last 8 billion years,” Xiang says, experiencing no further encounters with big galaxies. That makes it different from most of its peers.\n",
    "\n",
    "If the thick disk really existed 13 billion years ago, Xiang says, then the new James Webb Space Telescope (SN: 1/24/22) may discern similar disks in galaxies 13 billion light-years from Earth — portraits of the Milky Way as a young galaxy.\n",
    "\"\"\""
   ]
  },
  {
   "cell_type": "code",
   "execution_count": null,
   "metadata": {
    "id": "4tyHR1m-1trh"
   },
   "outputs": [],
   "source": [
    "# Science.\n",
    "\n",
    "Text_B06 = \"\"\"\n",
    "The universe’s background starlight is twice as bright as expected\n",
    "It took a spacecraft at the solar system’s edge to make precise enough observations of dark sky\n",
    "\n",
    "By Liz Kruesi\n",
    "\n",
    "MARCH 22, 2022 AT 7:00 AM\n",
    "\n",
    "Even when you remove the bright stars, the glowing dust and other nearby points of light from the inky, dark sky, a background glow remains. That glow comes from the cosmic sea of distant galaxies, the first stars that burned, faraway coalescing gas — and, it seems, something else in the mix that’s evading researchers.\n",
    "\n",
    "Astronomers estimated the amount of visible light pervading the cosmos by training the New Horizons spacecraft, which flew past Pluto in 2015, on a spot on the sky mostly devoid of nearby stars and galaxies (SN: 12/15/15). That estimate should match measurements of the total amount of light coming from galaxies across the history of the universe. But it doesn’t, researchers report in the March 1 Astrophysical Journal Letters.\n",
    "\n",
    "“It turns out that the galaxies that we know about can account for about half of the level we see,” says Tod Lauer, an astronomer at the National Science Foundation’s NOIRLab in Tucson, Ariz.\n",
    "\n",
    "For decades, astronomers have measured the extragalactic background light in different wavelengths, from radio waves to gamma rays (SN: 8/23/13; SN: 11/29/18). This provides a census of the universe and gives researchers hints into the processes that emit those types of light.\n",
    "\n",
    "But the background visible light — dubbed the cosmic optical background, or COB — is challenging to measure from the inner solar system. Here, lots of interplanetary dust scatters sunlight, washing out the much fainter COB. The Pluto-visiting New Horizons spacecraft, however, is far enough from the sun that scattered sunlight doesn’t flood the spacecraft’s images.\n",
    "\n",
    "So in September 2021, Lauer and colleagues pointed the spacecraft’s LORRI camera toward a patch of sky and took a bunch of pictures. They digitally removed all known sources of light — individual stars, nearby galaxies, even heat from the spacecraft’s nuclear power source (SN: 2/18/16) — and measured what was left to estimate the COB.\n",
    "\n",
    "Then they used large archives of galaxy observations, like those from the Hubble Space Telescope, to calculate the light emitted by all the galaxies in the universe. The measured COB is roughly twice as bright as that calculation.  \n",
    "\n",
    "While Lauer’s group previously noted a discrepancy, this new measurement reveals a wider difference, and with smaller uncertainty. “There’s clearly an anomaly. Now we need to try to understand it and explain it,” says coauthor Marc Postman, an astronomer at the Space Telescope Science Institute in Baltimore, Md.\n",
    "\n",
    "There are several astronomical reasons that could explain the discrepancy. Perhaps, says Postman, rogue stars stripped from galaxies linger in intergalactic space. Or maybe, he says, there is “a very faint population of very compact galaxies that are just below the detection limits of Hubble.” If it’s the latter case, astronomers should know in the next couple years because NASA’s recently launched James Webb Space Telescope will see these even-fainter galaxies (SN: 10/6/21).\n",
    "\n",
    "Another possibility is the researchers missed something in their analysis. “I’m glad it got done; it’s absolutely a necessary measurement,” says astrophysicist Michael Zemcov of the Rochester Institute of Technology in New York who was not involved in this study. Perhaps they’re missing some additional glow from the New Horizons spacecraft and its LORRI instrument, or they didn’t factor in some additional foreground light. “I think there’s a conversation there about details.”\n",
    "\n",
    "The light that reflects off the Milky Way’s dust, for example, is “a very subtle beast,” Zemcov says, “and our uncertainties likely get dominated by it at some point, just because it’s not very well understood.”  Several projects in the next few years, such as the CIBER-2 experiment and the space mission SPHEREx, could help astronomers understand this pesky dust-scattered light,  Zemcov says.\n",
    "\n",
    "In addition, he and his research group member, astrophysicist Teresa Symons, are poring through hundreds of old LORRI images of dark sky and running their own analyses. Meanwhile, Lauer and his colleagues will take more pictures of other patches of sky with LORRI to strengthen their confidence in the measurement of the background light and to better understand intrusions from the spacecraft itself.\n",
    "\n",
    "“There is something going on that we weren’t expecting,” Zemcov says, “which is where the fun part of science kicks in.”\n",
    "\"\"\""
   ]
  },
  {
   "cell_type": "code",
   "execution_count": null,
   "metadata": {
    "id": "-ezMHTuW1SwW"
   },
   "outputs": [],
   "source": [
    "# Business.\n",
    "\n",
    "Text_B07 = \"\"\"\n",
    "Indian rupee surges 18 paise to 76.15 against US dollar in early trade\n",
    "At the interbank foreign exchange, the rupee opened at 76.15 against the US dollar, registering a rise of 18 paise from the previous close, even as the domestic equities were trading in the negative territory.\n",
    "\n",
    "The rupee advanced 18 paise to 76.15 against the US dollar in the opening trade on Friday, tracking the weakness of the American currency in the overseas market.\n",
    "\n",
    "At the interbank foreign exchange, the rupee opened at 76.15 against the US dollar, registering a rise of 18 paise from the previous close, even as the domestic equities were trading in the negative territory.\n",
    "\n",
    "In the previous session, the rupee had appreciated 6 paise to settle at 76.33 against the US dollar.\n",
    "\n",
    "Global oil benchmark Brent crude futures rose 0.22 per cent to USD 119.29 per barrel.\n",
    "\n",
    "Meanwhile, the dollar index, which gauges the greenback’s strength against a basket of six currencies, fell 0.33 per cent to 98.46.\n",
    "\n",
    "On the domestic equity market front, the 30-share Sensex was trading 140.88 points or 0.24 per cent lower at 57,454.80, while the broader NSE Nifty slipped 39.50 points, or 0.23 per cent, to 17,183.25.\n",
    "\n",
    "Foreign institutional investors remained net sellers in the capital market on Thursday as they sold shares worth Rs 1,740.71 crore, according to stock exchange data.\n",
    "\"\"\""
   ]
  },
  {
   "cell_type": "code",
   "execution_count": null,
   "metadata": {
    "id": "k9JKsELh1Sgt"
   },
   "outputs": [],
   "source": [
    "# Movies.\n",
    "\n",
    "Text_B08 = \"\"\"\n",
    "Oscars 2022 Preview: Lively Music, ‘The Godfather’ and James Bond Homages, and Plenty of Surprises\n",
    "Among the performances is the \"Encanto\" cast performing “We Don’t Talk About Bruno” from the Disney film.\n",
    "\n",
    "As Film Twitter is ready to consign Oscars 22 to the dustbin of failed Oscar shows, the creative team behind the March 27th Oscar telecast are promising a show that’s anything but ordinary. From sets that extend into the audience to a production mandate that’s all about keeping the kinetic energy flowing seamlessly through ever-changing stagecraft, producers Will Packer and Shayla Cowan took a Thursday press conference to set the stage for an event that’s leaning on populist appeal while attempting not to further piss off riled-up cinephiles. “We are going to keep surprising you,” said Packer.\n",
    "\n",
    "Controversially, eight categories will be presented before the live broadcast and edited into the live show, a move that’s meant to help keep things moving by forgoing tracking shots of winners making the long walk from their seats to the stage.\n",
    "\n",
    "“One of the misperceptions is that things are being taken off the show, that’s not the case,” Packer said. “Make no mistake, without a doubt, we’re going to make sure everybody has their moment. Because at the end of the day, it’s an entertaining show, we want to be celebratory and fun, but it is about celebrating the most talented people in the world and what they do.”\n",
    "\n",
    "Music will be a big part of the night. So important, in fact, that press conference moderator Mike Muse enthusiastically offered this in his introductory remarks: “I love that tagline of ‘music lovers unite,'” he said.\n",
    "\n",
    "It is, in fact, “movie lovers unite,” reminded Packer, who is relying heavily on unique musical moments, including performances by Reba McEntire, Billie Eilish, and Beyoncé, to draw viewers to the show. Heading that effort is music director Adam Blackstone, an A-list MD who just wowed audiences at one of the most-watched televised events of the year: The 2022 Super Bowl.\n",
    "\n",
    "Packer gave Blackstone a mandate: “You’ve got to top that,” he said. He’s got his work cut out for him, after a halftime show that featured Dr. Dre, Snoop Dogg, 50 Cent, Kendrick Lamar, Eminem and Mary J. Blige. For the Oscars, Blackstone has crafted a segment he’s calling the “all-star band,” featuring him, Grammy winner Robert Glasper, Travis Barker, Sheila E., and “some other surprise guests.”\n",
    "\n",
    "“I come from the pop music world, hip-hop, pop, country, all of that, and I come from the stage,” he said.\n",
    "\n",
    "Blackstone will also serve as one of the conductors of the orchestra, which will incorporate funk, hip-hop, and pop elements in addition to the expected classical flavors. And among the performances is the “Encanto” cast performing “We Don’t Talk About Bruno” from the Disney film.\n",
    "\n",
    "Packer, best known for mainstream films like “Girls Trip,” said his mandate was breaking the Oscars free from its stuffy, self-congratulatory reputation. “We didn’t want this show to just be for a specific audience. Sometimes this show has felt like ‘It’s just us, just Hollywood is invited, we don’t need you, you can come if you want to,'” Packer said. “This year we wanted to be a little bit more open in our embrace of the public.”\n",
    "\n",
    "Production designer David Korins (Tony nominated for “Hamilton”) wants that embrace to be palpable. He called the set “a big, huge dynamic sculpture” that looks to the future. “The very first conversation we had, Will and Shayla said, ‘We want to have fun, we want this to move seamlessly from one act to the next,'” Korins said. “We wanted to put forth a community-first design, something that feels fun and electric and exciting. We are decking over large parts of the audience. We are showing a picture of the future that feels super exciting. Every single piece of scenery has a light inside, it glows from inside, because our vision of the future is light-emitting and hopeful.”\n",
    "\n",
    "It’s a beautiful image, but that puts potentially unvaccinated presenters within spitting distance of the audience, a reminder of the Academy’s two-tiered COVID-19 rules. Everyone in the audience must be vaccinated and tested (twice), but presenters and performers can opt for multiple tests instead.\n",
    "\n",
    "Other bits of entertainment will come from an embrace of films that are not nominated. There will be segments celebrating the 50th anniversary of “The Godfather,” the 60th birthday of Bond, and nods to some of the most popular movies of the last year. That will of course include the divisive decision to recognize the winners of Twitter popular movie polls, which was Packer and Cowan’s idea.\n",
    "\n",
    "The team said surprises will be plentiful. No, you shouldn’t assume that the presenter of Best Picture has already been revealed in the roster that includes Tony Hawk as well as other more traditional Hollywood figures. But one thing will be done the old way: in a revert from last year’s procedure, Best Picture will be handed out last.\n",
    "\"\"\""
   ]
  },
  {
   "cell_type": "code",
   "execution_count": null,
   "metadata": {
    "id": "ibbqBZga1SJa"
   },
   "outputs": [],
   "source": [
    "# Sports.\n",
    "\n",
    "Text_B09 = \"\"\"\n",
    "World Cup qualifiers: Portugal must respect North Macedonia as much as Italy, says coach\n",
    "North Macedonia will play the Portuguese in Porto on Tuesday with the winners advancing to this year's World Cup in Qatar.\n",
    "\n",
    "Portugal coach Fernando Santos said he warned many times that North Macedonia could shock Italy and he was proved right when they won their World Cup qualifying playoff semi-final 1-0 in Palermo on Thursday.\n",
    "\n",
    "North Macedonia will play the Portuguese in Porto on Tuesday after Portugal beat Turkey 3-1, with the winners advancing to this year’s World Cup in Qatar.\n",
    "\n",
    "“We need to show the same respect to North Macedonia that we would to Italy,” Santos told a news conference.\n",
    "\n",
    "“I told you before we could be playing them, those games are not a joke, it’s like a final and anything can happen. You have to face it with the focus and concentration that it deserves. A team that goes to Italy and beats the European champions doesn’t need introductions.”\n",
    "\n",
    "Portugal survived a nervy finale to move closer to the World Cup, with Turkey’s Burak Yilmaz missing a late penalty that could have forced extra time in a game they dominated in front of sold-out Dragao Stadium.Leading 2-0, Portugal let their opponents back into the match to the annoyance of their coach.”We can’t allow that to happen in a game we had under control, it’s a warning for next Tuesday,” Santos said.\n",
    "\n",
    "“Today’s game is over and we have to focus on the next rival that will give us the game of their lives for sure. We’ll need extra focus playing at home in front of our crowd. The motivation has to be our main goal, going to the World Cup.”\n",
    "\n",
    "After missing out on automatic qualification in November, Portugal would have expected to face Italy in a clash of the two last two European champions.\n",
    "\n",
    "“We can’t think it will be easy against North Macedonia,” Matheus Nunes told reporters after scoring the third Portuguese goal against Turkey.”Now we have to rest and work for the game plan. It’s a team that deserves all our respect. They went to Italy and won, you have to have quality to accomplish that.”\n",
    "\"\"\""
   ]
  },
  {
   "cell_type": "code",
   "execution_count": null,
   "metadata": {
    "colab": {
     "base_uri": "https://localhost:8080/"
    },
    "executionInfo": {
     "elapsed": 1471,
     "status": "ok",
     "timestamp": 1653469399389,
     "user": {
      "displayName": "Kalyana Varma Polapragada",
      "userId": "14326624661476973438"
     },
     "user_tz": -330
    },
    "id": "McNGYGEzuJBO",
    "outputId": "b11058d0-8898-4e59-b628-da8de7ea1325"
   },
   "outputs": [],
   "source": [
    "ListText_B = [Text_B01, Text_B02, Text_B03, Text_B04, Text_B05, Text_B06, Text_B07, Text_B08, Text_B09]\n",
    "Predictions_B = pd.Series(ListText_B).apply(lambda x : PredictText(ModelStack, x))\n",
    "\n",
    "Predictions_B"
   ]
  },
  {
   "cell_type": "code",
   "execution_count": null,
   "metadata": {
    "id": "K6G6VyduwUOy"
   },
   "outputs": [],
   "source": [
    "# Crime.\n",
    "\n",
    "Text_C01 = \"\"\"\n",
    "Crime Murder Kill Robbery\n",
    "\"\"\""
   ]
  },
  {
   "cell_type": "code",
   "execution_count": null,
   "metadata": {
    "id": "qkPmqOdLwr7R"
   },
   "outputs": [],
   "source": [
    "# Politics.\n",
    "\n",
    "Text_C02 = \"\"\"\n",
    "Politics Election President Federal\n",
    "\"\"\""
   ]
  },
  {
   "cell_type": "code",
   "execution_count": null,
   "metadata": {
    "id": "nV9S3WVbwrkG"
   },
   "outputs": [],
   "source": [
    "# Science.\n",
    "\n",
    "Text_C03 = \"\"\"\n",
    "Science Machine Inventor Technology\n",
    "\"\"\""
   ]
  },
  {
   "cell_type": "code",
   "execution_count": null,
   "metadata": {
    "colab": {
     "base_uri": "https://localhost:8080/"
    },
    "executionInfo": {
     "elapsed": 1113,
     "status": "ok",
     "timestamp": 1653469510558,
     "user": {
      "displayName": "Kalyana Varma Polapragada",
      "userId": "14326624661476973438"
     },
     "user_tz": -330
    },
    "id": "6zYJBR3RxD4O",
    "outputId": "cc931f5f-3be7-4d7f-ef5c-f0f15bae6e41"
   },
   "outputs": [],
   "source": [
    "ListText_C = [Text_C01, Text_C02, Text_C03]\n",
    "Predictions_C = pd.Series(ListText_C).apply(lambda x : PredictText(ModelStack, x))\n",
    "\n",
    "Predictions_C"
   ]
  },
  {
   "cell_type": "markdown",
   "metadata": {
    "id": "TPFVqMCYfJ6P"
   },
   "source": [
    "<font font size=\"6\" color=Orange>**Step-02(B): Managing the Data**</font>"
   ]
  },
  {
   "cell_type": "code",
   "execution_count": null,
   "metadata": {
    "id": "V28dMHOod7v9"
   },
   "outputs": [],
   "source": [
    "# \"\"\"\n",
    "# # Unmount the Google Drive from Google Colab.\n",
    "\n",
    "# # As we have done with the files in the Google drive,\n",
    "# # access to Google drive is no more required.\n",
    "# \"\"\"\n",
    "\n",
    "# from google.colab import drive\n",
    "# drive.flush_and_unmount()"
   ]
  }
 ],
 "metadata": {
  "colab": {
   "authorship_tag": "ABX9TyNhsG1Oa9e92M3aiCJvxcNT",
   "collapsed_sections": [],
   "name": "WF_Project#01.ipynb",
   "provenance": []
  },
  "kernelspec": {
   "display_name": "Python 3 (ipykernel)",
   "language": "python",
   "name": "python3"
  },
  "language_info": {
   "codemirror_mode": {
    "name": "ipython",
    "version": 3
   },
   "file_extension": ".py",
   "mimetype": "text/x-python",
   "name": "python",
   "nbconvert_exporter": "python",
   "pygments_lexer": "ipython3",
   "version": "3.10.2"
  }
 },
 "nbformat": 4,
 "nbformat_minor": 1
}
