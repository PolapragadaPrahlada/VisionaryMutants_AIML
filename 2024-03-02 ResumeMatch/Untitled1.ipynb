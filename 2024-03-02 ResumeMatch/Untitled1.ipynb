{
 "cells": [
  {
   "cell_type": "code",
   "execution_count": null,
   "id": "b28c5c58-01f0-4537-9f12-e33429e4d2ac",
   "metadata": {},
   "outputs": [],
   "source": [
    "import time\n",
    "import re\n",
    "import pandas as pd\n",
    "from selenium import webdriver\n",
    "from selenium.webdriver.common.by import By\n",
    "from selenium.webdriver.support.ui import WebDriverWait\n",
    "from selenium.webdriver.support import expected_conditions as EC\n",
    "from bs4 import BeautifulSoup"
   ]
  },
  {
   "cell_type": "code",
   "execution_count": null,
   "id": "0e52e4bb-acc0-4a66-ae3b-46aa84be8072",
   "metadata": {},
   "outputs": [],
   "source": [
    "# Initialize Selenium WebDriver\n",
    "driver = webdriver.Chrome()\n",
    "\n",
    "# Global variables to store job data\n",
    "job_data_list = []\n",
    "global_job_id = 1"
   ]
  },
  {
   "cell_type": "code",
   "execution_count": null,
   "id": "7ae15bb3-b5df-497e-9c34-e5b8d3e2996f",
   "metadata": {},
   "outputs": [],
   "source": [
    "def get_text(xpath):\n",
    "    try:\n",
    "        element = driver.find_element(By.XPATH, xpath)\n",
    "        text = element.text.strip()\n",
    "        return text\n",
    "    except:\n",
    "        return \"NA\""
   ]
  },
  {
   "cell_type": "code",
   "execution_count": null,
   "id": "4ca3b466-8064-4ca7-be37-5f3197ef4f0e",
   "metadata": {},
   "outputs": [],
   "source": [
    "def get_html(xpath):\n",
    "    try:\n",
    "        element = driver.find_element(By.XPATH, xpath)\n",
    "        html = element.get_attribute('innerHTML')\n",
    "        return html\n",
    "    except:\n",
    "        return \"NA\""
   ]
  },
  {
   "cell_type": "code",
   "execution_count": null,
   "id": "aa976bca-e9a8-498e-ade7-a7b0569996c4",
   "metadata": {},
   "outputs": [],
   "source": [
    "def extract_company_and_reviews(company_text):\n",
    "    reviews = \"NA\"\n",
    "    match = re.search(r'(\\d+\\.\\d+)\\s*Reviews', company_text)\n",
    "    if match:\n",
    "        reviews = match.group(1)\n",
    "        company_text = company_text.replace(match.group(0), \"\").strip()\n",
    "    return company_text, reviews"
   ]
  },
  {
   "cell_type": "code",
   "execution_count": null,
   "id": "f777eba9-182d-4907-a9c4-6cad637fc8ac",
   "metadata": {},
   "outputs": [],
   "source": [
    "def clean_key_skills(key_skills_html):\n",
    "    try:\n",
    "        soup = BeautifulSoup(key_skills_html, 'html.parser')\n",
    "        spans = soup.find_all('span')\n",
    "        skills_list = [span.get_text(strip=True) for span in spans]\n",
    "        formatted_skills = ', '.join(skills_list)\n",
    "        return formatted_skills\n",
    "    except Exception as e:\n",
    "        print(f\"Error cleaning key skills: {e}\")\n",
    "        return \"NA\""
   ]
  },
  {
   "cell_type": "code",
   "execution_count": null,
   "id": "48418b19-df45-423f-b1db-2e3e4b81662e",
   "metadata": {},
   "outputs": [],
   "source": [
    "def extract_job_details(job_element):\n",
    "    global global_job_id\n",
    "    try:\n",
    "        job_url = job_element.find_element(By.TAG_NAME, 'a').get_attribute('href')\n",
    "        driver.execute_script(\"window.open(arguments[0], '_blank');\", job_url)\n",
    "        driver.switch_to.window(driver.window_handles[-1])\n",
    "        WebDriverWait(driver, 15).until(EC.presence_of_element_located((By.CLASS_NAME, 'styles_job-header-container___0wLZ')))\n",
    "\n",
    "        job_title_text = get_text(\"//h1[contains(@class, 'styles_jd-header-title__rZwM1')]\")\n",
    "        company_text_raw = get_text(\"//div[contains(@class, 'styles_jd-header-comp-name__MvqAI')]\")\n",
    "        company_text, reviews_text = extract_company_and_reviews(company_text_raw)\n",
    "        location_text = get_text(\"//div[contains(@class, 'styles_jhc_loc__Du2H')]\")\n",
    "        experience_text = get_text(\"//div[contains(@class, 'styles_jhc_exp_k_giM')]\")\n",
    "        salary_text = get_text(\"//div[contains(@class, 'styles_jhc_salary_jdfEC')]\")\n",
    "\n",
    "        key_skills_html = get_html(\"//div[contains(@class, 'styles_key-skill_GIPn')]\")\n",
    "        key_skills_text = clean_key_skills(key_skills_html)\n",
    "\n",
    "        job_data_list.append({\n",
    "            \"Job ID\": global_job_id,\n",
    "            \"Job Title\": job_title_text,\n",
    "            \"Company\": company_text,\n",
    "            \"Reviews\": reviews_text,\n",
    "            \"Location\": location_text,\n",
    "            \"Experience\": experience_text,\n",
    "            \"Salary\": salary_text,\n",
    "            \"Key Skills\": key_skills_text\n",
    "        })\n",
    "\n",
    "        global_job_id += 1\n",
    "        driver.close()\n",
    "        driver.switch_to.window(driver.window_handles[0])\n",
    "    except Exception as e:\n",
    "        print(f\"Error processing job {global_job_id}: {e}\")\n",
    "        if len(driver.window_handles) > 1:\n",
    "            driver.close()\n",
    "            driver.switch_to.window(driver.window_handles[0])"
   ]
  },
  {
   "cell_type": "code",
   "execution_count": null,
   "id": "2f74f1b2-06b6-4659-8be2-28cfb6a8c305",
   "metadata": {},
   "outputs": [],
   "source": [
    "def scrape_jobs(url, job_count):\n",
    "    page_number = 1\n",
    "    total_jobs_collected = 0\n",
    "\n",
    "    while total_jobs_collected < job_count:\n",
    "        print(f\"Scraping page {page_number}...\")\n",
    "        current_url = url if page_number == 1 else f\"{url.rstrip('-')}-{page_number}\"\n",
    "        driver.get(current_url)\n",
    "        WebDriverWait(driver, 15).until(EC.presence_of_element_located((By.CLASS_NAME, \"srp-jobtuple-wrapper\")))\n",
    "\n",
    "        job_list = driver.find_elements(By.CLASS_NAME, \"srp-jobtuple-wrapper\")\n",
    "        if not job_list:\n",
    "            print(\"No more jobs found or page not loaded correctly.\")\n",
    "            break\n",
    "\n",
    "        for i in range(len(job_list)):\n",
    "            if total_jobs_collected >= job_count:\n",
    "                break\n",
    "            try:\n",
    "                job_element = job_list[i]\n",
    "                extract_job_details(job_element)\n",
    "                total_jobs_collected += 1\n",
    "                time.sleep(2)\n",
    "            except Exception as e:\n",
    "                print(f\"Error processing job element {total_jobs_collected + 1}: {e}\")\n",
    "\n",
    "        if total_jobs_collected < job_count:\n",
    "            page_number += 1\n",
    "            time.sleep(3)"
   ]
  },
  {
   "cell_type": "code",
   "execution_count": null,
   "id": "9d1ab036-09fe-4619-9111-8c79cd9524a8",
   "metadata": {},
   "outputs": [],
   "source": [
    "# Static input for job title and job count\n",
    "job_title = 'data-scientist'  # Change this to the job title you want to scrape\n",
    "job_count = 10  # Change this to the number of jobs you want to scrape\n",
    "job_url = f\"https://www.naukri.com/{job_title}-jobs\""
   ]
  },
  {
   "cell_type": "code",
   "execution_count": null,
   "id": "7be8fe82-f8f4-498a-a57e-b217047f6505",
   "metadata": {},
   "outputs": [],
   "source": [
    "scrape_jobs(job_url, job_count)"
   ]
  },
  {
   "cell_type": "code",
   "execution_count": null,
   "id": "5de73d6f-ee7e-4725-abef-0de51336e0e6",
   "metadata": {},
   "outputs": [],
   "source": [
    "# Save data to CSV\n",
    "df = pd.DataFrame(job_data_list)\n",
    "df.to_csv('scraped_jobs.csv', index=False, encoding='utf-8')\n",
    "driver.quit()\n",
    "\n",
    "print(f\"Scraping complete. Data saved to 'scraped_jobs.csv'.\")"
   ]
  },
  {
   "cell_type": "code",
   "execution_count": null,
   "id": "ecdfcb98-fe03-4a78-8224-00fdc685c636",
   "metadata": {},
   "outputs": [],
   "source": []
  }
 ],
 "metadata": {
  "kernelspec": {
   "display_name": "Python 3 (ipykernel)",
   "language": "python",
   "name": "python3"
  },
  "language_info": {
   "codemirror_mode": {
    "name": "ipython",
    "version": 3
   },
   "file_extension": ".py",
   "mimetype": "text/x-python",
   "name": "python",
   "nbconvert_exporter": "python",
   "pygments_lexer": "ipython3",
   "version": "3.10.11"
  }
 },
 "nbformat": 4,
 "nbformat_minor": 5
}
